{
  "nbformat": 4,
  "nbformat_minor": 0,
  "metadata": {
    "colab": {
      "name": "cda-2021-03-09-lecture.ipynb",
      "provenance": [],
      "collapsed_sections": [],
      "authorship_tag": "ABX9TyNBfjSW6TKmsO8U5WxnwO4u",
      "include_colab_link": true
    },
    "kernelspec": {
      "name": "ir",
      "display_name": "R"
    }
  },
  "cells": [
    {
      "cell_type": "markdown",
      "metadata": {
        "id": "view-in-github",
        "colab_type": "text"
      },
      "source": [
        "<a href=\"https://colab.research.google.com/github/DepartmentOfStatisticsPUE/cda-2021/blob/main/notebooks/cda_2021_03_09_lecture.ipynb\" target=\"_parent\"><img src=\"https://colab.research.google.com/assets/colab-badge.svg\" alt=\"Open In Colab\"/></a>"
      ]
    },
    {
      "cell_type": "code",
      "metadata": {
        "colab": {
          "base_uri": "https://localhost:8080/"
        },
        "id": "iJaIVeye7GzF",
        "outputId": "74c26c8b-f598-46ca-bb41-a0de3b372498"
      },
      "source": [
        "a <- 1:10\n",
        "print(a)"
      ],
      "execution_count": 1,
      "outputs": [
        {
          "output_type": "stream",
          "text": [
            " [1]  1  2  3  4  5  6  7  8  9 10\n"
          ],
          "name": "stdout"
        }
      ]
    },
    {
      "cell_type": "code",
      "metadata": {
        "colab": {
          "base_uri": "https://localhost:8080/",
          "height": 34
        },
        "id": "v81uctnb8kR9",
        "outputId": "419f340d-eb52-496c-fe2a-e970eb1b91ec"
      },
      "source": [
        "a*2+1"
      ],
      "execution_count": 3,
      "outputs": [
        {
          "output_type": "display_data",
          "data": {
            "text/plain": [
              " [1]  3  5  7  9 11 13 15 17 19 21"
            ],
            "text/latex": "\\begin{enumerate*}\n\\item 3\n\\item 5\n\\item 7\n\\item 9\n\\item 11\n\\item 13\n\\item 15\n\\item 17\n\\item 19\n\\item 21\n\\end{enumerate*}\n",
            "text/markdown": "1. 3\n2. 5\n3. 7\n4. 9\n5. 11\n6. 13\n7. 15\n8. 17\n9. 19\n10. 21\n\n\n",
            "text/html": [
              "<style>\n",
              ".list-inline {list-style: none; margin:0; padding: 0}\n",
              ".list-inline>li {display: inline-block}\n",
              ".list-inline>li:not(:last-child)::after {content: \"\\00b7\"; padding: 0 .5ex}\n",
              "</style>\n",
              "<ol class=list-inline><li>3</li><li>5</li><li>7</li><li>9</li><li>11</li><li>13</li><li>15</li><li>17</li><li>19</li><li>21</li></ol>\n"
            ]
          },
          "metadata": {
            "tags": []
          }
        }
      ]
    },
    {
      "cell_type": "markdown",
      "metadata": {
        "id": "LjScjaSW80nI"
      },
      "source": [
        "This is normal text and I can use it to comment my code and write answers."
      ]
    },
    {
      "cell_type": "markdown",
      "metadata": {
        "id": "XcKPOHPi-KoA"
      },
      "source": [
        "## Excercise 1 \n",
        "\n",
        "Assume that football player with success rate 0.4 shot 10 times on goal.Let X be a random variable denoting number of successful scores. Please find\n",
        "\n",
        "+ Distribution of X \n",
        "+ Probability that football player score exactly 4 times (P(X=4))\n",
        "+ Probability that football player score at least 7 times (P(X>=7) = 1−P(X<=6))"
      ]
    },
    {
      "cell_type": "markdown",
      "metadata": {
        "id": "WoFkgO2u-qtc"
      },
      "source": [
        "Point 1. Distribution of X? \n",
        "\n",
        "P(X=0), P(X=1), P(X=2),....,P(X=10)"
      ]
    },
    {
      "cell_type": "code",
      "metadata": {
        "colab": {
          "base_uri": "https://localhost:8080/",
          "height": 34
        },
        "id": "N2RHq7Cl-Zvp",
        "outputId": "77fbb8dc-e3ad-4c8a-ed52-0d9e04df42ef"
      },
      "source": [
        "dbinom(x = 0, size = 10, prob = 0.4) ## P(X = 0)"
      ],
      "execution_count": 4,
      "outputs": [
        {
          "output_type": "display_data",
          "data": {
            "text/plain": [
              "[1] 0.006046618"
            ],
            "text/latex": "0.0060466176",
            "text/markdown": "0.0060466176",
            "text/html": [
              "0.0060466176"
            ]
          },
          "metadata": {
            "tags": []
          }
        }
      ]
    },
    {
      "cell_type": "code",
      "metadata": {
        "colab": {
          "base_uri": "https://localhost:8080/",
          "height": 419
        },
        "id": "dHJkkx8M_kJC",
        "outputId": "01aff97b-cf5f-4fd2-cf77-3ae108009f9e"
      },
      "source": [
        "data.frame(x = 0:10, p_i = dbinom(x = 0:10, size = 10, prob = 0.4))"
      ],
      "execution_count": 6,
      "outputs": [
        {
          "output_type": "display_data",
          "data": {
            "text/plain": [
              "   x  p_i         \n",
              "1   0 0.0060466176\n",
              "2   1 0.0403107840\n",
              "3   2 0.1209323520\n",
              "4   3 0.2149908480\n",
              "5   4 0.2508226560\n",
              "6   5 0.2006581248\n",
              "7   6 0.1114767360\n",
              "8   7 0.0424673280\n",
              "9   8 0.0106168320\n",
              "10  9 0.0015728640\n",
              "11 10 0.0001048576"
            ],
            "text/latex": "A data.frame: 11 × 2\n\\begin{tabular}{ll}\n x & p\\_i\\\\\n <int> & <dbl>\\\\\n\\hline\n\t  0 & 0.0060466176\\\\\n\t  1 & 0.0403107840\\\\\n\t  2 & 0.1209323520\\\\\n\t  3 & 0.2149908480\\\\\n\t  4 & 0.2508226560\\\\\n\t  5 & 0.2006581248\\\\\n\t  6 & 0.1114767360\\\\\n\t  7 & 0.0424673280\\\\\n\t  8 & 0.0106168320\\\\\n\t  9 & 0.0015728640\\\\\n\t 10 & 0.0001048576\\\\\n\\end{tabular}\n",
            "text/markdown": "\nA data.frame: 11 × 2\n\n| x &lt;int&gt; | p_i &lt;dbl&gt; |\n|---|---|\n|  0 | 0.0060466176 |\n|  1 | 0.0403107840 |\n|  2 | 0.1209323520 |\n|  3 | 0.2149908480 |\n|  4 | 0.2508226560 |\n|  5 | 0.2006581248 |\n|  6 | 0.1114767360 |\n|  7 | 0.0424673280 |\n|  8 | 0.0106168320 |\n|  9 | 0.0015728640 |\n| 10 | 0.0001048576 |\n\n",
            "text/html": [
              "<table class=\"dataframe\">\n",
              "<caption>A data.frame: 11 × 2</caption>\n",
              "<thead>\n",
              "\t<tr><th scope=col>x</th><th scope=col>p_i</th></tr>\n",
              "\t<tr><th scope=col>&lt;int&gt;</th><th scope=col>&lt;dbl&gt;</th></tr>\n",
              "</thead>\n",
              "<tbody>\n",
              "\t<tr><td> 0</td><td>0.0060466176</td></tr>\n",
              "\t<tr><td> 1</td><td>0.0403107840</td></tr>\n",
              "\t<tr><td> 2</td><td>0.1209323520</td></tr>\n",
              "\t<tr><td> 3</td><td>0.2149908480</td></tr>\n",
              "\t<tr><td> 4</td><td>0.2508226560</td></tr>\n",
              "\t<tr><td> 5</td><td>0.2006581248</td></tr>\n",
              "\t<tr><td> 6</td><td>0.1114767360</td></tr>\n",
              "\t<tr><td> 7</td><td>0.0424673280</td></tr>\n",
              "\t<tr><td> 8</td><td>0.0106168320</td></tr>\n",
              "\t<tr><td> 9</td><td>0.0015728640</td></tr>\n",
              "\t<tr><td>10</td><td>0.0001048576</td></tr>\n",
              "</tbody>\n",
              "</table>\n"
            ]
          },
          "metadata": {
            "tags": []
          }
        }
      ]
    },
    {
      "cell_type": "markdown",
      "metadata": {
        "id": "8qcpFZ_4B69y"
      },
      "source": [
        "Probability of scoring exactly 4 times (P(X=4)) is"
      ]
    },
    {
      "cell_type": "code",
      "metadata": {
        "colab": {
          "base_uri": "https://localhost:8080/",
          "height": 34
        },
        "id": "ExwbZm1nBAGs",
        "outputId": "a359b86b-7360-4156-db3c-d2605ab3c757"
      },
      "source": [
        "dbinom(x = 4, size = 10, prob = 0.4)"
      ],
      "execution_count": 7,
      "outputs": [
        {
          "output_type": "display_data",
          "data": {
            "text/plain": [
              "[1] 0.2508227"
            ],
            "text/latex": "0.250822656",
            "text/markdown": "0.250822656",
            "text/html": [
              "0.250822656"
            ]
          },
          "metadata": {
            "tags": []
          }
        }
      ]
    },
    {
      "cell_type": "markdown",
      "metadata": {
        "id": "OLMjsAbtB1rs"
      },
      "source": [
        "Probability of scoring at least 7 times (P(X >= 7)) is "
      ]
    },
    {
      "cell_type": "code",
      "metadata": {
        "colab": {
          "base_uri": "https://localhost:8080/",
          "height": 34
        },
        "id": "5ON_9qspBdAS",
        "outputId": "ee58461a-85ef-4399-f231-ed69eee724b3"
      },
      "source": [
        "1 - pbinom(q = 6, size = 10, prob = 0.4)"
      ],
      "execution_count": 10,
      "outputs": [
        {
          "output_type": "display_data",
          "data": {
            "text/plain": [
              "[1] 0.05476188"
            ],
            "text/latex": "0.0547618816000001",
            "text/markdown": "0.0547618816000001",
            "text/html": [
              "0.0547618816000001"
            ]
          },
          "metadata": {
            "tags": []
          }
        }
      ]
    },
    {
      "cell_type": "markdown",
      "metadata": {
        "id": "cD1lMzjnCldV"
      },
      "source": [
        "## Exercise 2 \n",
        "\n",
        "Number of car accidents in one day in some city follows Poisson distribution with expected value $\\lambda=2$. Find the probability that at most 4 car accidents happen.\n",
        "\n",
        "P(X <= 4) = P(X=0)+P(X=1)+P(X=2)+P(X=3)+P(X=4)"
      ]
    },
    {
      "cell_type": "code",
      "metadata": {
        "colab": {
          "base_uri": "https://localhost:8080/",
          "height": 34
        },
        "id": "J-R5oX8rCq8R",
        "outputId": "aa2aa382-7a6d-4a21-c88f-f23b914477b9"
      },
      "source": [
        "ppois(q = 4, lambda = 2)"
      ],
      "execution_count": 13,
      "outputs": [
        {
          "output_type": "display_data",
          "data": {
            "text/plain": [
              "[1] 0.947347"
            ],
            "text/latex": "0.947346982656289",
            "text/markdown": "0.947346982656289",
            "text/html": [
              "0.947346982656289"
            ]
          },
          "metadata": {
            "tags": []
          }
        }
      ]
    },
    {
      "cell_type": "code",
      "metadata": {
        "colab": {
          "base_uri": "https://localhost:8080/",
          "height": 34
        },
        "id": "Jt8-sYClE2nc",
        "outputId": "092471f6-9173-46ff-81b9-0c64c0409c79"
      },
      "source": [
        "ppois(4, 2)"
      ],
      "execution_count": 14,
      "outputs": [
        {
          "output_type": "display_data",
          "data": {
            "text/plain": [
              "[1] 0.947347"
            ],
            "text/latex": "0.947346982656289",
            "text/markdown": "0.947346982656289",
            "text/html": [
              "0.947346982656289"
            ]
          },
          "metadata": {
            "tags": []
          }
        }
      ]
    },
    {
      "cell_type": "markdown",
      "metadata": {
        "id": "xj9nbtTzEe3k"
      },
      "source": [
        "Probability that at most 4 car accidents will happen it this city is equal to 94.73%"
      ]
    },
    {
      "cell_type": "markdown",
      "metadata": {
        "id": "qvxfX2lzGitg"
      },
      "source": [
        "## Pseudo-Random numbers in R\n",
        "\n",
        "$$\n",
        "\\begin{cases}\n",
        "X_1 & \\sim N(4, 1.5)  \\\\\n",
        "X_2 & \\sim Exp(1) \\\\\n",
        "\\epsilon & \\sim N(0,1) \n",
        "\\end{cases}\n",
        "$$\n",
        "\n",
        "We will calculate the following variable\n",
        "\n",
        "$$\n",
        "Y = 2 + 2.5*X_1 - 3*X_2 + \\epsilon\n",
        "$$"
      ]
    },
    {
      "cell_type": "code",
      "metadata": {
        "colab": {
          "base_uri": "https://localhost:8080/",
          "height": 34
        },
        "id": "n9dDp76HHEFY",
        "outputId": "bf726cc8-6a2e-4877-cf25-60aeeceecde4"
      },
      "source": [
        "set.seed(1)\n",
        "N <- 100000\n",
        "x1 <- rnorm(N, 4,  1.5) ## random variable from normal dist\n",
        "x2 <- rexp(N, 1) ## random variable from exp dist\n",
        "epsilon <- rnorm(N) ## random variable from normal dist\n",
        "Y <- 2 + 2.5*x1 - 3*x2 + epsilon\n",
        "head(Y)"
      ],
      "execution_count": 17,
      "outputs": [
        {
          "output_type": "display_data",
          "data": {
            "text/plain": [
              "[1]  8.068432 13.117475  7.945739 16.429954 11.839728  9.202053"
            ],
            "text/latex": "\\begin{enumerate*}\n\\item 8.06843241315103\n\\item 13.1174748159599\n\\item 7.94573906462731\n\\item 16.4299536012842\n\\item 11.8397279698697\n\\item 9.2020526765111\n\\end{enumerate*}\n",
            "text/markdown": "1. 8.06843241315103\n2. 13.1174748159599\n3. 7.94573906462731\n4. 16.4299536012842\n5. 11.8397279698697\n6. 9.2020526765111\n\n\n",
            "text/html": [
              "<style>\n",
              ".list-inline {list-style: none; margin:0; padding: 0}\n",
              ".list-inline>li {display: inline-block}\n",
              ".list-inline>li:not(:last-child)::after {content: \"\\00b7\"; padding: 0 .5ex}\n",
              "</style>\n",
              "<ol class=list-inline><li>8.06843241315103</li><li>13.1174748159599</li><li>7.94573906462731</li><li>16.4299536012842</li><li>11.8397279698697</li><li>9.2020526765111</li></ol>\n"
            ]
          },
          "metadata": {
            "tags": []
          }
        }
      ]
    },
    {
      "cell_type": "markdown",
      "metadata": {
        "id": "YbaaaEsSJgDS"
      },
      "source": [
        "Lets assume that probability of success is generated from the following function (it is called logit or logistic function)\n",
        "\n",
        "$$\n",
        "p = \\frac{\\exp(1 + 0.5*X_1 + 1*X_2)}{1 + \\exp(1 + 0.5*X_1 + 1*X_2)}\n",
        "$$\n",
        "\n",
        "or\n",
        "\n",
        "$$\n",
        "logit(p) = 1 + 0.5*X_1 + 1*X_2\n",
        "$$\n",
        "\n",
        "where $X_1$ and $X_2$ are the same as above and then we generate variable $Y_2$ from Bernoulli distribution with $p$ as a parameter\n",
        "\n",
        "$$\n",
        "Y_2 \\sim Bern(p)\n",
        "$$\n"
      ]
    },
    {
      "cell_type": "code",
      "metadata": {
        "colab": {
          "base_uri": "https://localhost:8080/",
          "height": 437
        },
        "id": "A46WrhgeKB8s",
        "outputId": "260cbe94-7275-4319-9fbb-01a798ea9623"
      },
      "source": [
        "## we generate p according to the model above\n",
        "p <- exp(1 + 0.5*x1 + 1*x2) / (1 + exp(1 + 0.5*x1 + 1*x2))\n",
        "\n",
        "## plot p distribution\n",
        "hist(p)\n"
      ],
      "execution_count": 25,
      "outputs": [
        {
          "output_type": "display_data",
          "data": {
            "image/png": "[encoded data removed]",
            "text/plain": [
              "Plot with title “Histogram of p”"
            ]
          },
          "metadata": {
            "tags": [],
            "image/png": {
              "width": 420,
              "height": 420
            }
          }
        }
      ]
    },
    {
      "cell_type": "code",
      "metadata": {
        "colab": {
          "base_uri": "https://localhost:8080/",
          "height": 101
        },
        "id": "deoOPWxqMa90",
        "outputId": "54a4e837-2c81-45e9-dbc6-186952104e5f"
      },
      "source": [
        "## we generate data from binomial distribution\n",
        "set.seed(1)\n",
        "Y_2 <- rbinom(n = length(p), size = 1, prob = p)\n",
        "\n",
        "## we are checking the characteristics\n",
        "length(Y_2)\n",
        "table(Y_2)\n",
        "\n",
        "## compare known (true) average of p with empirical p (ep - expected p)\n",
        "c(p = mean(p), ep = mean(Y_2))"
      ],
      "execution_count": 26,
      "outputs": [
        {
          "output_type": "display_data",
          "data": {
            "text/plain": [
              "[1] 100000"
            ],
            "text/latex": "100000",
            "text/markdown": "100000",
            "text/html": [
              "100000"
            ]
          },
          "metadata": {
            "tags": []
          }
        },
        {
          "output_type": "display_data",
          "data": {
            "text/plain": [
              "Y_2\n",
              "    0     1 \n",
              " 3171 96829 "
            ]
          },
          "metadata": {
            "tags": []
          }
        },
        {
          "output_type": "display_data",
          "data": {
            "text/plain": [
              "        p        ep \n",
              "0.9691425 0.9682900 "
            ],
            "text/latex": "\\begin{description*}\n\\item[p] 0.969142534649592\n\\item[ep] 0.96829\n\\end{description*}\n",
            "text/markdown": "p\n:   0.969142534649592ep\n:   0.96829\n\n",
            "text/html": [
              "<style>\n",
              ".dl-inline {width: auto; margin:0; padding: 0}\n",
              ".dl-inline>dt, .dl-inline>dd {float: none; width: auto; display: inline-block}\n",
              ".dl-inline>dt::after {content: \":\\0020\"; padding-right: .5ex}\n",
              ".dl-inline>dt:not(:first-of-type) {padding-left: .5ex}\n",
              "</style><dl class=dl-inline><dt>p</dt><dd>0.969142534649592</dd><dt>ep</dt><dd>0.96829</dd></dl>\n"
            ]
          },
          "metadata": {
            "tags": []
          }
        }
      ]
    },
    {
      "cell_type": "markdown",
      "metadata": {
        "id": "C64awslqNELO"
      },
      "source": [
        "Lets assume that we have 100 days in a year and we would like to generate for each day numer of accidents according to Poisson distribution with $\\lambda=2$. "
      ]
    },
    {
      "cell_type": "code",
      "metadata": {
        "colab": {
          "base_uri": "https://localhost:8080/",
          "height": 67
        },
        "id": "XIXGwgdWNWP2",
        "outputId": "827480c3-6564-475a-8341-85a45e00b94e"
      },
      "source": [
        "set.seed(123)\n",
        "days_accidents <- rpois(n = 100, lambda = 2)\n",
        "table(days_accidents) "
      ],
      "execution_count": 27,
      "outputs": [
        {
          "output_type": "display_data",
          "data": {
            "text/plain": [
              "days_accidents\n",
              " 0  1  2  3  4  5  6 \n",
              "13 26 29 17 10  3  2 "
            ]
          },
          "metadata": {
            "tags": []
          }
        }
      ]
    },
    {
      "cell_type": "code",
      "metadata": {
        "colab": {
          "base_uri": "https://localhost:8080/",
          "height": 34
        },
        "id": "GjAlxyrGN-iY",
        "outputId": "0cba3a27-afed-4f77-d069-165fc6cf01e3"
      },
      "source": [
        "mean(days_accidents)"
      ],
      "execution_count": 28,
      "outputs": [
        {
          "output_type": "display_data",
          "data": {
            "text/plain": [
              "[1] 2.02"
            ],
            "text/latex": "2.02",
            "text/markdown": "2.02",
            "text/html": [
              "2.02"
            ]
          },
          "metadata": {
            "tags": []
          }
        }
      ]
    }
  ]
}