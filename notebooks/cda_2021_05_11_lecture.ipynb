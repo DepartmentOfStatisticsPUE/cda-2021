{
  "nbformat": 4,
  "nbformat_minor": 0,
  "metadata": {
    "colab": {
      "name": "cda_2021_05_11_lecture.ipynb",
      "provenance": [],
      "collapsed_sections": [],
      "authorship_tag": "ABX9TyPxhK6IJUAfU12HWI7m3HHj",
      "include_colab_link": true
    },
    "kernelspec": {
      "name": "ir",
      "display_name": "R"
    },
    "language_info": {
      "name": "R"
    }
  },
  "cells": [
    {
      "cell_type": "markdown",
      "metadata": {
        "id": "view-in-github",
        "colab_type": "text"
      },
      "source": [
        "<a href=\"https://colab.research.google.com/github/DepartmentOfStatisticsPUE/cda-2021/blob/main/notebooks/cda_2021_05_11_lecture.ipynb\" target=\"_parent\"><img src=\"https://colab.research.google.com/assets/colab-badge.svg\" alt=\"Open In Colab\"/></a>"
      ]
    },
    {
      "cell_type": "markdown",
      "metadata": {
        "id": "u0n3SiNHNMIR"
      },
      "source": [
        "In GLM with binary variable $Y$ we may use logit link function which leads to logistic regression given by the following equation:\n",
        "\n",
        "$$\n",
        "E(y_i | \\mathbf{x}_i) = Pr(y_i = 1 | \\mathbf{x}_i) = \\frac{\\exp(\\mathbf{x}_i^T\\mathbf{\\beta})}{1 + \\exp(\\mathbf{x}_i^T\\mathbf{\\beta})},\n",
        "$$\n",
        "\n",
        "and then if we use logit transformation\n",
        "\n",
        "$$\n",
        "logit(Pr(y_i = 1 | \\mathbf{x}_i)) = \\mathbf{x}_i^T\\mathbf{\\beta}.\n",
        "$$\n",
        "\n",
        "During this lecture I will use `logistic regression` term for `GLM with logit link`. On the contrary, `GLM with probit link` is often called `probit regression`."
      ]
    },
    {
      "cell_type": "markdown",
      "metadata": {
        "id": "s-GP9oUNO_SV"
      },
      "source": [
        "Load the `tidyverse` package."
      ]
    },
    {
      "cell_type": "code",
      "metadata": {
        "id": "nydcnxVYNFJ9"
      },
      "source": [
        "library(tidyverse)"
      ],
      "execution_count": 3,
      "outputs": []
    },
    {
      "cell_type": "code",
      "metadata": {
        "colab": {
          "base_uri": "https://localhost:8080/",
          "height": 275
        },
        "id": "B2HjvArLO-YW",
        "outputId": "76359f9e-0550-4e3e-d57f-a60bdb351194"
      },
      "source": [
        "df <- readRDS(\"data_for_lecture.rds\") %>%\n",
        "    mutate_at(vars(locality, woj, gender), as.factor)\n",
        "    \n",
        "head(df)"
      ],
      "execution_count": 4,
      "outputs": [
        {
          "output_type": "display_data",
          "data": {
            "text/plain": [
              "  respid cluster locality gmina  woj gender age status status_detail\n",
              "1 30     3       3        202011 1   0      47  1      1            \n",
              "2 33     3       3        202011 1   0      47  1      1            \n",
              "3 27     3       3        202011 1   0      47  0      3            \n",
              "4 28     3       3        202011 1   0      47  0      3            \n",
              "5 29     3       3        202011 1   0      47  0      3            \n",
              "6 31     3       3        202011 1   0      47  0      2            "
            ],
            "text/latex": "A tibble: 6 × 9\n\\begin{tabular}{lllllllll}\n respid & cluster & locality & gmina & woj & gender & age & status & status\\_detail\\\\\n <dbl> & <dbl> & <fct> & <dbl+lbl> & <fct> & <fct> & <dbl> & <dbl+lbl> & <dbl+lbl>\\\\\n\\hline\n\t 30 & 3 & 3 & 202011 & 1 & 0 & 47 & 1 & 1\\\\\n\t 33 & 3 & 3 & 202011 & 1 & 0 & 47 & 1 & 1\\\\\n\t 27 & 3 & 3 & 202011 & 1 & 0 & 47 & 0 & 3\\\\\n\t 28 & 3 & 3 & 202011 & 1 & 0 & 47 & 0 & 3\\\\\n\t 29 & 3 & 3 & 202011 & 1 & 0 & 47 & 0 & 3\\\\\n\t 31 & 3 & 3 & 202011 & 1 & 0 & 47 & 0 & 2\\\\\n\\end{tabular}\n",
            "text/markdown": "\nA tibble: 6 × 9\n\n| respid &lt;dbl&gt; | cluster &lt;dbl&gt; | locality &lt;fct&gt; | gmina &lt;dbl+lbl&gt; | woj &lt;fct&gt; | gender &lt;fct&gt; | age &lt;dbl&gt; | status &lt;dbl+lbl&gt; | status_detail &lt;dbl+lbl&gt; |\n|---|---|---|---|---|---|---|---|---|\n| 30 | 3 | 3 | 202011 | 1 | 0 | 47 | 1 | 1 |\n| 33 | 3 | 3 | 202011 | 1 | 0 | 47 | 1 | 1 |\n| 27 | 3 | 3 | 202011 | 1 | 0 | 47 | 0 | 3 |\n| 28 | 3 | 3 | 202011 | 1 | 0 | 47 | 0 | 3 |\n| 29 | 3 | 3 | 202011 | 1 | 0 | 47 | 0 | 3 |\n| 31 | 3 | 3 | 202011 | 1 | 0 | 47 | 0 | 2 |\n\n",
            "text/html": [
              "<table class=\"dataframe\">\n",
              "<caption>A tibble: 6 × 9</caption>\n",
              "<thead>\n",
              "\t<tr><th scope=col>respid</th><th scope=col>cluster</th><th scope=col>locality</th><th scope=col>gmina</th><th scope=col>woj</th><th scope=col>gender</th><th scope=col>age</th><th scope=col>status</th><th scope=col>status_detail</th></tr>\n",
              "\t<tr><th scope=col>&lt;dbl&gt;</th><th scope=col>&lt;dbl&gt;</th><th scope=col>&lt;fct&gt;</th><th scope=col>&lt;dbl+lbl&gt;</th><th scope=col>&lt;fct&gt;</th><th scope=col>&lt;fct&gt;</th><th scope=col>&lt;dbl&gt;</th><th scope=col>&lt;dbl+lbl&gt;</th><th scope=col>&lt;dbl+lbl&gt;</th></tr>\n",
              "</thead>\n",
              "<tbody>\n",
              "\t<tr><td>30</td><td>3</td><td>3</td><td>202011</td><td>1</td><td>0</td><td>47</td><td>1</td><td>1</td></tr>\n",
              "\t<tr><td>33</td><td>3</td><td>3</td><td>202011</td><td>1</td><td>0</td><td>47</td><td>1</td><td>1</td></tr>\n",
              "\t<tr><td>27</td><td>3</td><td>3</td><td>202011</td><td>1</td><td>0</td><td>47</td><td>0</td><td>3</td></tr>\n",
              "\t<tr><td>28</td><td>3</td><td>3</td><td>202011</td><td>1</td><td>0</td><td>47</td><td>0</td><td>3</td></tr>\n",
              "\t<tr><td>29</td><td>3</td><td>3</td><td>202011</td><td>1</td><td>0</td><td>47</td><td>0</td><td>3</td></tr>\n",
              "\t<tr><td>31</td><td>3</td><td>3</td><td>202011</td><td>1</td><td>0</td><td>47</td><td>0</td><td>2</td></tr>\n",
              "</tbody>\n",
              "</table>\n"
            ]
          },
          "metadata": {
            "tags": []
          }
        }
      ]
    },
    {
      "cell_type": "markdown",
      "metadata": {
        "id": "871tTtRCQ1kd"
      },
      "source": [
        "Let's build a model using `glm` function. If the speed is crucial, e.g. due to size of the data, we can use package called `speedglm`."
      ]
    },
    {
      "cell_type": "code",
      "metadata": {
        "colab": {
          "base_uri": "https://localhost:8080/",
          "height": 415
        },
        "id": "3Z5O0_0WQ4xa",
        "outputId": "54a3a57f-7682-472c-ae5c-61c727ad0a5b"
      },
      "source": [
        "model1 <- glm(formula = status ~ gender, data = df, family = binomial(link = \"logit\"))\n",
        "summary(model1)"
      ],
      "execution_count": 5,
      "outputs": [
        {
          "output_type": "display_data",
          "data": {
            "text/plain": [
              "\n",
              "Call:\n",
              "glm(formula = status ~ gender, family = binomial(link = \"logit\"), \n",
              "    data = df)\n",
              "\n",
              "Deviance Residuals: \n",
              "    Min       1Q   Median       3Q      Max  \n",
              "-0.9609  -0.9609  -0.9148   1.4106   1.4651  \n",
              "\n",
              "Coefficients:\n",
              "            Estimate Std. Error z value Pr(>|z|)    \n",
              "(Intercept) -0.65479    0.03154  -20.76  < 2e-16 ***\n",
              "gender1      0.12165    0.04028    3.02  0.00253 ** \n",
              "---\n",
              "Signif. codes:  0 ‘***’ 0.001 ‘**’ 0.01 ‘*’ 0.05 ‘.’ 0.1 ‘ ’ 1\n",
              "\n",
              "(Dispersion parameter for binomial family taken to be 1)\n",
              "\n",
              "    Null deviance: 14751  on 11299  degrees of freedom\n",
              "Residual deviance: 14742  on 11298  degrees of freedom\n",
              "AIC: 14746\n",
              "\n",
              "Number of Fisher Scoring iterations: 4\n"
            ]
          },
          "metadata": {
            "tags": []
          }
        }
      ]
    },
    {
      "cell_type": "markdown",
      "metadata": {
        "id": "eAFD6YuLSEU-"
      },
      "source": [
        "Table `Coefficients` reports the linear part i.e. $\\hat{\\mathbf{\\beta}}$. So, we may write the model:\n",
        "\n",
        "$$\n",
        "Pr(\\text{Status} = 1 | \\text{gender}) = \\frac{\\exp(-0.65 + 0.12 \\times \\text{Women}) }{1 + \\exp(-0.65 + 0.12 \\times \\text{Women})}.\n",
        "$$"
      ]
    },
    {
      "cell_type": "markdown",
      "metadata": {
        "id": "bOmdW0gmUz7e"
      },
      "source": [
        "In order to interpret results of logistic regression we should calculate odds ratio which can be done by just using $\\exp(\\mathbf{\\beta})$."
      ]
    },
    {
      "cell_type": "code",
      "metadata": {
        "colab": {
          "base_uri": "https://localhost:8080/"
        },
        "id": "CpvKcOIqShUt",
        "outputId": "735d6950-194a-4636-bc1a-5d6a3f33368d"
      },
      "source": [
        "print(exp(coef(model1)))"
      ],
      "execution_count": 6,
      "outputs": [
        {
          "output_type": "stream",
          "text": [
            "(Intercept)     gender1 \n",
            "  0.5195512   1.1293586 \n"
          ],
          "name": "stdout"
        }
      ]
    },
    {
      "cell_type": "markdown",
      "metadata": {
        "id": "snGMQn1pVp9V"
      },
      "source": [
        "Interpretation of `1.129`:\n",
        "\n",
        "+ This value informs that probability that women will participate in the survey is 1.13 higher than the probability that male will participate in the survey.\n",
        "+ Another interpretation: for 100 males, we will have 113 females that participate in the survey."
      ]
    },
    {
      "cell_type": "markdown",
      "metadata": {
        "id": "ScBE0hg4Wivw"
      },
      "source": [
        "Now, let's update our model and include other variables."
      ]
    },
    {
      "cell_type": "code",
      "metadata": {
        "colab": {
          "base_uri": "https://localhost:8080/",
          "height": 484
        },
        "id": "W_ZETnNSWm83",
        "outputId": "bfa3f280-809f-4209-e7f8-f936cbb35e11"
      },
      "source": [
        "model2 <- update(model1,  . ~ . + age + locality)\n",
        "summary(model2)"
      ],
      "execution_count": 7,
      "outputs": [
        {
          "output_type": "display_data",
          "data": {
            "text/plain": [
              "\n",
              "Call:\n",
              "glm(formula = status ~ gender + age + locality, family = binomial(link = \"logit\"), \n",
              "    data = df)\n",
              "\n",
              "Deviance Residuals: \n",
              "    Min       1Q   Median       3Q      Max  \n",
              "-1.1720  -0.9316  -0.8192   1.2781   1.7640  \n",
              "\n",
              "Coefficients:\n",
              "             Estimate Std. Error z value Pr(>|z|)    \n",
              "(Intercept) -0.633509   0.089013  -7.117 1.10e-12 ***\n",
              "gender1      0.183999   0.041133   4.473 7.70e-06 ***\n",
              "age          0.006152   0.001461   4.212 2.53e-05 ***\n",
              "locality2   -0.475442   0.057503  -8.268  < 2e-16 ***\n",
              "locality3   -0.597314   0.055034 -10.854  < 2e-16 ***\n",
              "locality4   -0.808302   0.052366 -15.436  < 2e-16 ***\n",
              "---\n",
              "Signif. codes:  0 ‘***’ 0.001 ‘**’ 0.01 ‘*’ 0.05 ‘.’ 0.1 ‘ ’ 1\n",
              "\n",
              "(Dispersion parameter for binomial family taken to be 1)\n",
              "\n",
              "    Null deviance: 14751  on 11299  degrees of freedom\n",
              "Residual deviance: 14437  on 11294  degrees of freedom\n",
              "AIC: 14449\n",
              "\n",
              "Number of Fisher Scoring iterations: 4\n"
            ]
          },
          "metadata": {
            "tags": []
          }
        }
      ]
    },
    {
      "cell_type": "markdown",
      "metadata": {
        "id": "Gy0Ov5u6X4Fz"
      },
      "source": [
        "Let's, transform parameters and calculate 95% confidence intervals."
      ]
    },
    {
      "cell_type": "code",
      "metadata": {
        "colab": {
          "base_uri": "https://localhost:8080/",
          "height": 310
        },
        "id": "SBLLHh9JX-QM",
        "outputId": "e0e829e0-4c9b-4086-bf72-f23c15dc8dde"
      },
      "source": [
        "exp_betas <- exp(coef(model2))\n",
        "exp_betas_ci <- exp(confint(model2))\n",
        "exp_df <- data.frame(exp_betas, exp_betas_ci)\n",
        "colnames(exp_df) <- c(\"exp\", \"exp_lo\", \"exp_hi\")\n",
        "exp_df"
      ],
      "execution_count": 8,
      "outputs": [
        {
          "output_type": "stream",
          "text": [
            "Waiting for profiling to be done...\n",
            "\n"
          ],
          "name": "stderr"
        },
        {
          "output_type": "display_data",
          "data": {
            "text/plain": [
              "            exp       exp_lo    exp_hi   \n",
              "(Intercept) 0.5307264 0.4455589 0.6316222\n",
              "gender1     1.2020150 1.1090259 1.3030775\n",
              "age         1.0061714 1.0033001 1.0090621\n",
              "locality2   0.6216105 0.5551659 0.6955494\n",
              "locality3   0.5502875 0.4938552 0.6127723\n",
              "locality4   0.4456142 0.4020122 0.4936220"
            ],
            "text/latex": "A data.frame: 6 × 3\n\\begin{tabular}{r|lll}\n  & exp & exp\\_lo & exp\\_hi\\\\\n  & <dbl> & <dbl> & <dbl>\\\\\n\\hline\n\t(Intercept) & 0.5307264 & 0.4455589 & 0.6316222\\\\\n\tgender1 & 1.2020150 & 1.1090259 & 1.3030775\\\\\n\tage & 1.0061714 & 1.0033001 & 1.0090621\\\\\n\tlocality2 & 0.6216105 & 0.5551659 & 0.6955494\\\\\n\tlocality3 & 0.5502875 & 0.4938552 & 0.6127723\\\\\n\tlocality4 & 0.4456142 & 0.4020122 & 0.4936220\\\\\n\\end{tabular}\n",
            "text/markdown": "\nA data.frame: 6 × 3\n\n| <!--/--> | exp &lt;dbl&gt; | exp_lo &lt;dbl&gt; | exp_hi &lt;dbl&gt; |\n|---|---|---|---|\n| (Intercept) | 0.5307264 | 0.4455589 | 0.6316222 |\n| gender1 | 1.2020150 | 1.1090259 | 1.3030775 |\n| age | 1.0061714 | 1.0033001 | 1.0090621 |\n| locality2 | 0.6216105 | 0.5551659 | 0.6955494 |\n| locality3 | 0.5502875 | 0.4938552 | 0.6127723 |\n| locality4 | 0.4456142 | 0.4020122 | 0.4936220 |\n\n",
            "text/html": [
              "<table class=\"dataframe\">\n",
              "<caption>A data.frame: 6 × 3</caption>\n",
              "<thead>\n",
              "\t<tr><th></th><th scope=col>exp</th><th scope=col>exp_lo</th><th scope=col>exp_hi</th></tr>\n",
              "\t<tr><th></th><th scope=col>&lt;dbl&gt;</th><th scope=col>&lt;dbl&gt;</th><th scope=col>&lt;dbl&gt;</th></tr>\n",
              "</thead>\n",
              "<tbody>\n",
              "\t<tr><th scope=row>(Intercept)</th><td>0.5307264</td><td>0.4455589</td><td>0.6316222</td></tr>\n",
              "\t<tr><th scope=row>gender1</th><td>1.2020150</td><td>1.1090259</td><td>1.3030775</td></tr>\n",
              "\t<tr><th scope=row>age</th><td>1.0061714</td><td>1.0033001</td><td>1.0090621</td></tr>\n",
              "\t<tr><th scope=row>locality2</th><td>0.6216105</td><td>0.5551659</td><td>0.6955494</td></tr>\n",
              "\t<tr><th scope=row>locality3</th><td>0.5502875</td><td>0.4938552</td><td>0.6127723</td></tr>\n",
              "\t<tr><th scope=row>locality4</th><td>0.4456142</td><td>0.4020122</td><td>0.4936220</td></tr>\n",
              "</tbody>\n",
              "</table>\n"
            ]
          },
          "metadata": {
            "tags": []
          }
        }
      ]
    },
    {
      "cell_type": "markdown",
      "metadata": {
        "id": "dR99hX1yY21K"
      },
      "source": [
        "Often, in order to make more sense of some parameters, we may change the unit change in given variable. For example, for age the standard unit change 1 years (odds will be 0.62%), but actually we could use 10 years than the odds ratio would be 6.2%. "
      ]
    },
    {
      "cell_type": "markdown",
      "metadata": {
        "id": "puNkdZvBZ-nz"
      },
      "source": [
        "In addition, if we would like to calculate marginal effects for GLM (not only for logistic regression but also for Poisson regression) we may use `margins` package."
      ]
    },
    {
      "cell_type": "code",
      "metadata": {
        "colab": {
          "base_uri": "https://localhost:8080/",
          "height": 535
        },
        "id": "7vg-MJiUaMbt",
        "outputId": "432a1b23-6036-4522-953b-42830883655c"
      },
      "source": [
        "model3 <- update(model2, . ~ . + gender*locality) ## interaction between gender and locality\n",
        "summary(model3)"
      ],
      "execution_count": 9,
      "outputs": [
        {
          "output_type": "display_data",
          "data": {
            "text/plain": [
              "\n",
              "Call:\n",
              "glm(formula = status ~ gender + age + locality + gender:locality, \n",
              "    family = binomial(link = \"logit\"), data = df)\n",
              "\n",
              "Deviance Residuals: \n",
              "    Min       1Q   Median       3Q      Max  \n",
              "-1.1738  -0.9397  -0.8103   1.2790   1.7455  \n",
              "\n",
              "Coefficients:\n",
              "                   Estimate Std. Error z value Pr(>|z|)    \n",
              "(Intercept)       -0.642083   0.094702  -6.780 1.20e-11 ***\n",
              "gender1            0.189632   0.062312   3.043  0.00234 ** \n",
              "age                0.006253   0.001468   4.259 2.06e-05 ***\n",
              "locality2         -0.467263   0.092261  -5.065 4.09e-07 ***\n",
              "locality3         -0.646976   0.092468  -6.997 2.62e-12 ***\n",
              "locality4         -0.760575   0.084558  -8.995  < 2e-16 ***\n",
              "gender1:locality2 -0.013694   0.118020  -0.116  0.90763    \n",
              "gender1:locality3  0.073104   0.115288   0.634  0.52602    \n",
              "gender1:locality4 -0.074981   0.108077  -0.694  0.48783    \n",
              "---\n",
              "Signif. codes:  0 ‘***’ 0.001 ‘**’ 0.01 ‘*’ 0.05 ‘.’ 0.1 ‘ ’ 1\n",
              "\n",
              "(Dispersion parameter for binomial family taken to be 1)\n",
              "\n",
              "    Null deviance: 14751  on 11299  degrees of freedom\n",
              "Residual deviance: 14435  on 11291  degrees of freedom\n",
              "AIC: 14453\n",
              "\n",
              "Number of Fisher Scoring iterations: 4\n"
            ]
          },
          "metadata": {
            "tags": []
          }
        }
      ]
    },
    {
      "cell_type": "markdown",
      "metadata": {
        "id": "uRpTXYEW6x77"
      },
      "source": [
        "Marignal effects using package `margins` instead of `mfx` as it does not support interaction terms."
      ]
    },
    {
      "cell_type": "code",
      "metadata": {
        "id": "14Qj-iqha7Hc",
        "colab": {
          "base_uri": "https://localhost:8080/"
        },
        "outputId": "b7af1ac2-7810-42b3-e212-9a78baf13a21"
      },
      "source": [
        "install.packages(\"margins\")"
      ],
      "execution_count": 10,
      "outputs": [
        {
          "output_type": "stream",
          "text": [
            "Installing package into ‘/usr/local/lib/R/site-library’\n",
            "(as ‘lib’ is unspecified)\n",
            "\n",
            "also installing the dependency ‘prediction’\n",
            "\n",
            "\n"
          ],
          "name": "stderr"
        }
      ]
    },
    {
      "cell_type": "code",
      "metadata": {
        "id": "jEzNw5BSbOv9"
      },
      "source": [
        "library(margins)"
      ],
      "execution_count": 11,
      "outputs": []
    },
    {
      "cell_type": "markdown",
      "metadata": {
        "id": "5F6FXKCQbwRb"
      },
      "source": [
        "Function `margins` calculates marginal effects for linear terms (betas) if we use `type = \"link\"` or in terms of probabilities if we set `type = \"response\"`."
      ]
    },
    {
      "cell_type": "code",
      "metadata": {
        "colab": {
          "base_uri": "https://localhost:8080/",
          "height": 245
        },
        "id": "C8hKXQCIbR_3",
        "outputId": "bb33b624-3bd6-4374-c66e-ac72dd74fc86"
      },
      "source": [
        "model3_margeff <- margins(model3, type = \"link\")\n",
        "summary(model3_margeff)"
      ],
      "execution_count": 14,
      "outputs": [
        {
          "output_type": "display_data",
          "data": {
            "text/plain": [
              "  factor    AME          SE          z          p            lower       \n",
              "1 age        0.006252817 0.001468203   4.258822 2.055067e-05  0.003375191\n",
              "2 gender1    0.182964994 0.041422923   4.416999 1.000809e-05  0.101777558\n",
              "3 locality2 -0.475541519 0.057549145  -8.263225 1.417888e-16 -0.588335770\n",
              "4 locality3 -0.602783269 0.055383565 -10.883793 1.377104e-27 -0.711333062\n",
              "5 locality4 -0.805901499 0.052387001 -15.383616 2.108372e-53 -0.908578135\n",
              "  upper       \n",
              "1  0.009130442\n",
              "2  0.264152431\n",
              "3 -0.362747269\n",
              "4 -0.494233477\n",
              "5 -0.703224863"
            ],
            "text/latex": "A summary.margins: 5 × 7\n\\begin{tabular}{r|lllllll}\n  & factor & AME & SE & z & p & lower & upper\\\\\n  & <chr> & <dbl> & <dbl> & <dbl> & <dbl> & <dbl> & <dbl>\\\\\n\\hline\n\t1 & age       &  0.006252817 & 0.001468203 &   4.258822 & 2.055067e-05 &  0.003375191 &  0.009130442\\\\\n\t2 & gender1   &  0.182964994 & 0.041422923 &   4.416999 & 1.000809e-05 &  0.101777558 &  0.264152431\\\\\n\t3 & locality2 & -0.475541519 & 0.057549145 &  -8.263225 & 1.417888e-16 & -0.588335770 & -0.362747269\\\\\n\t4 & locality3 & -0.602783269 & 0.055383565 & -10.883793 & 1.377104e-27 & -0.711333062 & -0.494233477\\\\\n\t5 & locality4 & -0.805901499 & 0.052387001 & -15.383616 & 2.108372e-53 & -0.908578135 & -0.703224863\\\\\n\\end{tabular}\n",
            "text/markdown": "\nA summary.margins: 5 × 7\n\n| <!--/--> | factor &lt;chr&gt; | AME &lt;dbl&gt; | SE &lt;dbl&gt; | z &lt;dbl&gt; | p &lt;dbl&gt; | lower &lt;dbl&gt; | upper &lt;dbl&gt; |\n|---|---|---|---|---|---|---|---|\n| 1 | age       |  0.006252817 | 0.001468203 |   4.258822 | 2.055067e-05 |  0.003375191 |  0.009130442 |\n| 2 | gender1   |  0.182964994 | 0.041422923 |   4.416999 | 1.000809e-05 |  0.101777558 |  0.264152431 |\n| 3 | locality2 | -0.475541519 | 0.057549145 |  -8.263225 | 1.417888e-16 | -0.588335770 | -0.362747269 |\n| 4 | locality3 | -0.602783269 | 0.055383565 | -10.883793 | 1.377104e-27 | -0.711333062 | -0.494233477 |\n| 5 | locality4 | -0.805901499 | 0.052387001 | -15.383616 | 2.108372e-53 | -0.908578135 | -0.703224863 |\n\n",
            "text/html": [
              "<table class=\"dataframe\">\n",
              "<caption>A summary.margins: 5 × 7</caption>\n",
              "<thead>\n",
              "\t<tr><th></th><th scope=col>factor</th><th scope=col>AME</th><th scope=col>SE</th><th scope=col>z</th><th scope=col>p</th><th scope=col>lower</th><th scope=col>upper</th></tr>\n",
              "\t<tr><th></th><th scope=col>&lt;chr&gt;</th><th scope=col>&lt;dbl&gt;</th><th scope=col>&lt;dbl&gt;</th><th scope=col>&lt;dbl&gt;</th><th scope=col>&lt;dbl&gt;</th><th scope=col>&lt;dbl&gt;</th><th scope=col>&lt;dbl&gt;</th></tr>\n",
              "</thead>\n",
              "<tbody>\n",
              "\t<tr><th scope=row>1</th><td>age      </td><td> 0.006252817</td><td>0.001468203</td><td>  4.258822</td><td>2.055067e-05</td><td> 0.003375191</td><td> 0.009130442</td></tr>\n",
              "\t<tr><th scope=row>2</th><td>gender1  </td><td> 0.182964994</td><td>0.041422923</td><td>  4.416999</td><td>1.000809e-05</td><td> 0.101777558</td><td> 0.264152431</td></tr>\n",
              "\t<tr><th scope=row>3</th><td>locality2</td><td>-0.475541519</td><td>0.057549145</td><td> -8.263225</td><td>1.417888e-16</td><td>-0.588335770</td><td>-0.362747269</td></tr>\n",
              "\t<tr><th scope=row>4</th><td>locality3</td><td>-0.602783269</td><td>0.055383565</td><td>-10.883793</td><td>1.377104e-27</td><td>-0.711333062</td><td>-0.494233477</td></tr>\n",
              "\t<tr><th scope=row>5</th><td>locality4</td><td>-0.805901499</td><td>0.052387001</td><td>-15.383616</td><td>2.108372e-53</td><td>-0.908578135</td><td>-0.703224863</td></tr>\n",
              "</tbody>\n",
              "</table>\n"
            ]
          },
          "metadata": {
            "tags": []
          }
        }
      ]
    },
    {
      "cell_type": "code",
      "metadata": {
        "colab": {
          "base_uri": "https://localhost:8080/",
          "height": 245
        },
        "id": "BcRWXVoX7n05",
        "outputId": "36b57cbd-41fc-4f06-affa-f4c4959fa142"
      },
      "source": [
        "model3_margeff_resp <- margins(model3, type = \"response\")\n",
        "summary(model3_margeff_resp)"
      ],
      "execution_count": 15,
      "outputs": [
        {
          "output_type": "display_data",
          "data": {
            "text/plain": [
              "  factor    AME          SE           z          p            lower        \n",
              "1 age        0.001398436 0.0003274262   4.270995 1.946024e-05  0.0007566922\n",
              "2 gender1    0.041063246 0.0090829878   4.520896 6.157835e-06  0.0232609171\n",
              "3 locality2 -0.112725905 0.0132485026  -8.508577 1.760810e-17 -0.1386924927\n",
              "4 locality3 -0.140193986 0.0123802009 -11.324048 9.975708e-30 -0.1644587340\n",
              "5 locality4 -0.182405897 0.0112698703 -16.185270 6.406792e-59 -0.2044944368\n",
              "  upper       \n",
              "1  0.002040179\n",
              "2  0.058865575\n",
              "3 -0.086759317\n",
              "4 -0.115929238\n",
              "5 -0.160317357"
            ],
            "text/latex": "A summary.margins: 5 × 7\n\\begin{tabular}{r|lllllll}\n  & factor & AME & SE & z & p & lower & upper\\\\\n  & <chr> & <dbl> & <dbl> & <dbl> & <dbl> & <dbl> & <dbl>\\\\\n\\hline\n\t1 & age       &  0.001398436 & 0.0003274262 &   4.270995 & 1.946024e-05 &  0.0007566922 &  0.002040179\\\\\n\t2 & gender1   &  0.041063246 & 0.0090829878 &   4.520896 & 6.157835e-06 &  0.0232609171 &  0.058865575\\\\\n\t3 & locality2 & -0.112725905 & 0.0132485026 &  -8.508577 & 1.760810e-17 & -0.1386924927 & -0.086759317\\\\\n\t4 & locality3 & -0.140193986 & 0.0123802009 & -11.324048 & 9.975708e-30 & -0.1644587340 & -0.115929238\\\\\n\t5 & locality4 & -0.182405897 & 0.0112698703 & -16.185270 & 6.406792e-59 & -0.2044944368 & -0.160317357\\\\\n\\end{tabular}\n",
            "text/markdown": "\nA summary.margins: 5 × 7\n\n| <!--/--> | factor &lt;chr&gt; | AME &lt;dbl&gt; | SE &lt;dbl&gt; | z &lt;dbl&gt; | p &lt;dbl&gt; | lower &lt;dbl&gt; | upper &lt;dbl&gt; |\n|---|---|---|---|---|---|---|---|\n| 1 | age       |  0.001398436 | 0.0003274262 |   4.270995 | 1.946024e-05 |  0.0007566922 |  0.002040179 |\n| 2 | gender1   |  0.041063246 | 0.0090829878 |   4.520896 | 6.157835e-06 |  0.0232609171 |  0.058865575 |\n| 3 | locality2 | -0.112725905 | 0.0132485026 |  -8.508577 | 1.760810e-17 | -0.1386924927 | -0.086759317 |\n| 4 | locality3 | -0.140193986 | 0.0123802009 | -11.324048 | 9.975708e-30 | -0.1644587340 | -0.115929238 |\n| 5 | locality4 | -0.182405897 | 0.0112698703 | -16.185270 | 6.406792e-59 | -0.2044944368 | -0.160317357 |\n\n",
            "text/html": [
              "<table class=\"dataframe\">\n",
              "<caption>A summary.margins: 5 × 7</caption>\n",
              "<thead>\n",
              "\t<tr><th></th><th scope=col>factor</th><th scope=col>AME</th><th scope=col>SE</th><th scope=col>z</th><th scope=col>p</th><th scope=col>lower</th><th scope=col>upper</th></tr>\n",
              "\t<tr><th></th><th scope=col>&lt;chr&gt;</th><th scope=col>&lt;dbl&gt;</th><th scope=col>&lt;dbl&gt;</th><th scope=col>&lt;dbl&gt;</th><th scope=col>&lt;dbl&gt;</th><th scope=col>&lt;dbl&gt;</th><th scope=col>&lt;dbl&gt;</th></tr>\n",
              "</thead>\n",
              "<tbody>\n",
              "\t<tr><th scope=row>1</th><td>age      </td><td> 0.001398436</td><td>0.0003274262</td><td>  4.270995</td><td>1.946024e-05</td><td> 0.0007566922</td><td> 0.002040179</td></tr>\n",
              "\t<tr><th scope=row>2</th><td>gender1  </td><td> 0.041063246</td><td>0.0090829878</td><td>  4.520896</td><td>6.157835e-06</td><td> 0.0232609171</td><td> 0.058865575</td></tr>\n",
              "\t<tr><th scope=row>3</th><td>locality2</td><td>-0.112725905</td><td>0.0132485026</td><td> -8.508577</td><td>1.760810e-17</td><td>-0.1386924927</td><td>-0.086759317</td></tr>\n",
              "\t<tr><th scope=row>4</th><td>locality3</td><td>-0.140193986</td><td>0.0123802009</td><td>-11.324048</td><td>9.975708e-30</td><td>-0.1644587340</td><td>-0.115929238</td></tr>\n",
              "\t<tr><th scope=row>5</th><td>locality4</td><td>-0.182405897</td><td>0.0112698703</td><td>-16.185270</td><td>6.406792e-59</td><td>-0.2044944368</td><td>-0.160317357</td></tr>\n",
              "</tbody>\n",
              "</table>\n"
            ]
          },
          "metadata": {
            "tags": []
          }
        }
      ]
    }
  ]
}