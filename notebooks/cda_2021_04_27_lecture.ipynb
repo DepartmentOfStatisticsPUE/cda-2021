{
  "nbformat": 4,
  "nbformat_minor": 0,
  "metadata": {
    "colab": {
      "name": "cda_2021_04_27_lecture.ipynb",
      "provenance": [],
      "collapsed_sections": [],
      "authorship_tag": "ABX9TyOzLknGPFyKNO/EQ7yIGAlI",
      "include_colab_link": true
    },
    "kernelspec": {
      "name": "ir",
      "display_name": "R"
    },
    "language_info": {
      "name": "R"
    }
  },
  "cells": [
    {
      "cell_type": "markdown",
      "metadata": {
        "id": "view-in-github",
        "colab_type": "text"
      },
      "source": [
        "<a href=\"https://colab.research.google.com/github/DepartmentOfStatisticsPUE/cda-2021/blob/main/notebooks/cda_2021_04_27_lecture.ipynb\" target=\"_parent\"><img src=\"https://colab.research.google.com/assets/colab-badge.svg\" alt=\"Open In Colab\"/></a>"
      ]
    },
    {
      "cell_type": "markdown",
      "metadata": {
        "id": "Yia3TultSvd8"
      },
      "source": [
        "## Introduction to GLM\n"
      ]
    },
    {
      "cell_type": "markdown",
      "metadata": {
        "id": "gXMGVEXyMj51"
      },
      "source": [
        "Introduction to the `glm` function in R."
      ]
    },
    {
      "cell_type": "code",
      "metadata": {
        "colab": {
          "base_uri": "https://localhost:8080/",
          "height": 275
        },
        "id": "97UgoqlqMaPZ",
        "outputId": "bcb900b1-a963-4714-9b39-d4055df6c0d0"
      },
      "source": [
        "head(mtcars)"
      ],
      "execution_count": 1,
      "outputs": [
        {
          "output_type": "display_data",
          "data": {
            "text/plain": [
              "                  mpg  cyl disp hp  drat wt    qsec  vs am gear carb\n",
              "Mazda RX4         21.0 6   160  110 3.90 2.620 16.46 0  1  4    4   \n",
              "Mazda RX4 Wag     21.0 6   160  110 3.90 2.875 17.02 0  1  4    4   \n",
              "Datsun 710        22.8 4   108   93 3.85 2.320 18.61 1  1  4    1   \n",
              "Hornet 4 Drive    21.4 6   258  110 3.08 3.215 19.44 1  0  3    1   \n",
              "Hornet Sportabout 18.7 8   360  175 3.15 3.440 17.02 0  0  3    2   \n",
              "Valiant           18.1 6   225  105 2.76 3.460 20.22 1  0  3    1   "
            ],
            "text/latex": "A data.frame: 6 × 11\n\\begin{tabular}{r|lllllllllll}\n  & mpg & cyl & disp & hp & drat & wt & qsec & vs & am & gear & carb\\\\\n  & <dbl> & <dbl> & <dbl> & <dbl> & <dbl> & <dbl> & <dbl> & <dbl> & <dbl> & <dbl> & <dbl>\\\\\n\\hline\n\tMazda RX4 & 21.0 & 6 & 160 & 110 & 3.90 & 2.620 & 16.46 & 0 & 1 & 4 & 4\\\\\n\tMazda RX4 Wag & 21.0 & 6 & 160 & 110 & 3.90 & 2.875 & 17.02 & 0 & 1 & 4 & 4\\\\\n\tDatsun 710 & 22.8 & 4 & 108 &  93 & 3.85 & 2.320 & 18.61 & 1 & 1 & 4 & 1\\\\\n\tHornet 4 Drive & 21.4 & 6 & 258 & 110 & 3.08 & 3.215 & 19.44 & 1 & 0 & 3 & 1\\\\\n\tHornet Sportabout & 18.7 & 8 & 360 & 175 & 3.15 & 3.440 & 17.02 & 0 & 0 & 3 & 2\\\\\n\tValiant & 18.1 & 6 & 225 & 105 & 2.76 & 3.460 & 20.22 & 1 & 0 & 3 & 1\\\\\n\\end{tabular}\n",
            "text/markdown": "\nA data.frame: 6 × 11\n\n| <!--/--> | mpg &lt;dbl&gt; | cyl &lt;dbl&gt; | disp &lt;dbl&gt; | hp &lt;dbl&gt; | drat &lt;dbl&gt; | wt &lt;dbl&gt; | qsec &lt;dbl&gt; | vs &lt;dbl&gt; | am &lt;dbl&gt; | gear &lt;dbl&gt; | carb &lt;dbl&gt; |\n|---|---|---|---|---|---|---|---|---|---|---|---|\n| Mazda RX4 | 21.0 | 6 | 160 | 110 | 3.90 | 2.620 | 16.46 | 0 | 1 | 4 | 4 |\n| Mazda RX4 Wag | 21.0 | 6 | 160 | 110 | 3.90 | 2.875 | 17.02 | 0 | 1 | 4 | 4 |\n| Datsun 710 | 22.8 | 4 | 108 |  93 | 3.85 | 2.320 | 18.61 | 1 | 1 | 4 | 1 |\n| Hornet 4 Drive | 21.4 | 6 | 258 | 110 | 3.08 | 3.215 | 19.44 | 1 | 0 | 3 | 1 |\n| Hornet Sportabout | 18.7 | 8 | 360 | 175 | 3.15 | 3.440 | 17.02 | 0 | 0 | 3 | 2 |\n| Valiant | 18.1 | 6 | 225 | 105 | 2.76 | 3.460 | 20.22 | 1 | 0 | 3 | 1 |\n\n",
            "text/html": [
              "<table class=\"dataframe\">\n",
              "<caption>A data.frame: 6 × 11</caption>\n",
              "<thead>\n",
              "\t<tr><th></th><th scope=col>mpg</th><th scope=col>cyl</th><th scope=col>disp</th><th scope=col>hp</th><th scope=col>drat</th><th scope=col>wt</th><th scope=col>qsec</th><th scope=col>vs</th><th scope=col>am</th><th scope=col>gear</th><th scope=col>carb</th></tr>\n",
              "\t<tr><th></th><th scope=col>&lt;dbl&gt;</th><th scope=col>&lt;dbl&gt;</th><th scope=col>&lt;dbl&gt;</th><th scope=col>&lt;dbl&gt;</th><th scope=col>&lt;dbl&gt;</th><th scope=col>&lt;dbl&gt;</th><th scope=col>&lt;dbl&gt;</th><th scope=col>&lt;dbl&gt;</th><th scope=col>&lt;dbl&gt;</th><th scope=col>&lt;dbl&gt;</th><th scope=col>&lt;dbl&gt;</th></tr>\n",
              "</thead>\n",
              "<tbody>\n",
              "\t<tr><th scope=row>Mazda RX4</th><td>21.0</td><td>6</td><td>160</td><td>110</td><td>3.90</td><td>2.620</td><td>16.46</td><td>0</td><td>1</td><td>4</td><td>4</td></tr>\n",
              "\t<tr><th scope=row>Mazda RX4 Wag</th><td>21.0</td><td>6</td><td>160</td><td>110</td><td>3.90</td><td>2.875</td><td>17.02</td><td>0</td><td>1</td><td>4</td><td>4</td></tr>\n",
              "\t<tr><th scope=row>Datsun 710</th><td>22.8</td><td>4</td><td>108</td><td> 93</td><td>3.85</td><td>2.320</td><td>18.61</td><td>1</td><td>1</td><td>4</td><td>1</td></tr>\n",
              "\t<tr><th scope=row>Hornet 4 Drive</th><td>21.4</td><td>6</td><td>258</td><td>110</td><td>3.08</td><td>3.215</td><td>19.44</td><td>1</td><td>0</td><td>3</td><td>1</td></tr>\n",
              "\t<tr><th scope=row>Hornet Sportabout</th><td>18.7</td><td>8</td><td>360</td><td>175</td><td>3.15</td><td>3.440</td><td>17.02</td><td>0</td><td>0</td><td>3</td><td>2</td></tr>\n",
              "\t<tr><th scope=row>Valiant</th><td>18.1</td><td>6</td><td>225</td><td>105</td><td>2.76</td><td>3.460</td><td>20.22</td><td>1</td><td>0</td><td>3</td><td>1</td></tr>\n",
              "</tbody>\n",
              "</table>\n"
            ]
          },
          "metadata": {
            "tags": []
          }
        }
      ]
    },
    {
      "cell_type": "markdown",
      "metadata": {
        "id": "uLXd5mVzNE7l"
      },
      "source": [
        "First, let's use the `lm` function."
      ]
    },
    {
      "cell_type": "code",
      "metadata": {
        "colab": {
          "base_uri": "https://localhost:8080/",
          "height": 345
        },
        "id": "QI_9IFGXNHLr",
        "outputId": "86157cf3-0676-4e11-f3a5-4f14c79b9f17"
      },
      "source": [
        "model1 <- lm(formula = mpg ~ wt + am, data = mtcars)\n",
        "summary(model1)"
      ],
      "execution_count": 2,
      "outputs": [
        {
          "output_type": "display_data",
          "data": {
            "text/plain": [
              "\n",
              "Call:\n",
              "lm(formula = mpg ~ wt + am, data = mtcars)\n",
              "\n",
              "Residuals:\n",
              "    Min      1Q  Median      3Q     Max \n",
              "-4.5295 -2.3619 -0.1317  1.4025  6.8782 \n",
              "\n",
              "Coefficients:\n",
              "            Estimate Std. Error t value Pr(>|t|)    \n",
              "(Intercept) 37.32155    3.05464  12.218 5.84e-13 ***\n",
              "wt          -5.35281    0.78824  -6.791 1.87e-07 ***\n",
              "am          -0.02362    1.54565  -0.015    0.988    \n",
              "---\n",
              "Signif. codes:  0 ‘***’ 0.001 ‘**’ 0.01 ‘*’ 0.05 ‘.’ 0.1 ‘ ’ 1\n",
              "\n",
              "Residual standard error: 3.098 on 29 degrees of freedom\n",
              "Multiple R-squared:  0.7528,\tAdjusted R-squared:  0.7358 \n",
              "F-statistic: 44.17 on 2 and 29 DF,  p-value: 1.579e-09\n"
            ]
          },
          "metadata": {
            "tags": []
          }
        }
      ]
    },
    {
      "cell_type": "markdown",
      "metadata": {
        "id": "OWGKc4b9NeyO"
      },
      "source": [
        "Them, for the comparison we will use `glm` function. If we use gaussian(link = \"identity\"), we mean that:\n",
        "\n",
        "+ we assume gaussian distribution of residuals  $N(\\mu, \\sigma^2)$\n",
        "+ link = \"identity\" means that $g(\\mu) = \\mu$\n"
      ]
    },
    {
      "cell_type": "code",
      "metadata": {
        "colab": {
          "base_uri": "https://localhost:8080/",
          "height": 432
        },
        "id": "oZa4GELONkNm",
        "outputId": "8e29ef88-cee1-41f3-88a8-b65931967a55"
      },
      "source": [
        "model2 <- glm(formula = mpg ~ wt + am, data = mtcars, family = gaussian(link = \"identity\")) ## family = \"gaussian\"\n",
        "summary(model2)"
      ],
      "execution_count": 5,
      "outputs": [
        {
          "output_type": "display_data",
          "data": {
            "text/plain": [
              "\n",
              "Call:\n",
              "glm(formula = mpg ~ wt + am, family = gaussian(link = \"identity\"), \n",
              "    data = mtcars)\n",
              "\n",
              "Deviance Residuals: \n",
              "    Min       1Q   Median       3Q      Max  \n",
              "-4.5295  -2.3619  -0.1317   1.4025   6.8782  \n",
              "\n",
              "Coefficients:\n",
              "            Estimate Std. Error t value Pr(>|t|)    \n",
              "(Intercept) 37.32155    3.05464  12.218 5.84e-13 ***\n",
              "wt          -5.35281    0.78824  -6.791 1.87e-07 ***\n",
              "am          -0.02362    1.54565  -0.015    0.988    \n",
              "---\n",
              "Signif. codes:  0 ‘***’ 0.001 ‘**’ 0.01 ‘*’ 0.05 ‘.’ 0.1 ‘ ’ 1\n",
              "\n",
              "(Dispersion parameter for gaussian family taken to be 9.597231)\n",
              "\n",
              "    Null deviance: 1126.05  on 31  degrees of freedom\n",
              "Residual deviance:  278.32  on 29  degrees of freedom\n",
              "AIC: 168.03\n",
              "\n",
              "Number of Fisher Scoring iterations: 2\n"
            ]
          },
          "metadata": {
            "tags": []
          }
        }
      ]
    },
    {
      "cell_type": "code",
      "metadata": {
        "colab": {
          "base_uri": "https://localhost:8080/",
          "height": 35
        },
        "id": "ewFzKGSGO9u9",
        "outputId": "cbde7367-926d-4162-ca34-6c30e6eb6425"
      },
      "source": [
        "sqrt(9.597231)"
      ],
      "execution_count": 6,
      "outputs": [
        {
          "output_type": "display_data",
          "data": {
            "text/plain": [
              "[1] 3.09794"
            ],
            "text/latex": "3.09793979928597",
            "text/markdown": "3.09793979928597",
            "text/html": [
              "3.09793979928597"
            ]
          },
          "metadata": {
            "tags": []
          }
        }
      ]
    },
    {
      "cell_type": "markdown",
      "metadata": {
        "id": "NrbZKslGPs1H"
      },
      "source": [
        "Technical note regardin R and extracting information from R objects."
      ]
    },
    {
      "cell_type": "code",
      "metadata": {
        "colab": {
          "base_uri": "https://localhost:8080/",
          "height": 35
        },
        "id": "GUA54cQMPzV-",
        "outputId": "a450042a-d584-4734-9b63-1f5baaa2e42d"
      },
      "source": [
        "coef(model2) ## extract coefficients"
      ],
      "execution_count": 15,
      "outputs": [
        {
          "output_type": "display_data",
          "data": {
            "text/plain": [
              "(Intercept)          wt          am \n",
              "37.32155131 -5.35281145 -0.02361522 "
            ],
            "text/latex": "\\begin{description*}\n\\item[(Intercept)] 37.321551310205\n\\item[wt] -5.3528114467999\n\\item[am] -0.0236152196627027\n\\end{description*}\n",
            "text/markdown": "(Intercept)\n:   37.321551310205wt\n:   -5.3528114467999am\n:   -0.0236152196627027\n\n",
            "text/html": [
              "<style>\n",
              ".dl-inline {width: auto; margin:0; padding: 0}\n",
              ".dl-inline>dt, .dl-inline>dd {float: none; width: auto; display: inline-block}\n",
              ".dl-inline>dt::after {content: \":\\0020\"; padding-right: .5ex}\n",
              ".dl-inline>dt:not(:first-of-type) {padding-left: .5ex}\n",
              "</style><dl class=dl-inline><dt>(Intercept)</dt><dd>37.321551310205</dd><dt>wt</dt><dd>-5.3528114467999</dd><dt>am</dt><dd>-0.0236152196627027</dd></dl>\n"
            ]
          },
          "metadata": {
            "tags": []
          }
        }
      ]
    },
    {
      "cell_type": "code",
      "metadata": {
        "colab": {
          "base_uri": "https://localhost:8080/",
          "height": 155
        },
        "id": "8G1N2pOpQfwu",
        "outputId": "f6cd4f05-b008-4531-e94f-0285b3cfc97c"
      },
      "source": [
        "coef(summary(model2)) ## this will extract table from object created by function summary"
      ],
      "execution_count": 16,
      "outputs": [
        {
          "output_type": "display_data",
          "data": {
            "text/plain": [
              "            Estimate    Std. Error t value     Pr(>|t|)    \n",
              "(Intercept) 37.32155131 3.0546385  12.21799285 5.843477e-13\n",
              "wt          -5.35281145 0.7882438  -6.79080719 1.867415e-07\n",
              "am          -0.02361522 1.5456453  -0.01527855 9.879146e-01"
            ],
            "text/latex": "A matrix: 3 × 4 of type dbl\n\\begin{tabular}{r|llll}\n  & Estimate & Std. Error & t value & Pr(>\\textbar{}t\\textbar{})\\\\\n\\hline\n\t(Intercept) & 37.32155131 & 3.0546385 & 12.21799285 & 5.843477e-13\\\\\n\twt & -5.35281145 & 0.7882438 & -6.79080719 & 1.867415e-07\\\\\n\tam & -0.02361522 & 1.5456453 & -0.01527855 & 9.879146e-01\\\\\n\\end{tabular}\n",
            "text/markdown": "\nA matrix: 3 × 4 of type dbl\n\n| <!--/--> | Estimate | Std. Error | t value | Pr(&gt;|t|) |\n|---|---|---|---|---|\n| (Intercept) | 37.32155131 | 3.0546385 | 12.21799285 | 5.843477e-13 |\n| wt | -5.35281145 | 0.7882438 | -6.79080719 | 1.867415e-07 |\n| am | -0.02361522 | 1.5456453 | -0.01527855 | 9.879146e-01 |\n\n",
            "text/html": [
              "<table class=\"dataframe\">\n",
              "<caption>A matrix: 3 × 4 of type dbl</caption>\n",
              "<thead>\n",
              "\t<tr><th></th><th scope=col>Estimate</th><th scope=col>Std. Error</th><th scope=col>t value</th><th scope=col>Pr(&gt;|t|)</th></tr>\n",
              "</thead>\n",
              "<tbody>\n",
              "\t<tr><th scope=row>(Intercept)</th><td>37.32155131</td><td>3.0546385</td><td>12.21799285</td><td>5.843477e-13</td></tr>\n",
              "\t<tr><th scope=row>wt</th><td>-5.35281145</td><td>0.7882438</td><td>-6.79080719</td><td>1.867415e-07</td></tr>\n",
              "\t<tr><th scope=row>am</th><td>-0.02361522</td><td>1.5456453</td><td>-0.01527855</td><td>9.879146e-01</td></tr>\n",
              "</tbody>\n",
              "</table>\n"
            ]
          },
          "metadata": {
            "tags": []
          }
        }
      ]
    },
    {
      "cell_type": "code",
      "metadata": {
        "colab": {
          "base_uri": "https://localhost:8080/",
          "height": 245
        },
        "id": "-Xg9ajm6QfjL",
        "outputId": "8cd624b0-93d1-4a37-f0e2-05b63543d329"
      },
      "source": [
        "head(model.matrix(model2))  ## this is X"
      ],
      "execution_count": 20,
      "outputs": [
        {
          "output_type": "display_data",
          "data": {
            "text/plain": [
              "                  (Intercept) wt    am\n",
              "Mazda RX4         1           2.620 1 \n",
              "Mazda RX4 Wag     1           2.875 1 \n",
              "Datsun 710        1           2.320 1 \n",
              "Hornet 4 Drive    1           3.215 0 \n",
              "Hornet Sportabout 1           3.440 0 \n",
              "Valiant           1           3.460 0 "
            ],
            "text/latex": "A matrix: 6 × 3 of type dbl\n\\begin{tabular}{r|lll}\n  & (Intercept) & wt & am\\\\\n\\hline\n\tMazda RX4 & 1 & 2.620 & 1\\\\\n\tMazda RX4 Wag & 1 & 2.875 & 1\\\\\n\tDatsun 710 & 1 & 2.320 & 1\\\\\n\tHornet 4 Drive & 1 & 3.215 & 0\\\\\n\tHornet Sportabout & 1 & 3.440 & 0\\\\\n\tValiant & 1 & 3.460 & 0\\\\\n\\end{tabular}\n",
            "text/markdown": "\nA matrix: 6 × 3 of type dbl\n\n| <!--/--> | (Intercept) | wt | am |\n|---|---|---|---|\n| Mazda RX4 | 1 | 2.620 | 1 |\n| Mazda RX4 Wag | 1 | 2.875 | 1 |\n| Datsun 710 | 1 | 2.320 | 1 |\n| Hornet 4 Drive | 1 | 3.215 | 0 |\n| Hornet Sportabout | 1 | 3.440 | 0 |\n| Valiant | 1 | 3.460 | 0 |\n\n",
            "text/html": [
              "<table class=\"dataframe\">\n",
              "<caption>A matrix: 6 × 3 of type dbl</caption>\n",
              "<thead>\n",
              "\t<tr><th></th><th scope=col>(Intercept)</th><th scope=col>wt</th><th scope=col>am</th></tr>\n",
              "</thead>\n",
              "<tbody>\n",
              "\t<tr><th scope=row>Mazda RX4</th><td>1</td><td>2.620</td><td>1</td></tr>\n",
              "\t<tr><th scope=row>Mazda RX4 Wag</th><td>1</td><td>2.875</td><td>1</td></tr>\n",
              "\t<tr><th scope=row>Datsun 710</th><td>1</td><td>2.320</td><td>1</td></tr>\n",
              "\t<tr><th scope=row>Hornet 4 Drive</th><td>1</td><td>3.215</td><td>0</td></tr>\n",
              "\t<tr><th scope=row>Hornet Sportabout</th><td>1</td><td>3.440</td><td>0</td></tr>\n",
              "\t<tr><th scope=row>Valiant</th><td>1</td><td>3.460</td><td>0</td></tr>\n",
              "</tbody>\n",
              "</table>\n"
            ]
          },
          "metadata": {
            "tags": []
          }
        }
      ]
    },
    {
      "cell_type": "code",
      "metadata": {
        "colab": {
          "base_uri": "https://localhost:8080/",
          "height": 52
        },
        "id": "vHylPrfkQfLz",
        "outputId": "679b7945-41dc-4b7f-db75-adc0e09e4455"
      },
      "source": [
        "head(predict(model2)) ## this extracts hat(y) -- predictions from the model"
      ],
      "execution_count": 18,
      "outputs": [
        {
          "output_type": "display_data",
          "data": {
            "text/plain": [
              "        Mazda RX4     Mazda RX4 Wag        Datsun 710    Hornet 4 Drive \n",
              "         23.27357          21.90860          24.87941          20.11226 \n",
              "Hornet Sportabout           Valiant \n",
              "         18.90788          18.80082 "
            ],
            "text/latex": "\\begin{description*}\n\\item[Mazda RX4] 23.2735700999265\n\\item[Mazda RX4 Wag] 21.9086031809925\n\\item[Datsun 710] 24.8794135339665\n\\item[Hornet 4 Drive] 20.1122625087433\n\\item[Hornet Sportabout] 18.9078799332133\n\\item[Valiant] 18.8008237042773\n\\end{description*}\n",
            "text/markdown": "Mazda RX4\n:   23.2735700999265Mazda RX4 Wag\n:   21.9086031809925Datsun 710\n:   24.8794135339665Hornet 4 Drive\n:   20.1122625087433Hornet Sportabout\n:   18.9078799332133Valiant\n:   18.8008237042773\n\n",
            "text/html": [
              "<style>\n",
              ".dl-inline {width: auto; margin:0; padding: 0}\n",
              ".dl-inline>dt, .dl-inline>dd {float: none; width: auto; display: inline-block}\n",
              ".dl-inline>dt::after {content: \":\\0020\"; padding-right: .5ex}\n",
              ".dl-inline>dt:not(:first-of-type) {padding-left: .5ex}\n",
              "</style><dl class=dl-inline><dt>Mazda RX4</dt><dd>23.2735700999265</dd><dt>Mazda RX4 Wag</dt><dd>21.9086031809925</dd><dt>Datsun 710</dt><dd>24.8794135339665</dd><dt>Hornet 4 Drive</dt><dd>20.1122625087433</dd><dt>Hornet Sportabout</dt><dd>18.9078799332133</dd><dt>Valiant</dt><dd>18.8008237042773</dd></dl>\n"
            ]
          },
          "metadata": {
            "tags": []
          }
        }
      ]
    },
    {
      "cell_type": "code",
      "metadata": {
        "colab": {
          "base_uri": "https://localhost:8080/",
          "height": 35
        },
        "id": "mDWtjTjWQvi7",
        "outputId": "b9c1420a-8396-40e7-bb69-97eff6856d47"
      },
      "source": [
        "sigma(model2) ## estimated standard error of residuals "
      ],
      "execution_count": 21,
      "outputs": [
        {
          "output_type": "display_data",
          "data": {
            "text/plain": [
              "[1] 3.09794"
            ],
            "text/latex": "3.09793978939308",
            "text/markdown": "3.09793978939308",
            "text/html": [
              "3.09793978939308"
            ]
          },
          "metadata": {
            "tags": []
          }
        }
      ]
    },
    {
      "cell_type": "code",
      "metadata": {
        "colab": {
          "base_uri": "https://localhost:8080/",
          "height": 35
        },
        "id": "DqpsbBuWQ1U-",
        "outputId": "5fbbd814-a74f-480f-d29b-ae5482c572ef"
      },
      "source": [
        "logLik(model2) ## value of log-likelihood function"
      ],
      "execution_count": 22,
      "outputs": [
        {
          "output_type": "display_data",
          "data": {
            "text/plain": [
              "'log Lik.' -80.01459 (df=4)"
            ]
          },
          "metadata": {
            "tags": []
          }
        }
      ]
    },
    {
      "cell_type": "markdown",
      "metadata": {
        "id": "tZHstuBGSsqB"
      },
      "source": [
        "## Poisson regression"
      ]
    },
    {
      "cell_type": "markdown",
      "metadata": {
        "id": "82PwZbHyUgjM"
      },
      "source": [
        "Now, let's model number of gears (`gear`) in the car using their weight (`wt`). For that purpose we will use `mtcars` dataset."
      ]
    },
    {
      "cell_type": "code",
      "metadata": {
        "colab": {
          "base_uri": "https://localhost:8080/",
          "height": 397
        },
        "id": "jCOX0qkaUZW5",
        "outputId": "587771e3-7148-4a8c-ea25-14a74c7b6010"
      },
      "source": [
        "model3 <- glm(formula = gear ~ wt, data = mtcars, family = poisson(link = \"log\"))\n",
        "summary(model3)"
      ],
      "execution_count": 32,
      "outputs": [
        {
          "output_type": "display_data",
          "data": {
            "text/plain": [
              "\n",
              "Call:\n",
              "glm(formula = gear ~ wt, family = poisson(link = \"log\"), data = mtcars)\n",
              "\n",
              "Deviance Residuals: \n",
              "     Min        1Q    Median        3Q       Max  \n",
              "-0.53085  -0.23403  -0.05833   0.16017   0.74850  \n",
              "\n",
              "Coefficients:\n",
              "            Estimate Std. Error z value Pr(>|z|)    \n",
              "(Intercept)  1.69198    0.31842   5.314 1.07e-07 ***\n",
              "wt          -0.12242    0.09812  -1.248    0.212    \n",
              "---\n",
              "Signif. codes:  0 ‘***’ 0.001 ‘**’ 0.01 ‘*’ 0.05 ‘.’ 0.1 ‘ ’ 1\n",
              "\n",
              "(Dispersion parameter for poisson family taken to be 1)\n",
              "\n",
              "    Null deviance: 4.4634  on 31  degrees of freedom\n",
              "Residual deviance: 2.8792  on 30  degrees of freedom\n",
              "AIC: 108.35\n",
              "\n",
              "Number of Fisher Scoring iterations: 4\n"
            ]
          },
          "metadata": {
            "tags": []
          }
        }
      ]
    },
    {
      "cell_type": "markdown",
      "metadata": {
        "id": "66WmROuSUzQc"
      },
      "source": [
        "The assumed model with the estimated parameters is as follows\n",
        "\n",
        "$$\n",
        "y = \\exp(1.69 - 0.12 \\times wt) \n",
        "$$\n",
        "\n",
        "Interpretation of parameters: \n",
        "\n",
        "+ we cannot use the reported parameters for interpretation,\n",
        "+ we need to use a transformated version using the `log()` function.\n",
        "\n",
        "$$\n",
        "log(y) = 1.69 - 0.12 \\times wt\n",
        "$$\n",
        "\n",
        "if `wt` increases by one unit then `y` decreases by -0.12%"
      ]
    },
    {
      "cell_type": "code",
      "metadata": {
        "colab": {
          "base_uri": "https://localhost:8080/",
          "height": 185
        },
        "id": "f1N5o6ipSubD",
        "outputId": "6cfb1779-b03a-4f03-d9cd-145491a5a77a"
      },
      "source": [
        "set.seed(123)\n",
        "n <- 10000\n",
        "z <- rbinom(n = n, prob = 0.7, size = 1)\n",
        "theta_true <- c(1, 1.5)\n",
        "lambda_true <- theta_true[1] + theta_true[2]*z ## lambda_i = 1 + 1.5*z_i\n",
        "y <- rpois(n = n, lambda = lambda_true)\n",
        "df <- data.frame(z, y)\n",
        "head(df, 3)"
      ],
      "execution_count": 35,
      "outputs": [
        {
          "output_type": "display_data",
          "data": {
            "text/plain": [
              "  z y\n",
              "1 1 2\n",
              "2 0 0\n",
              "3 1 4"
            ],
            "text/latex": "A data.frame: 3 × 2\n\\begin{tabular}{r|ll}\n  & z & y\\\\\n  & <int> & <int>\\\\\n\\hline\n\t1 & 1 & 2\\\\\n\t2 & 0 & 0\\\\\n\t3 & 1 & 4\\\\\n\\end{tabular}\n",
            "text/markdown": "\nA data.frame: 3 × 2\n\n| <!--/--> | z &lt;int&gt; | y &lt;int&gt; |\n|---|---|---|\n| 1 | 1 | 2 |\n| 2 | 0 | 0 |\n| 3 | 1 | 4 |\n\n",
            "text/html": [
              "<table class=\"dataframe\">\n",
              "<caption>A data.frame: 3 × 2</caption>\n",
              "<thead>\n",
              "\t<tr><th></th><th scope=col>z</th><th scope=col>y</th></tr>\n",
              "\t<tr><th></th><th scope=col>&lt;int&gt;</th><th scope=col>&lt;int&gt;</th></tr>\n",
              "</thead>\n",
              "<tbody>\n",
              "\t<tr><th scope=row>1</th><td>1</td><td>2</td></tr>\n",
              "\t<tr><th scope=row>2</th><td>0</td><td>0</td></tr>\n",
              "\t<tr><th scope=row>3</th><td>1</td><td>4</td></tr>\n",
              "</tbody>\n",
              "</table>\n"
            ]
          },
          "metadata": {
            "tags": []
          }
        }
      ]
    },
    {
      "cell_type": "code",
      "metadata": {
        "colab": {
          "base_uri": "https://localhost:8080/",
          "height": 397
        },
        "id": "J2NDKRgLTs9k",
        "outputId": "28262f88-f112-408a-ab99-36b7f7b8e727"
      },
      "source": [
        "model3 <- glm(formula = y ~ z, data = df, family = poisson(link = \"identity\"))\n",
        "summary(model3)"
      ],
      "execution_count": 36,
      "outputs": [
        {
          "output_type": "display_data",
          "data": {
            "text/plain": [
              "\n",
              "Call:\n",
              "glm(formula = y ~ z, family = poisson(link = \"identity\"), data = df)\n",
              "\n",
              "Deviance Residuals: \n",
              "    Min       1Q   Median       3Q      Max  \n",
              "-2.2333  -1.0770   0.0322   0.3106   3.9545  \n",
              "\n",
              "Coefficients:\n",
              "            Estimate Std. Error z value Pr(>|z|)    \n",
              "(Intercept)  0.96816    0.01811   53.46   <2e-16 ***\n",
              "z            1.52560    0.02611   58.43   <2e-16 ***\n",
              "---\n",
              "Signif. codes:  0 ‘***’ 0.001 ‘**’ 0.01 ‘*’ 0.05 ‘.’ 0.1 ‘ ’ 1\n",
              "\n",
              "(Dispersion parameter for poisson family taken to be 1)\n",
              "\n",
              "    Null deviance: 13804  on 9999  degrees of freedom\n",
              "Residual deviance: 11073  on 9998  degrees of freedom\n",
              "AIC: 33271\n",
              "\n",
              "Number of Fisher Scoring iterations: 3\n"
            ]
          },
          "metadata": {
            "tags": []
          }
        }
      ]
    }
  ]
}