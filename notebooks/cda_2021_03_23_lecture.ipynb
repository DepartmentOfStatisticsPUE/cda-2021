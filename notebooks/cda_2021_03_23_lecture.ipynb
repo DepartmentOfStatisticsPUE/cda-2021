{
  "nbformat": 4,
  "nbformat_minor": 0,
  "metadata": {
    "colab": {
      "name": "cda-2021-03-23.ipynb",
      "provenance": [],
      "collapsed_sections": [],
      "authorship_tag": "ABX9TyPrUrERhrpgiM7d7HxtrKtF",
      "include_colab_link": true
    },
    "kernelspec": {
      "name": "ir",
      "display_name": "R"
    },
    "language_info": {
      "name": "R"
    }
  },
  "cells": [
    {
      "cell_type": "markdown",
      "metadata": {
        "id": "view-in-github",
        "colab_type": "text"
      },
      "source": [
        "<a href=\"https://colab.research.google.com/github/DepartmentOfStatisticsPUE/cda-2021/blob/main/notebooks/cda_2021_03_23_lecture.ipynb\" target=\"_parent\"><img src=\"https://colab.research.google.com/assets/colab-badge.svg\" alt=\"Open In Colab\"/></a>"
      ]
    },
    {
      "cell_type": "markdown",
      "metadata": {
        "id": "kQzJh-E0IwRq"
      },
      "source": [
        "Before we start, we need to install two packages:\n",
        "\n",
        "+ `maxLik` -- package for solving ML problems\n",
        "+ `extraDistr` -- package that extends base R to provide some extra distributions (such as zero-truncated Poisson distribution)"
      ]
    },
    {
      "cell_type": "code",
      "metadata": {
        "colab": {
          "base_uri": "https://localhost:8080/"
        },
        "id": "dNM21voMImS5",
        "outputId": "230b84f3-5d1f-47ff-b3ee-57867815ad75"
      },
      "source": [
        "install.packages(c(\"maxLik\", \"extraDistr\"))"
      ],
      "execution_count": null,
      "outputs": [
        {
          "output_type": "stream",
          "text": [
            "Installing packages into ‘/usr/local/lib/R/site-library’\n",
            "(as ‘lib’ is unspecified)\n",
            "\n",
            "also installing the dependencies ‘zoo’, ‘miscTools’, ‘sandwich’\n",
            "\n",
            "\n"
          ],
          "name": "stderr"
        }
      ]
    },
    {
      "cell_type": "markdown",
      "metadata": {
        "id": "t4_-AqesJVjn"
      },
      "source": [
        "We need to load packages "
      ]
    },
    {
      "cell_type": "code",
      "metadata": {
        "id": "Y0yXisyyJRY0"
      },
      "source": [
        "library(maxLik)\n",
        "library(extraDistr)"
      ],
      "execution_count": null,
      "outputs": []
    },
    {
      "cell_type": "markdown",
      "metadata": {
        "id": "fXmyYTYeKlWM"
      },
      "source": [
        "\\begin{equation}\n",
        "   \\log L = \\sum_i x_i \\log \\lambda - \\sum_i \\log(e^\\lambda-1) - \\sum_i \\log(x_i!) \n",
        "\\end{equation}"
      ]
    },
    {
      "cell_type": "code",
      "metadata": {
        "id": "cYSEXKc6Kqjn"
      },
      "source": [
        "## log-likelihood function\n",
        "ll <- function(par, x) {\n",
        "  m <- sum(x)*log(par) - length(x)*log(exp(par)-1)\n",
        "  m\n",
        "}"
      ],
      "execution_count": null,
      "outputs": []
    },
    {
      "cell_type": "markdown",
      "metadata": {
        "id": "J3kfjDr-Kp0z"
      },
      "source": [
        "\\begin{equation}\n",
        "    \\frac{\\partial \\log L}{\\partial \\lambda} = \\frac{\\sum_i x_i}{\\lambda} - \\frac{n e^\\lambda}{e^\\lambda - 1} = \n",
        "    \\frac{\\sum_i x_i}{\\lambda} - n \\frac{e^\\lambda}{e^\\lambda - 1}.    \n",
        "\\end{equation}"
      ]
    },
    {
      "cell_type": "code",
      "metadata": {
        "id": "sE3jbW9hLCdF"
      },
      "source": [
        "## gradient\n",
        "grad <- function(par, x)  {\n",
        "  g <- sum(x) / par - length(x)*exp(par)/(exp(par)-1)\n",
        "  g\n",
        "}"
      ],
      "execution_count": null,
      "outputs": []
    },
    {
      "cell_type": "markdown",
      "metadata": {
        "id": "LBoXxUTHLDQC"
      },
      "source": [
        "\\begin{equation}\n",
        "    \\frac{\\partial^2 \\log L}{\\partial \\lambda^2} =  - \\frac{\\sum_i x_i}{\\lambda^2} + n \\frac{e^\\lambda}{(e^\\lambda-1)^2}.\n",
        "\\end{equation}\n"
      ]
    },
    {
      "cell_type": "code",
      "metadata": {
        "id": "JqNEFpFuKCsJ"
      },
      "source": [
        "## hessian\n",
        "hess <- function(par, x) {\n",
        "  h <- -sum(x)/par^2 + length(x)*exp(par)/(exp(par)-1)^2 \n",
        "  h\n",
        "}"
      ],
      "execution_count": null,
      "outputs": []
    },
    {
      "cell_type": "markdown",
      "metadata": {
        "id": "o5QwVthYLQFJ"
      },
      "source": [
        "Now, we need to generate some data that comes from zero-truncated Poisson distribution."
      ]
    },
    {
      "cell_type": "code",
      "metadata": {
        "colab": {
          "base_uri": "https://localhost:8080/",
          "height": 437
        },
        "id": "1iGJJ6nALPYD",
        "outputId": "9b86cc9a-4df6-4d41-fb7b-eaae17d4f8ec"
      },
      "source": [
        "## generate fake data \n",
        "set.seed(123)\n",
        "x <- rtpois(n = 10000, lambda = 2.5, a = 0) ## random numbers from truncated Poisson (tpois)\n",
        "#x <- rpois(n= 10000, lambda = 2.5)\n",
        "barplot(table(x))"
      ],
      "execution_count": null,
      "outputs": [
        {
          "output_type": "display_data",
          "data": {
            "image/png": "[encoded data removed]",
            "text/plain": [
              "plot without title"
            ]
          },
          "metadata": {
            "tags": [],
            "image/png": {
              "width": 420,
              "height": 420
            }
          }
        }
      ]
    },
    {
      "cell_type": "markdown",
      "metadata": {
        "id": "o9pPOOnCNW7H"
      },
      "source": [
        "First, let's start with maxLik package and provide only log-lik function"
      ]
    },
    {
      "cell_type": "code",
      "metadata": {
        "colab": {
          "base_uri": "https://localhost:8080/",
          "height": 218
        },
        "id": "FoPMkHjFKLBC",
        "outputId": "09f051ae-ca18-4754-e59c-9e8e446814ad"
      },
      "source": [
        "## without gradient and hessian\n",
        "res <- maxLik(logLik = ll, start = 1, method = \"NR\", x = x)\n",
        "summary(res)"
      ],
      "execution_count": null,
      "outputs": [
        {
          "output_type": "display_data",
          "data": {
            "text/plain": [
              "--------------------------------------------\n",
              "Maximum Likelihood estimation\n",
              "Newton-Raphson maximisation, 6 iterations\n",
              "Return code 2: successive function values within tolerance limit (tol)\n",
              "Log-Likelihood: 637.5431 \n",
              "1  free parameters\n",
              "Estimates:\n",
              "     Estimate Std. error t value Pr(> t)    \n",
              "[1,]  2.47732    0.01714   144.6  <2e-16 ***\n",
              "---\n",
              "Signif. codes:  0 ‘***’ 0.001 ‘**’ 0.01 ‘*’ 0.05 ‘.’ 0.1 ‘ ’ 1\n",
              "--------------------------------------------"
            ]
          },
          "metadata": {
            "tags": []
          }
        }
      ]
    },
    {
      "cell_type": "code",
      "metadata": {
        "colab": {
          "base_uri": "https://localhost:8080/",
          "height": 218
        },
        "id": "1u4jSZL7KMV7",
        "outputId": "317e5b29-3148-4924-d14d-01f8182c91c9"
      },
      "source": [
        "## with gradient and hessian\n",
        "res2 <- maxLik(logLik = ll,  \n",
        "               grad = grad, \n",
        "               hess = hess, \n",
        "               start = 1, x = x, method = \"NR\")\n",
        "summary(res2)"
      ],
      "execution_count": null,
      "outputs": [
        {
          "output_type": "display_data",
          "data": {
            "text/plain": [
              "--------------------------------------------\n",
              "Maximum Likelihood estimation\n",
              "Newton-Raphson maximisation, 6 iterations\n",
              "Return code 1: gradient close to zero (gradtol)\n",
              "Log-Likelihood: 637.5431 \n",
              "1  free parameters\n",
              "Estimates:\n",
              "     Estimate Std. error t value Pr(> t)    \n",
              "[1,]  2.47732    0.01713   144.6  <2e-16 ***\n",
              "---\n",
              "Signif. codes:  0 ‘***’ 0.001 ‘**’ 0.01 ‘*’ 0.05 ‘.’ 0.1 ‘ ’ 1\n",
              "--------------------------------------------"
            ]
          },
          "metadata": {
            "tags": []
          }
        }
      ]
    },
    {
      "cell_type": "markdown",
      "metadata": {
        "id": "jnoF6mdXRq92"
      },
      "source": [
        "Doing Newton's method step-by-step"
      ]
    },
    {
      "cell_type": "code",
      "metadata": {
        "colab": {
          "base_uri": "https://localhost:8080/"
        },
        "id": "krcRVAypRuX7",
        "outputId": "d000eba0-ef38-4ee8-d4cc-61646c064caf"
      },
      "source": [
        "x_0 <- 1 ## starting point\n",
        "\n",
        "for (i in 1:10) { \n",
        "  \n",
        "  x_1 <- x_0 - grad(x_0, x)/hess(x_0, x) ## x_{n+1} = x_n - f(x)/f'(x)\n",
        "  \n",
        "  cat(\"current value: \", x_1, \"\\n\")\n",
        "\n",
        "  if ( abs(x_0 - x_1) < 0.001) {\n",
        "    cat(\"Result:\", x_1, \"\\n\")\n",
        "    cat(\"Algorithm converged after: \", i, \" iterations.\")\n",
        "    break()\n",
        "    \n",
        "  }\n",
        "  x_0 <- x_1\n",
        "\n",
        "}"
      ],
      "execution_count": null,
      "outputs": [
        {
          "output_type": "stream",
          "text": [
            "current value:  1.629258 \n",
            "current value:  2.210732 \n",
            "current value:  2.452107 \n",
            "current value:  2.477094 \n",
            "current value:  2.477316 \n",
            "Result: 2.477316 \n",
            "Algorithm converged after:  5  iterations."
          ],
          "name": "stdout"
        }
      ]
    },
    {
      "cell_type": "markdown",
      "metadata": {
        "id": "CttO0hKBSlMT"
      },
      "source": [
        "We do the same but specifying log-pdf of zero-truncated Poisson distribution."
      ]
    },
    {
      "cell_type": "code",
      "metadata": {
        "colab": {
          "base_uri": "https://localhost:8080/",
          "height": 218
        },
        "id": "qJZzXE84StE5",
        "outputId": "45d5fbd7-35f1-44bb-a09c-858dff63cb89"
      },
      "source": [
        "ll <- function(par, x) {\n",
        "  m <- dtpois(x, lambda = par, a = 0, log = TRUE) ## log-pdf\n",
        "  sum(m)\n",
        "}\n",
        "\n",
        "set.seed(123)\n",
        "x <- rtpois(10000, lambda = 2.5, a = 0)\n",
        "\n",
        "## without gradient and hessian\n",
        "res <- maxLik(logLik = ll, start = 1, x = x, method = \"NR\")\n",
        "summary(res)"
      ],
      "execution_count": null,
      "outputs": [
        {
          "output_type": "display_data",
          "data": {
            "text/plain": [
              "--------------------------------------------\n",
              "Maximum Likelihood estimation\n",
              "Newton-Raphson maximisation, 5 iterations\n",
              "Return code 8: successive function values within relative tolerance limit (reltol)\n",
              "Log-Likelihood: -16734.12 \n",
              "1  free parameters\n",
              "Estimates:\n",
              "     Estimate Std. error t value Pr(> t)    \n",
              "[1,]  2.47732    0.01714   144.6  <2e-16 ***\n",
              "---\n",
              "Signif. codes:  0 ‘***’ 0.001 ‘**’ 0.01 ‘*’ 0.05 ‘.’ 0.1 ‘ ’ 1\n",
              "--------------------------------------------"
            ]
          },
          "metadata": {
            "tags": []
          }
        }
      ]
    }
  ]
}