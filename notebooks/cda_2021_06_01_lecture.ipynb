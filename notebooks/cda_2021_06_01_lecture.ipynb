{
  "nbformat": 4,
  "nbformat_minor": 0,
  "metadata": {
    "colab": {
      "name": "cda_2021_06_01_lecture.ipynb",
      "provenance": [],
      "collapsed_sections": [],
      "authorship_tag": "ABX9TyP2nyJCPBTMlJxwS2+oUOyK",
      "include_colab_link": true
    },
    "kernelspec": {
      "name": "ir",
      "display_name": "R"
    },
    "language_info": {
      "name": "R"
    }
  },
  "cells": [
    {
      "cell_type": "markdown",
      "metadata": {
        "id": "view-in-github",
        "colab_type": "text"
      },
      "source": [
        "<a href=\"https://colab.research.google.com/github/DepartmentOfStatisticsPUE/cda-2021/blob/main/notebooks/cda_2021_06_01_lecture.ipynb\" target=\"_parent\"><img src=\"https://colab.research.google.com/assets/colab-badge.svg\" alt=\"Open In Colab\"/></a>"
      ]
    },
    {
      "cell_type": "markdown",
      "metadata": {
        "id": "Bz6KTkOrc_Iq"
      },
      "source": [
        "We need to install package `arules` in order to run basket/association analysis."
      ]
    },
    {
      "cell_type": "code",
      "metadata": {
        "colab": {
          "base_uri": "https://localhost:8080/"
        },
        "id": "oq6hKF0sc1V2",
        "outputId": "8047bce6-9a91-4e66-c6bb-2241f06299bc"
      },
      "source": [
        "install.packages(\"arules\")"
      ],
      "execution_count": 2,
      "outputs": [
        {
          "output_type": "stream",
          "text": [
            "Installing package into ‘/usr/local/lib/R/site-library’\n",
            "(as ‘lib’ is unspecified)\n",
            "\n"
          ],
          "name": "stderr"
        }
      ]
    },
    {
      "cell_type": "code",
      "metadata": {
        "id": "4ta5xt00gEXx"
      },
      "source": [
        "library(arules)"
      ],
      "execution_count": null,
      "outputs": []
    },
    {
      "cell_type": "markdown",
      "metadata": {
        "id": "qHjuGHDVdGpt"
      },
      "source": [
        "Read the data. This dataset contains the following competences:\n",
        "\n",
        "\n",
        "+ technical (techniczne), \n",
        "+ mathematical,\n",
        "+ artistic,\n",
        "+ computer,\n",
        "+ cognitice,\n",
        "+ managerial,\n",
        "+ interpersonal,\n",
        "+ individual / self-organization,\n",
        "+ physical,\n",
        "+ availability, \n",
        "+ office."
      ]
    },
    {
      "cell_type": "code",
      "metadata": {
        "colab": {
          "base_uri": "https://localhost:8080/",
          "height": 313
        },
        "id": "5VVho5fldIUT",
        "outputId": "b1333021-2c5b-4e97-82ed-8bd93fb2768b"
      },
      "source": [
        "data <- readRDS(\"data-bkl.rds\")\n",
        "data <- data[,-1]\n",
        "head(data)\n",
        "dim(data)"
      ],
      "execution_count": 5,
      "outputs": [
        {
          "output_type": "display_data",
          "data": {
            "text/plain": [
              "  techniczne matematyczne kulturalne komputerowe kognitywne kierownicze\n",
              "1 0          0            1          0           0          0          \n",
              "2 0          0            0          0           0          0          \n",
              "3 0          0            0          0           0          0          \n",
              "4 0          0            0          0           0          0          \n",
              "5 0          0            0          0           0          0          \n",
              "6 0          0            0          0           0          0          \n",
              "  interpersonalne indywidualne fizyczne dyspozycyjne biurowe\n",
              "1 0               1            0        0            0      \n",
              "2 0               0            0        0            0      \n",
              "3 0               0            0        0            0      \n",
              "4 0               0            0        0            0      \n",
              "5 1               0            1        0            0      \n",
              "6 1               1            0        0            0      "
            ],
            "text/latex": "A data.frame: 6 × 11\n\\begin{tabular}{r|lllllllllll}\n  & techniczne & matematyczne & kulturalne & komputerowe & kognitywne & kierownicze & interpersonalne & indywidualne & fizyczne & dyspozycyjne & biurowe\\\\\n  & <dbl> & <dbl> & <dbl> & <dbl> & <dbl> & <dbl> & <dbl> & <dbl> & <dbl> & <dbl> & <dbl>\\\\\n\\hline\n\t1 & 0 & 0 & 1 & 0 & 0 & 0 & 0 & 1 & 0 & 0 & 0\\\\\n\t2 & 0 & 0 & 0 & 0 & 0 & 0 & 0 & 0 & 0 & 0 & 0\\\\\n\t3 & 0 & 0 & 0 & 0 & 0 & 0 & 0 & 0 & 0 & 0 & 0\\\\\n\t4 & 0 & 0 & 0 & 0 & 0 & 0 & 0 & 0 & 0 & 0 & 0\\\\\n\t5 & 0 & 0 & 0 & 0 & 0 & 0 & 1 & 0 & 1 & 0 & 0\\\\\n\t6 & 0 & 0 & 0 & 0 & 0 & 0 & 1 & 1 & 0 & 0 & 0\\\\\n\\end{tabular}\n",
            "text/markdown": "\nA data.frame: 6 × 11\n\n| <!--/--> | techniczne &lt;dbl&gt; | matematyczne &lt;dbl&gt; | kulturalne &lt;dbl&gt; | komputerowe &lt;dbl&gt; | kognitywne &lt;dbl&gt; | kierownicze &lt;dbl&gt; | interpersonalne &lt;dbl&gt; | indywidualne &lt;dbl&gt; | fizyczne &lt;dbl&gt; | dyspozycyjne &lt;dbl&gt; | biurowe &lt;dbl&gt; |\n|---|---|---|---|---|---|---|---|---|---|---|---|\n| 1 | 0 | 0 | 1 | 0 | 0 | 0 | 0 | 1 | 0 | 0 | 0 |\n| 2 | 0 | 0 | 0 | 0 | 0 | 0 | 0 | 0 | 0 | 0 | 0 |\n| 3 | 0 | 0 | 0 | 0 | 0 | 0 | 0 | 0 | 0 | 0 | 0 |\n| 4 | 0 | 0 | 0 | 0 | 0 | 0 | 0 | 0 | 0 | 0 | 0 |\n| 5 | 0 | 0 | 0 | 0 | 0 | 0 | 1 | 0 | 1 | 0 | 0 |\n| 6 | 0 | 0 | 0 | 0 | 0 | 0 | 1 | 1 | 0 | 0 | 0 |\n\n",
            "text/html": [
              "<table class=\"dataframe\">\n",
              "<caption>A data.frame: 6 × 11</caption>\n",
              "<thead>\n",
              "\t<tr><th></th><th scope=col>techniczne</th><th scope=col>matematyczne</th><th scope=col>kulturalne</th><th scope=col>komputerowe</th><th scope=col>kognitywne</th><th scope=col>kierownicze</th><th scope=col>interpersonalne</th><th scope=col>indywidualne</th><th scope=col>fizyczne</th><th scope=col>dyspozycyjne</th><th scope=col>biurowe</th></tr>\n",
              "\t<tr><th></th><th scope=col>&lt;dbl&gt;</th><th scope=col>&lt;dbl&gt;</th><th scope=col>&lt;dbl&gt;</th><th scope=col>&lt;dbl&gt;</th><th scope=col>&lt;dbl&gt;</th><th scope=col>&lt;dbl&gt;</th><th scope=col>&lt;dbl&gt;</th><th scope=col>&lt;dbl&gt;</th><th scope=col>&lt;dbl&gt;</th><th scope=col>&lt;dbl&gt;</th><th scope=col>&lt;dbl&gt;</th></tr>\n",
              "</thead>\n",
              "<tbody>\n",
              "\t<tr><th scope=row>1</th><td>0</td><td>0</td><td>1</td><td>0</td><td>0</td><td>0</td><td>0</td><td>1</td><td>0</td><td>0</td><td>0</td></tr>\n",
              "\t<tr><th scope=row>2</th><td>0</td><td>0</td><td>0</td><td>0</td><td>0</td><td>0</td><td>0</td><td>0</td><td>0</td><td>0</td><td>0</td></tr>\n",
              "\t<tr><th scope=row>3</th><td>0</td><td>0</td><td>0</td><td>0</td><td>0</td><td>0</td><td>0</td><td>0</td><td>0</td><td>0</td><td>0</td></tr>\n",
              "\t<tr><th scope=row>4</th><td>0</td><td>0</td><td>0</td><td>0</td><td>0</td><td>0</td><td>0</td><td>0</td><td>0</td><td>0</td><td>0</td></tr>\n",
              "\t<tr><th scope=row>5</th><td>0</td><td>0</td><td>0</td><td>0</td><td>0</td><td>0</td><td>1</td><td>0</td><td>1</td><td>0</td><td>0</td></tr>\n",
              "\t<tr><th scope=row>6</th><td>0</td><td>0</td><td>0</td><td>0</td><td>0</td><td>0</td><td>1</td><td>1</td><td>0</td><td>0</td><td>0</td></tr>\n",
              "</tbody>\n",
              "</table>\n"
            ]
          },
          "metadata": {
            "tags": []
          }
        },
        {
          "output_type": "display_data",
          "data": {
            "text/plain": [
              "[1] 12910    11"
            ],
            "text/latex": "\\begin{enumerate*}\n\\item 12910\n\\item 11\n\\end{enumerate*}\n",
            "text/markdown": "1. 12910\n2. 11\n\n\n",
            "text/html": [
              "<style>\n",
              ".list-inline {list-style: none; margin:0; padding: 0}\n",
              ".list-inline>li {display: inline-block}\n",
              ".list-inline>li:not(:last-child)::after {content: \"\\00b7\"; padding: 0 .5ex}\n",
              "</style>\n",
              "<ol class=list-inline><li>12910</li><li>11</li></ol>\n"
            ]
          },
          "metadata": {
            "tags": []
          }
        }
      ]
    },
    {
      "cell_type": "markdown",
      "metadata": {
        "id": "gEx3NcEeeqWw"
      },
      "source": [
        "Let's check in what share of job ads given competence was mentioned."
      ]
    },
    {
      "cell_type": "code",
      "metadata": {
        "colab": {
          "base_uri": "https://localhost:8080/"
        },
        "id": "FOa0UD0-egQE",
        "outputId": "78917aac-8569-4508-fb9c-78cb1ce4ae3a"
      },
      "source": [
        "print(colMeans(data)*100)"
      ],
      "execution_count": 10,
      "outputs": [
        {
          "output_type": "stream",
          "text": [
            "     techniczne    matematyczne      kulturalne     komputerowe      kognitywne \n",
            "      4.4461658       0.3408211      15.8171960      34.3067390      21.0921766 \n",
            "    kierownicze interpersonalne    indywidualne        fizyczne    dyspozycyjne \n",
            "     31.1773819      61.0302091      66.1270333       8.0325329      23.6638265 \n",
            "        biurowe \n",
            "      2.9434547 \n"
          ],
          "name": "stdout"
        }
      ]
    },
    {
      "cell_type": "markdown",
      "metadata": {
        "id": "q0RQfM2IfBsd"
      },
      "source": [
        "In order to run basket/association analysis we should do the following steps:\n",
        "\n",
        "1. verify format of the data (transactions vs matrix),\n",
        "2. create special object that will be recognized by the `arules` package,\n",
        "3. run function `apriori` that finds rules according to some tresholds."
      ]
    },
    {
      "cell_type": "code",
      "metadata": {
        "colab": {
          "base_uri": "https://localhost:8080/",
          "height": 69
        },
        "id": "4-oV8vquflYu",
        "outputId": "1910862c-1f72-4010-eeed-df66d5e805cf"
      },
      "source": [
        "## first step \n",
        "data_m <- as.matrix(data)\n",
        "## second step\n",
        "competences <- as(data_m, \"transactions\")\n",
        "competences"
      ],
      "execution_count": 22,
      "outputs": [
        {
          "output_type": "display_data",
          "data": {
            "text/plain": [
              "transactions in sparse format with\n",
              " 12910 transactions (rows) and\n",
              " 11 items (columns)"
            ]
          },
          "metadata": {
            "tags": []
          }
        }
      ]
    },
    {
      "cell_type": "code",
      "metadata": {
        "colab": {
          "base_uri": "https://localhost:8080/",
          "height": 518
        },
        "id": "rijOff2JghiU",
        "outputId": "b1e60dec-cf3f-403c-e3ec-34539c8eec02"
      },
      "source": [
        "summary(competences)"
      ],
      "execution_count": 23,
      "outputs": [
        {
          "output_type": "display_data",
          "data": {
            "text/plain": [
              "transactions as itemMatrix in sparse format with\n",
              " 12910 rows (elements/itemsets/transactions) and\n",
              " 11 columns (items) and a density of 0.244525 \n",
              "\n",
              "most frequent items:\n",
              "   indywidualne interpersonalne     komputerowe     kierownicze    dyspozycyjne \n",
              "           8537            7879            4429            4025            3055 \n",
              "        (Other) \n",
              "           6800 \n",
              "\n",
              "element (itemset/transaction) length distribution:\n",
              "sizes\n",
              "   0    1    2    3    4    5    6    7    8    9 \n",
              "1567 1448 2465 3324 2599 1152  271   80    3    1 \n",
              "\n",
              "   Min. 1st Qu.  Median    Mean 3rd Qu.    Max. \n",
              "   0.00    2.00    3.00    2.69    4.00    9.00 \n",
              "\n",
              "includes extended item information - examples:\n",
              "        labels\n",
              "1   techniczne\n",
              "2 matematyczne\n",
              "3   kulturalne\n",
              "\n",
              "includes extended transaction information - examples:\n",
              "  transactionID\n",
              "1             1\n",
              "2             2\n",
              "3             3"
            ]
          },
          "metadata": {
            "tags": []
          }
        }
      ]
    },
    {
      "cell_type": "code",
      "metadata": {
        "colab": {
          "base_uri": "https://localhost:8080/",
          "height": 397
        },
        "id": "YVW7qSQSf_gW",
        "outputId": "995bde07-bab1-4142-c212-e8b24d37141d"
      },
      "source": [
        "## third step -- association analysis\n",
        "results <- apriori(competences)\n",
        "results"
      ],
      "execution_count": 24,
      "outputs": [
        {
          "output_type": "stream",
          "text": [
            "Apriori\n",
            "\n",
            "Parameter specification:\n",
            " confidence minval smax arem  aval originalSupport maxtime support minlen\n",
            "        0.8    0.1    1 none FALSE            TRUE       5     0.1      1\n",
            " maxlen target  ext\n",
            "     10  rules TRUE\n",
            "\n",
            "Algorithmic control:\n",
            " filter tree heap memopt load sort verbose\n",
            "    0.1 TRUE TRUE  FALSE TRUE    2    TRUE\n",
            "\n",
            "Absolute minimum support count: 1291 \n",
            "\n",
            "set item appearances ...[0 item(s)] done [0.00s].\n",
            "set transactions ...[11 item(s), 12910 transaction(s)] done [0.00s].\n",
            "sorting and recoding items ... [7 item(s)] done [0.00s].\n",
            "creating transaction tree ... done [0.00s].\n",
            "checking subsets of size 1 2 3 done [0.00s].\n",
            "writing ... [11 rule(s)] done [0.00s].\n",
            "creating S4 object  ... done [0.00s].\n"
          ],
          "name": "stdout"
        },
        {
          "output_type": "display_data",
          "data": {
            "text/plain": [
              "set of 11 rules "
            ]
          },
          "metadata": {
            "tags": []
          }
        }
      ]
    },
    {
      "cell_type": "code",
      "metadata": {
        "colab": {
          "base_uri": "https://localhost:8080/"
        },
        "id": "OVFrS6dri5Nb",
        "outputId": "7ff5bc45-81f9-43d1-fcf7-07911f829a0a"
      },
      "source": [
        "## forth step is to analyse results\n",
        "results_inspect <- inspect(results,  print = FALSE)"
      ],
      "execution_count": 29,
      "outputs": [
        {
          "output_type": "stream",
          "text": [
            "     lhs                               rhs               support   confidence\n",
            "[1]  {kulturalne}                   => {interpersonalne} 0.1284276 0.8119491 \n",
            "[2]  {kulturalne}                   => {indywidualne}    0.1318358 0.8334966 \n",
            "[3]  {kognitywne}                   => {indywidualne}    0.1714175 0.8127066 \n",
            "[4]  {kierownicze}                  => {indywidualne}    0.2600310 0.8340373 \n",
            "[5]  {interpersonalne}              => {indywidualne}    0.4964369 0.8134281 \n",
            "[6]  {kulturalne,interpersonalne}   => {indywidualne}    0.1108443 0.8630881 \n",
            "[7]  {kulturalne,indywidualne}      => {interpersonalne} 0.1108443 0.8407756 \n",
            "[8]  {kognitywne,interpersonalne}   => {indywidualne}    0.1275755 0.8351927 \n",
            "[9]  {interpersonalne,dyspozycyjne} => {indywidualne}    0.1312936 0.8466533 \n",
            "[10] {komputerowe,kierownicze}      => {indywidualne}    0.1014717 0.8624095 \n",
            "[11] {kierownicze,interpersonalne}  => {indywidualne}    0.2047250 0.8332282 \n",
            "     coverage  lift     count\n",
            "[1]  0.1581720 1.330405 1658 \n",
            "[2]  0.1581720 1.260448 1702 \n",
            "[3]  0.2109218 1.229008 2213 \n",
            "[4]  0.3117738 1.261265 3357 \n",
            "[5]  0.6103021 1.230099 6409 \n",
            "[6]  0.1284276 1.305197 1431 \n",
            "[7]  0.1318358 1.377638 1431 \n",
            "[8]  0.1527498 1.263013 1647 \n",
            "[9]  0.1550736 1.280344 1695 \n",
            "[10] 0.1176607 1.304171 1310 \n",
            "[11] 0.2457010 1.260042 2643 \n"
          ],
          "name": "stdout"
        }
      ]
    },
    {
      "cell_type": "code",
      "metadata": {
        "colab": {
          "base_uri": "https://localhost:8080/",
          "height": 425
        },
        "id": "VlfbIJZ_jasv",
        "outputId": "a9fb548c-3471-4380-8d4a-0b782481680c"
      },
      "source": [
        "as.data.frame(results_inspect)"
      ],
      "execution_count": 30,
      "outputs": [
        {
          "output_type": "display_data",
          "data": {
            "text/plain": [
              "     lhs                               rhs               support   confidence\n",
              "[1]  {kulturalne}                   => {interpersonalne} 0.1284276 0.8119491 \n",
              "[2]  {kulturalne}                   => {indywidualne}    0.1318358 0.8334966 \n",
              "[3]  {kognitywne}                   => {indywidualne}    0.1714175 0.8127066 \n",
              "[4]  {kierownicze}                  => {indywidualne}    0.2600310 0.8340373 \n",
              "[5]  {interpersonalne}              => {indywidualne}    0.4964369 0.8134281 \n",
              "[6]  {kulturalne,interpersonalne}   => {indywidualne}    0.1108443 0.8630881 \n",
              "[7]  {kulturalne,indywidualne}      => {interpersonalne} 0.1108443 0.8407756 \n",
              "[8]  {kognitywne,interpersonalne}   => {indywidualne}    0.1275755 0.8351927 \n",
              "[9]  {interpersonalne,dyspozycyjne} => {indywidualne}    0.1312936 0.8466533 \n",
              "[10] {komputerowe,kierownicze}      => {indywidualne}    0.1014717 0.8624095 \n",
              "[11] {kierownicze,interpersonalne}  => {indywidualne}    0.2047250 0.8332282 \n",
              "     coverage  lift     count\n",
              "[1]  0.1581720 1.330405 1658 \n",
              "[2]  0.1581720 1.260448 1702 \n",
              "[3]  0.2109218 1.229008 2213 \n",
              "[4]  0.3117738 1.261265 3357 \n",
              "[5]  0.6103021 1.230099 6409 \n",
              "[6]  0.1284276 1.305197 1431 \n",
              "[7]  0.1318358 1.377638 1431 \n",
              "[8]  0.1527498 1.263013 1647 \n",
              "[9]  0.1550736 1.280344 1695 \n",
              "[10] 0.1176607 1.304171 1310 \n",
              "[11] 0.2457010 1.260042 2643 "
            ],
            "text/latex": "A data.frame: 11 × 8\n\\begin{tabular}{r|llllllll}\n  & lhs &  & rhs & support & confidence & coverage & lift & count\\\\\n  & <chr> & <chr> & <chr> & <dbl> & <dbl> & <dbl> & <dbl> & <int>\\\\\n\\hline\n\t{[}1{]} & \\{kulturalne\\}                   & => & \\{interpersonalne\\} & 0.1284276 & 0.8119491 & 0.1581720 & 1.330405 & 1658\\\\\n\t{[}2{]} & \\{kulturalne\\}                   & => & \\{indywidualne\\}    & 0.1318358 & 0.8334966 & 0.1581720 & 1.260448 & 1702\\\\\n\t{[}3{]} & \\{kognitywne\\}                   & => & \\{indywidualne\\}    & 0.1714175 & 0.8127066 & 0.2109218 & 1.229008 & 2213\\\\\n\t{[}4{]} & \\{kierownicze\\}                  & => & \\{indywidualne\\}    & 0.2600310 & 0.8340373 & 0.3117738 & 1.261265 & 3357\\\\\n\t{[}5{]} & \\{interpersonalne\\}              & => & \\{indywidualne\\}    & 0.4964369 & 0.8134281 & 0.6103021 & 1.230099 & 6409\\\\\n\t{[}6{]} & \\{kulturalne,interpersonalne\\}   & => & \\{indywidualne\\}    & 0.1108443 & 0.8630881 & 0.1284276 & 1.305197 & 1431\\\\\n\t{[}7{]} & \\{kulturalne,indywidualne\\}      & => & \\{interpersonalne\\} & 0.1108443 & 0.8407756 & 0.1318358 & 1.377638 & 1431\\\\\n\t{[}8{]} & \\{kognitywne,interpersonalne\\}   & => & \\{indywidualne\\}    & 0.1275755 & 0.8351927 & 0.1527498 & 1.263013 & 1647\\\\\n\t{[}9{]} & \\{interpersonalne,dyspozycyjne\\} & => & \\{indywidualne\\}    & 0.1312936 & 0.8466533 & 0.1550736 & 1.280344 & 1695\\\\\n\t{[}10{]} & \\{komputerowe,kierownicze\\}      & => & \\{indywidualne\\}    & 0.1014717 & 0.8624095 & 0.1176607 & 1.304171 & 1310\\\\\n\t{[}11{]} & \\{kierownicze,interpersonalne\\}  & => & \\{indywidualne\\}    & 0.2047250 & 0.8332282 & 0.2457010 & 1.260042 & 2643\\\\\n\\end{tabular}\n",
            "text/markdown": "\nA data.frame: 11 × 8\n\n| <!--/--> | lhs &lt;chr&gt; | <!----> &lt;chr&gt; | rhs &lt;chr&gt; | support &lt;dbl&gt; | confidence &lt;dbl&gt; | coverage &lt;dbl&gt; | lift &lt;dbl&gt; | count &lt;int&gt; |\n|---|---|---|---|---|---|---|---|---|\n| [1] | {kulturalne}                   | =&gt; | {interpersonalne} | 0.1284276 | 0.8119491 | 0.1581720 | 1.330405 | 1658 |\n| [2] | {kulturalne}                   | =&gt; | {indywidualne}    | 0.1318358 | 0.8334966 | 0.1581720 | 1.260448 | 1702 |\n| [3] | {kognitywne}                   | =&gt; | {indywidualne}    | 0.1714175 | 0.8127066 | 0.2109218 | 1.229008 | 2213 |\n| [4] | {kierownicze}                  | =&gt; | {indywidualne}    | 0.2600310 | 0.8340373 | 0.3117738 | 1.261265 | 3357 |\n| [5] | {interpersonalne}              | =&gt; | {indywidualne}    | 0.4964369 | 0.8134281 | 0.6103021 | 1.230099 | 6409 |\n| [6] | {kulturalne,interpersonalne}   | =&gt; | {indywidualne}    | 0.1108443 | 0.8630881 | 0.1284276 | 1.305197 | 1431 |\n| [7] | {kulturalne,indywidualne}      | =&gt; | {interpersonalne} | 0.1108443 | 0.8407756 | 0.1318358 | 1.377638 | 1431 |\n| [8] | {kognitywne,interpersonalne}   | =&gt; | {indywidualne}    | 0.1275755 | 0.8351927 | 0.1527498 | 1.263013 | 1647 |\n| [9] | {interpersonalne,dyspozycyjne} | =&gt; | {indywidualne}    | 0.1312936 | 0.8466533 | 0.1550736 | 1.280344 | 1695 |\n| [10] | {komputerowe,kierownicze}      | =&gt; | {indywidualne}    | 0.1014717 | 0.8624095 | 0.1176607 | 1.304171 | 1310 |\n| [11] | {kierownicze,interpersonalne}  | =&gt; | {indywidualne}    | 0.2047250 | 0.8332282 | 0.2457010 | 1.260042 | 2643 |\n\n",
            "text/html": [
              "<table class=\"dataframe\">\n",
              "<caption>A data.frame: 11 × 8</caption>\n",
              "<thead>\n",
              "\t<tr><th></th><th scope=col>lhs</th><th scope=col></th><th scope=col>rhs</th><th scope=col>support</th><th scope=col>confidence</th><th scope=col>coverage</th><th scope=col>lift</th><th scope=col>count</th></tr>\n",
              "\t<tr><th></th><th scope=col>&lt;chr&gt;</th><th scope=col>&lt;chr&gt;</th><th scope=col>&lt;chr&gt;</th><th scope=col>&lt;dbl&gt;</th><th scope=col>&lt;dbl&gt;</th><th scope=col>&lt;dbl&gt;</th><th scope=col>&lt;dbl&gt;</th><th scope=col>&lt;int&gt;</th></tr>\n",
              "</thead>\n",
              "<tbody>\n",
              "\t<tr><th scope=row>[1]</th><td><span style=white-space:pre-wrap>{kulturalne}                  </span></td><td>=&gt;</td><td>{interpersonalne}</td><td>0.1284276</td><td>0.8119491</td><td>0.1581720</td><td>1.330405</td><td>1658</td></tr>\n",
              "\t<tr><th scope=row>[2]</th><td><span style=white-space:pre-wrap>{kulturalne}                  </span></td><td>=&gt;</td><td><span style=white-space:pre-wrap>{indywidualne}   </span></td><td>0.1318358</td><td>0.8334966</td><td>0.1581720</td><td>1.260448</td><td>1702</td></tr>\n",
              "\t<tr><th scope=row>[3]</th><td><span style=white-space:pre-wrap>{kognitywne}                  </span></td><td>=&gt;</td><td><span style=white-space:pre-wrap>{indywidualne}   </span></td><td>0.1714175</td><td>0.8127066</td><td>0.2109218</td><td>1.229008</td><td>2213</td></tr>\n",
              "\t<tr><th scope=row>[4]</th><td><span style=white-space:pre-wrap>{kierownicze}                 </span></td><td>=&gt;</td><td><span style=white-space:pre-wrap>{indywidualne}   </span></td><td>0.2600310</td><td>0.8340373</td><td>0.3117738</td><td>1.261265</td><td>3357</td></tr>\n",
              "\t<tr><th scope=row>[5]</th><td><span style=white-space:pre-wrap>{interpersonalne}             </span></td><td>=&gt;</td><td><span style=white-space:pre-wrap>{indywidualne}   </span></td><td>0.4964369</td><td>0.8134281</td><td>0.6103021</td><td>1.230099</td><td>6409</td></tr>\n",
              "\t<tr><th scope=row>[6]</th><td><span style=white-space:pre-wrap>{kulturalne,interpersonalne}  </span></td><td>=&gt;</td><td><span style=white-space:pre-wrap>{indywidualne}   </span></td><td>0.1108443</td><td>0.8630881</td><td>0.1284276</td><td>1.305197</td><td>1431</td></tr>\n",
              "\t<tr><th scope=row>[7]</th><td><span style=white-space:pre-wrap>{kulturalne,indywidualne}     </span></td><td>=&gt;</td><td>{interpersonalne}</td><td>0.1108443</td><td>0.8407756</td><td>0.1318358</td><td>1.377638</td><td>1431</td></tr>\n",
              "\t<tr><th scope=row>[8]</th><td><span style=white-space:pre-wrap>{kognitywne,interpersonalne}  </span></td><td>=&gt;</td><td><span style=white-space:pre-wrap>{indywidualne}   </span></td><td>0.1275755</td><td>0.8351927</td><td>0.1527498</td><td>1.263013</td><td>1647</td></tr>\n",
              "\t<tr><th scope=row>[9]</th><td>{interpersonalne,dyspozycyjne}</td><td>=&gt;</td><td><span style=white-space:pre-wrap>{indywidualne}   </span></td><td>0.1312936</td><td>0.8466533</td><td>0.1550736</td><td>1.280344</td><td>1695</td></tr>\n",
              "\t<tr><th scope=row>[10]</th><td><span style=white-space:pre-wrap>{komputerowe,kierownicze}     </span></td><td>=&gt;</td><td><span style=white-space:pre-wrap>{indywidualne}   </span></td><td>0.1014717</td><td>0.8624095</td><td>0.1176607</td><td>1.304171</td><td>1310</td></tr>\n",
              "\t<tr><th scope=row>[11]</th><td>{kierownicze,interpersonalne} </td><td>=&gt;</td><td><span style=white-space:pre-wrap>{indywidualne}   </span></td><td>0.2047250</td><td>0.8332282</td><td>0.2457010</td><td>1.260042</td><td>2643</td></tr>\n",
              "</tbody>\n",
              "</table>\n"
            ]
          },
          "metadata": {
            "tags": []
          }
        }
      ]
    },
    {
      "cell_type": "markdown",
      "metadata": {
        "id": "y2svAcJflVF_"
      },
      "source": [
        "To visualize the results we may package `arulesVis` which provides a `shiny` app to mine rules."
      ]
    },
    {
      "cell_type": "code",
      "metadata": {
        "id": "ETL8oZYUlQzw"
      },
      "source": [
        ""
      ],
      "execution_count": null,
      "outputs": []
    }
  ]
}