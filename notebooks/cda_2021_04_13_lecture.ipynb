{
  "nbformat": 4,
  "nbformat_minor": 0,
  "metadata": {
    "colab": {
      "name": "cda_2021_04_13_lecture.ipynb",
      "provenance": [],
      "collapsed_sections": [],
      "authorship_tag": "ABX9TyN1lwSOwzgSdBCHHJGjg8UY",
      "include_colab_link": true
    },
    "kernelspec": {
      "name": "ir",
      "display_name": "R"
    },
    "language_info": {
      "name": "R"
    }
  },
  "cells": [
    {
      "cell_type": "markdown",
      "metadata": {
        "id": "view-in-github",
        "colab_type": "text"
      },
      "source": [
        "<a href=\"https://colab.research.google.com/github/DepartmentOfStatisticsPUE/cda-2021/blob/main/notebooks/cda_2021_04_13_lecture.ipynb\" target=\"_parent\"><img src=\"https://colab.research.google.com/assets/colab-badge.svg\" alt=\"Open In Colab\"/></a>"
      ]
    },
    {
      "cell_type": "markdown",
      "metadata": {
        "id": "eZ0gYYuREJU2"
      },
      "source": [
        "Correspondence analysis in R"
      ]
    },
    {
      "cell_type": "code",
      "metadata": {
        "colab": {
          "base_uri": "https://localhost:8080/"
        },
        "id": "AppGd02wEFhZ",
        "outputId": "dc830361-f218-410b-ca7b-1f4999d3e3db"
      },
      "source": [
        "install.packages(\"ca\")"
      ],
      "execution_count": 4,
      "outputs": [
        {
          "output_type": "stream",
          "text": [
            "Installing package into ‘/usr/local/lib/R/site-library’\n",
            "(as ‘lib’ is unspecified)\n",
            "\n"
          ],
          "name": "stderr"
        }
      ]
    },
    {
      "cell_type": "markdown",
      "metadata": {
        "id": "suUKN8TGERnB"
      },
      "source": [
        "Load `ca` package to use correspondence analysis in R"
      ]
    },
    {
      "cell_type": "code",
      "metadata": {
        "id": "TabjcExlERBb"
      },
      "source": [
        "library(ca)"
      ],
      "execution_count": 5,
      "outputs": []
    },
    {
      "cell_type": "markdown",
      "metadata": {
        "id": "SE8zGMJSEpkv"
      },
      "source": [
        "We will create data for our exercise"
      ]
    },
    {
      "cell_type": "code",
      "metadata": {
        "colab": {
          "base_uri": "https://localhost:8080/",
          "height": 215
        },
        "id": "lVsFsFzhEtOr",
        "outputId": "c4131af2-9210-43f9-f8d2-5b38f597d3ed"
      },
      "source": [
        "dane <- c(1933, 1175, 1186,\n",
        "          646, 579, 671,\n",
        "          707, 780, 767,\n",
        "          768, 962, 1126)\n",
        "\n",
        "N <- matrix(dane, ncol = 3, byrow = TRUE)\n",
        "rownames(N) <- c(\"rural\",\"c20\",\"c20_100\",\"c100\")\n",
        "colnames(N) <- c(\"realized\",\"refused\",\"errors\")\n",
        "\n",
        "addmargins(N)"
      ],
      "execution_count": 7,
      "outputs": [
        {
          "output_type": "display_data",
          "data": {
            "text/plain": [
              "        realized refused errors Sum  \n",
              "rural   1933     1175    1186    4294\n",
              "c20      646      579     671    1896\n",
              "c20_100  707      780     767    2254\n",
              "c100     768      962    1126    2856\n",
              "Sum     4054     3496    3750   11300"
            ],
            "text/latex": "A matrix: 5 × 4 of type dbl\n\\begin{tabular}{r|llll}\n  & realized & refused & errors & Sum\\\\\n\\hline\n\trural & 1933 & 1175 & 1186 &  4294\\\\\n\tc20 &  646 &  579 &  671 &  1896\\\\\n\tc20\\_100 &  707 &  780 &  767 &  2254\\\\\n\tc100 &  768 &  962 & 1126 &  2856\\\\\n\tSum & 4054 & 3496 & 3750 & 11300\\\\\n\\end{tabular}\n",
            "text/markdown": "\nA matrix: 5 × 4 of type dbl\n\n| <!--/--> | realized | refused | errors | Sum |\n|---|---|---|---|---|\n| rural | 1933 | 1175 | 1186 |  4294 |\n| c20 |  646 |  579 |  671 |  1896 |\n| c20_100 |  707 |  780 |  767 |  2254 |\n| c100 |  768 |  962 | 1126 |  2856 |\n| Sum | 4054 | 3496 | 3750 | 11300 |\n\n",
            "text/html": [
              "<table class=\"dataframe\">\n",
              "<caption>A matrix: 5 × 4 of type dbl</caption>\n",
              "<thead>\n",
              "\t<tr><th></th><th scope=col>realized</th><th scope=col>refused</th><th scope=col>errors</th><th scope=col>Sum</th></tr>\n",
              "</thead>\n",
              "<tbody>\n",
              "\t<tr><th scope=row>rural</th><td>1933</td><td>1175</td><td>1186</td><td> 4294</td></tr>\n",
              "\t<tr><th scope=row>c20</th><td> 646</td><td> 579</td><td> 671</td><td> 1896</td></tr>\n",
              "\t<tr><th scope=row>c20_100</th><td> 707</td><td> 780</td><td> 767</td><td> 2254</td></tr>\n",
              "\t<tr><th scope=row>c100</th><td> 768</td><td> 962</td><td>1126</td><td> 2856</td></tr>\n",
              "\t<tr><th scope=row>Sum</th><td>4054</td><td>3496</td><td>3750</td><td>11300</td></tr>\n",
              "</tbody>\n",
              "</table>\n"
            ]
          },
          "metadata": {
            "tags": []
          }
        }
      ]
    },
    {
      "cell_type": "code",
      "metadata": {
        "colab": {
          "base_uri": "https://localhost:8080/",
          "height": 35
        },
        "id": "cLwv0TpmKRDL",
        "outputId": "05301f51-985d-4886-ecb9-4f16ccb52534"
      },
      "source": [
        "4294/11300"
      ],
      "execution_count": 15,
      "outputs": [
        {
          "output_type": "display_data",
          "data": {
            "text/plain": [
              "[1] 0.38"
            ],
            "text/latex": "0.38",
            "text/markdown": "0.38",
            "text/html": [
              "0.38"
            ]
          },
          "metadata": {
            "tags": []
          }
        }
      ]
    },
    {
      "cell_type": "markdown",
      "metadata": {
        "id": "FsqNzNa_G0xC"
      },
      "source": [
        "Let's see proportions using `prop.table` function."
      ]
    },
    {
      "cell_type": "code",
      "metadata": {
        "colab": {
          "base_uri": "https://localhost:8080/",
          "height": 522
        },
        "id": "NvTuSfLAG0Ki",
        "outputId": "4d341116-943d-4e0e-cae5-ddbe2750d20c"
      },
      "source": [
        "prop.table(N) ## p \n",
        "prop.table(N, margin = 1) ## row percentage\n",
        "prop.table(N, margin = 2) ## col percentage"
      ],
      "execution_count": 11,
      "outputs": [
        {
          "output_type": "display_data",
          "data": {
            "text/plain": [
              "        realized   refused    errors    \n",
              "rural   0.17106195 0.10398230 0.10495575\n",
              "c20     0.05716814 0.05123894 0.05938053\n",
              "c20_100 0.06256637 0.06902655 0.06787611\n",
              "c100    0.06796460 0.08513274 0.09964602"
            ],
            "text/latex": "A matrix: 4 × 3 of type dbl\n\\begin{tabular}{r|lll}\n  & realized & refused & errors\\\\\n\\hline\n\trural & 0.17106195 & 0.10398230 & 0.10495575\\\\\n\tc20 & 0.05716814 & 0.05123894 & 0.05938053\\\\\n\tc20\\_100 & 0.06256637 & 0.06902655 & 0.06787611\\\\\n\tc100 & 0.06796460 & 0.08513274 & 0.09964602\\\\\n\\end{tabular}\n",
            "text/markdown": "\nA matrix: 4 × 3 of type dbl\n\n| <!--/--> | realized | refused | errors |\n|---|---|---|---|\n| rural | 0.17106195 | 0.10398230 | 0.10495575 |\n| c20 | 0.05716814 | 0.05123894 | 0.05938053 |\n| c20_100 | 0.06256637 | 0.06902655 | 0.06787611 |\n| c100 | 0.06796460 | 0.08513274 | 0.09964602 |\n\n",
            "text/html": [
              "<table class=\"dataframe\">\n",
              "<caption>A matrix: 4 × 3 of type dbl</caption>\n",
              "<thead>\n",
              "\t<tr><th></th><th scope=col>realized</th><th scope=col>refused</th><th scope=col>errors</th></tr>\n",
              "</thead>\n",
              "<tbody>\n",
              "\t<tr><th scope=row>rural</th><td>0.17106195</td><td>0.10398230</td><td>0.10495575</td></tr>\n",
              "\t<tr><th scope=row>c20</th><td>0.05716814</td><td>0.05123894</td><td>0.05938053</td></tr>\n",
              "\t<tr><th scope=row>c20_100</th><td>0.06256637</td><td>0.06902655</td><td>0.06787611</td></tr>\n",
              "\t<tr><th scope=row>c100</th><td>0.06796460</td><td>0.08513274</td><td>0.09964602</td></tr>\n",
              "</tbody>\n",
              "</table>\n"
            ]
          },
          "metadata": {
            "tags": []
          }
        },
        {
          "output_type": "display_data",
          "data": {
            "text/plain": [
              "        realized  refused   errors   \n",
              "rural   0.4501630 0.2736376 0.2761993\n",
              "c20     0.3407173 0.3053797 0.3539030\n",
              "c20_100 0.3136646 0.3460515 0.3402839\n",
              "c100    0.2689076 0.3368347 0.3942577"
            ],
            "text/latex": "A matrix: 4 × 3 of type dbl\n\\begin{tabular}{r|lll}\n  & realized & refused & errors\\\\\n\\hline\n\trural & 0.4501630 & 0.2736376 & 0.2761993\\\\\n\tc20 & 0.3407173 & 0.3053797 & 0.3539030\\\\\n\tc20\\_100 & 0.3136646 & 0.3460515 & 0.3402839\\\\\n\tc100 & 0.2689076 & 0.3368347 & 0.3942577\\\\\n\\end{tabular}\n",
            "text/markdown": "\nA matrix: 4 × 3 of type dbl\n\n| <!--/--> | realized | refused | errors |\n|---|---|---|---|\n| rural | 0.4501630 | 0.2736376 | 0.2761993 |\n| c20 | 0.3407173 | 0.3053797 | 0.3539030 |\n| c20_100 | 0.3136646 | 0.3460515 | 0.3402839 |\n| c100 | 0.2689076 | 0.3368347 | 0.3942577 |\n\n",
            "text/html": [
              "<table class=\"dataframe\">\n",
              "<caption>A matrix: 4 × 3 of type dbl</caption>\n",
              "<thead>\n",
              "\t<tr><th></th><th scope=col>realized</th><th scope=col>refused</th><th scope=col>errors</th></tr>\n",
              "</thead>\n",
              "<tbody>\n",
              "\t<tr><th scope=row>rural</th><td>0.4501630</td><td>0.2736376</td><td>0.2761993</td></tr>\n",
              "\t<tr><th scope=row>c20</th><td>0.3407173</td><td>0.3053797</td><td>0.3539030</td></tr>\n",
              "\t<tr><th scope=row>c20_100</th><td>0.3136646</td><td>0.3460515</td><td>0.3402839</td></tr>\n",
              "\t<tr><th scope=row>c100</th><td>0.2689076</td><td>0.3368347</td><td>0.3942577</td></tr>\n",
              "</tbody>\n",
              "</table>\n"
            ]
          },
          "metadata": {
            "tags": []
          }
        },
        {
          "output_type": "display_data",
          "data": {
            "text/plain": [
              "        realized  refused   errors   \n",
              "rural   0.4768130 0.3360984 0.3162667\n",
              "c20     0.1593488 0.1656178 0.1789333\n",
              "c20_100 0.1743957 0.2231121 0.2045333\n",
              "c100    0.1894425 0.2751716 0.3002667"
            ],
            "text/latex": "A matrix: 4 × 3 of type dbl\n\\begin{tabular}{r|lll}\n  & realized & refused & errors\\\\\n\\hline\n\trural & 0.4768130 & 0.3360984 & 0.3162667\\\\\n\tc20 & 0.1593488 & 0.1656178 & 0.1789333\\\\\n\tc20\\_100 & 0.1743957 & 0.2231121 & 0.2045333\\\\\n\tc100 & 0.1894425 & 0.2751716 & 0.3002667\\\\\n\\end{tabular}\n",
            "text/markdown": "\nA matrix: 4 × 3 of type dbl\n\n| <!--/--> | realized | refused | errors |\n|---|---|---|---|\n| rural | 0.4768130 | 0.3360984 | 0.3162667 |\n| c20 | 0.1593488 | 0.1656178 | 0.1789333 |\n| c20_100 | 0.1743957 | 0.2231121 | 0.2045333 |\n| c100 | 0.1894425 | 0.2751716 | 0.3002667 |\n\n",
            "text/html": [
              "<table class=\"dataframe\">\n",
              "<caption>A matrix: 4 × 3 of type dbl</caption>\n",
              "<thead>\n",
              "\t<tr><th></th><th scope=col>realized</th><th scope=col>refused</th><th scope=col>errors</th></tr>\n",
              "</thead>\n",
              "<tbody>\n",
              "\t<tr><th scope=row>rural</th><td>0.4768130</td><td>0.3360984</td><td>0.3162667</td></tr>\n",
              "\t<tr><th scope=row>c20</th><td>0.1593488</td><td>0.1656178</td><td>0.1789333</td></tr>\n",
              "\t<tr><th scope=row>c20_100</th><td>0.1743957</td><td>0.2231121</td><td>0.2045333</td></tr>\n",
              "\t<tr><th scope=row>c100</th><td>0.1894425</td><td>0.2751716</td><td>0.3002667</td></tr>\n",
              "</tbody>\n",
              "</table>\n"
            ]
          },
          "metadata": {
            "tags": []
          }
        }
      ]
    },
    {
      "cell_type": "markdown",
      "metadata": {
        "id": "f8J__TvXHYbg"
      },
      "source": [
        "What are the steps in correspondence analysis?\n",
        "\n",
        "1. Calculate $\\chi^2$ statistic to verify whether there is a relationship in our data.\n",
        "2. Conduct correspondence analysis (using `ca()` function)."
      ]
    },
    {
      "cell_type": "code",
      "metadata": {
        "colab": {
          "base_uri": "https://localhost:8080/",
          "height": 104
        },
        "id": "5-hkYDQwHsji",
        "outputId": "0b1d8cec-69f4-4e96-da4c-aa6dfbe25bf9"
      },
      "source": [
        "chisq.test(N)"
      ],
      "execution_count": 12,
      "outputs": [
        {
          "output_type": "display_data",
          "data": {
            "text/plain": [
              "\n",
              "\tPearson's Chi-squared test\n",
              "\n",
              "data:  N\n",
              "X-squared = 290.2, df = 6, p-value < 2.2e-16\n"
            ]
          },
          "metadata": {
            "tags": []
          }
        }
      ]
    },
    {
      "cell_type": "markdown",
      "metadata": {
        "id": "tox1JwIDIxne"
      },
      "source": [
        "There are three outputs from `ca` function:\n",
        "\n",
        "+ if we use `result` then we will get standard (simplified) output,\n",
        "+ if we use `summary(result)` then we will get detailed output (i.e. more information that will be useful to understand results),\n",
        "+ if we use `plot(results)` then we will get a scatter plot which is often named a **perception map**."
      ]
    },
    {
      "cell_type": "code",
      "metadata": {
        "colab": {
          "base_uri": "https://localhost:8080/",
          "height": 415
        },
        "id": "f1VR19vsIZYc",
        "outputId": "fdd76b42-5ffb-4249-9320-39c0245cc7ae"
      },
      "source": [
        "results <- ca(N)\n",
        "results"
      ],
      "execution_count": 14,
      "outputs": [
        {
          "output_type": "display_data",
          "data": {
            "text/plain": [
              "\n",
              " Principal inertias (eigenvalues):\n",
              "           1       2       \n",
              "Value      0.02502 0.000662\n",
              "Percentage 97.42%  2.58%   \n",
              "\n",
              "\n",
              " Rows:\n",
              "            rural       c20  c20_100      c100\n",
              "Mass     0.380000  0.167788 0.199469  0.252743\n",
              "ChiDist  0.191706  0.049230 0.101139  0.191503\n",
              "Inertia  0.013965  0.000407 0.002040  0.009269\n",
              "Dim. 1  -1.211908  0.260156 0.561935  1.205908\n",
              "Dim. 2  -0.080827 -1.050377 1.875721 -0.661515\n",
              "\n",
              "\n",
              " Columns:\n",
              "         realized  refused    errors\n",
              "Mass     0.358761 0.309381  0.331858\n",
              "ChiDist  0.209989 0.099462  0.143158\n",
              "Inertia  0.015820 0.003061  0.006801\n",
              "Dim. 1  -1.327312 0.587780  0.886945\n",
              "Dim. 2  -0.160041 1.373601 -1.107548"
            ]
          },
          "metadata": {
            "tags": []
          }
        }
      ]
    },
    {
      "cell_type": "code",
      "metadata": {
        "colab": {
          "base_uri": "https://localhost:8080/",
          "height": 437
        },
        "id": "wb__ZvwrMahE",
        "outputId": "05d4b31b-3319-4101-bb15-10bc0cc1849d"
      },
      "source": [
        "plot(results)"
      ],
      "execution_count": 16,
      "outputs": [
        {
          "output_type": "display_data",
          "data": {
            "image/png": "[encoded data removed]",
            "text/plain": [
              "plot without title"
            ]
          },
          "metadata": {
            "tags": [],
            "image/png": {
              "width": 420,
              "height": 420
            }
          }
        }
      ]
    },
    {
      "cell_type": "markdown",
      "metadata": {
        "id": "dGnWaG95NTZO"
      },
      "source": [
        "How many dimensions will be extrated? We calcuate this based on the following formula:\n",
        "\n",
        "$$\n",
        "\\min\\{R - 1, C-1\\},\n",
        "$$\n",
        "\n",
        "where $R$ denotes number of rows in a table and $C$ denotes number of columns in a table."
      ]
    },
    {
      "cell_type": "code",
      "metadata": {
        "colab": {
          "base_uri": "https://localhost:8080/",
          "height": 397
        },
        "id": "r99NlkveM7UC",
        "outputId": "08516dda-d86a-4d8e-9100-9592b89ff6e3"
      },
      "source": [
        "summary(results)"
      ],
      "execution_count": 17,
      "outputs": [
        {
          "output_type": "display_data",
          "data": {
            "text/plain": [
              "\n",
              "Principal inertias (eigenvalues):\n",
              "\n",
              " dim    value      %   cum%   scree plot               \n",
              " 1      0.025020  97.4  97.4  ************************ \n",
              " 2      0.000662   2.6 100.0  *                        \n",
              "        -------- -----                                 \n",
              " Total: 0.025681 100.0                                 \n",
              "\n",
              "\n",
              "Rows:\n",
              "    name   mass  qlt  inr    k=1  cor ctr    k=2 cor ctr  \n",
              "1 | rurl |  380 1000  544 | -192 1000 558 |   -2   0   2 |\n",
              "2 |  c20 |  168 1000   16 |   41  699  11 |  -27 301 185 |\n",
              "3 | c20_ |  199 1000   79 |   89  772  63 |   48 228 702 |\n",
              "4 | c100 |  253 1000  361 |  191  992 368 |  -17   8 111 |\n",
              "\n",
              "Columns:\n",
              "    name   mass  qlt  inr    k=1  cor ctr    k=2 cor ctr  \n",
              "1 | rlzd |  359 1000  616 | -210 1000 632 |   -4   0   9 |\n",
              "2 | rfsd |  309 1000  119 |   93  874 107 |   35 126 584 |\n",
              "3 | errr |  332 1000  265 |  140  960 261 |  -28  40 407 |"
            ]
          },
          "metadata": {
            "tags": []
          }
        }
      ]
    }
  ]
}