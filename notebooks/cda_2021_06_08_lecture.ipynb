{
  "nbformat": 4,
  "nbformat_minor": 0,
  "metadata": {
    "colab": {
      "name": "cda_2021_06_08_lecture.ipynb",
      "provenance": [],
      "collapsed_sections": [],
      "authorship_tag": "ABX9TyOmdpD0c2AkkFOrN+4AhW3J",
      "include_colab_link": true
    },
    "kernelspec": {
      "name": "ir",
      "display_name": "R"
    },
    "language_info": {
      "name": "R"
    }
  },
  "cells": [
    {
      "cell_type": "markdown",
      "metadata": {
        "id": "view-in-github",
        "colab_type": "text"
      },
      "source": [
        "<a href=\"https://colab.research.google.com/github/DepartmentOfStatisticsPUE/cda-2021/blob/main/notebooks/cda_2021_06_08_lecture.ipynb\" target=\"_parent\"><img src=\"https://colab.research.google.com/assets/colab-badge.svg\" alt=\"Open In Colab\"/></a>"
      ]
    },
    {
      "cell_type": "markdown",
      "metadata": {
        "id": "n1p52Y2WgItS"
      },
      "source": [
        "We need to instal the `sampleSelection` package to use original Heckman's sample selection model."
      ]
    },
    {
      "cell_type": "code",
      "metadata": {
        "colab": {
          "base_uri": "https://localhost:8080/"
        },
        "id": "8Ni-wDGXf3JC",
        "outputId": "f50b6d09-0773-409d-ef26-1933b0b5d8af"
      },
      "source": [
        "install.packages(\"sampleSelection\")"
      ],
      "execution_count": 1,
      "outputs": [
        {
          "output_type": "stream",
          "text": [
            "Installing package into ‘/usr/local/lib/R/site-library’\n",
            "(as ‘lib’ is unspecified)\n",
            "\n",
            "also installing the dependencies ‘matrixStats’, ‘RcppArmadillo’, ‘numDeriv’, ‘SparseM’, ‘MatrixModels’, ‘conquer’, ‘sp’, ‘openxlsx’, ‘minqa’, ‘nloptr’, ‘RcppEigen’, ‘zoo’, ‘carData’, ‘abind’, ‘pbkrtest’, ‘quantreg’, ‘maptools’, ‘rio’, ‘lme4’, ‘sandwich’, ‘car’, ‘lmtest’, ‘maxLik’, ‘miscTools’, ‘systemfit’, ‘Formula’, ‘VGAM’, ‘mvtnorm’\n",
            "\n",
            "\n"
          ],
          "name": "stderr"
        }
      ]
    },
    {
      "cell_type": "code",
      "metadata": {
        "colab": {
          "base_uri": "https://localhost:8080/"
        },
        "id": "p6Nc5qP0iVDr",
        "outputId": "cf9eb717-c5c5-4f58-fc45-bc928a39f13a"
      },
      "source": [
        "library(sampleSelection)"
      ],
      "execution_count": 2,
      "outputs": [
        {
          "output_type": "stream",
          "text": [
            "Loading required package: maxLik\n",
            "\n",
            "Loading required package: miscTools\n",
            "\n",
            "\n",
            "Please cite the 'maxLik' package as:\n",
            "Henningsen, Arne and Toomet, Ott (2011). maxLik: A package for maximum likelihood estimation in R. Computational Statistics 26(3), 443-458. DOI 10.1007/s00180-010-0217-1.\n",
            "\n",
            "If you have questions, suggestions, or comments regarding the 'maxLik' package, please use a forum or 'tracker' at maxLik's R-Forge site:\n",
            "https://r-forge.r-project.org/projects/maxlik/\n",
            "\n"
          ],
          "name": "stderr"
        }
      ]
    },
    {
      "cell_type": "markdown",
      "metadata": {
        "id": "413cDrxug890"
      },
      "source": [
        "In order to use Heckman's sample selection model we should use function `heckit` from `sampleSelection` package. \n",
        "\n",
        "The function have the following arguments:\n",
        "\n",
        "+ selection -- selection equation \n",
        "+ outcome -- outcome equation \n",
        "+ data -- where we specify dataset\n",
        "+ method -- how the model should be estimated (`twostep` or `ml`)\n",
        "\n",
        "\n",
        "```{r}\n",
        "m2 <- heckit(selection ~ married + children + education + age,\n",
        "             wage ~  education + age, \n",
        "             data = women,\n",
        "             method = \"ml\")\n",
        "summary(m2)\n",
        "```"
      ]
    },
    {
      "cell_type": "code",
      "metadata": {
        "colab": {
          "base_uri": "https://localhost:8080/",
          "height": 386
        },
        "id": "COJCtvPniuyA",
        "outputId": "e23ec40b-1874-455e-ff25-2564cd42f455"
      },
      "source": [
        "data(Mroz87)\n",
        "Mroz87$kids  <- ( Mroz87$kids5 + Mroz87$kids618 > 0 )\n",
        "head(Mroz87, n = 3)\n",
        "tail(Mroz87, n = 3)"
      ],
      "execution_count": 5,
      "outputs": [
        {
          "output_type": "display_data",
          "data": {
            "text/plain": [
              "  lfp hours kids5 kids618 age educ wage   repwage hushrs husage ⋯ mtr   \n",
              "1 1   1610  1     0       32  12   3.3540 2.65    2708   34     ⋯ 0.7215\n",
              "2 1   1656  0     2       30  12   1.3889 2.65    2310   30     ⋯ 0.6615\n",
              "3 1   1980  1     3       35  12   4.5455 4.04    3072   40     ⋯ 0.6915\n",
              "  motheduc fatheduc unem city exper nwifeinc wifecoll huscoll kids\n",
              "1 12       7         5   0    14    10.91006 FALSE    FALSE   TRUE\n",
              "2  7       7        11   1     5    19.49998 FALSE    FALSE   TRUE\n",
              "3 12       7         5   0    15    12.03991 FALSE    FALSE   TRUE"
            ],
            "text/latex": "A data.frame: 3 × 23\n\\begin{tabular}{r|lllllllllllllllllllll}\n  & lfp & hours & kids5 & kids618 & age & educ & wage & repwage & hushrs & husage & ⋯ & mtr & motheduc & fatheduc & unem & city & exper & nwifeinc & wifecoll & huscoll & kids\\\\\n  & <int> & <int> & <int> & <int> & <int> & <int> & <dbl> & <dbl> & <int> & <int> & ⋯ & <dbl> & <int> & <int> & <dbl> & <int> & <int> & <dbl> & <fct> & <fct> & <lgl>\\\\\n\\hline\n\t1 & 1 & 1610 & 1 & 0 & 32 & 12 & 3.3540 & 2.65 & 2708 & 34 & ⋯ & 0.7215 & 12 & 7 &  5 & 0 & 14 & 10.91006 & FALSE & FALSE & TRUE\\\\\n\t2 & 1 & 1656 & 0 & 2 & 30 & 12 & 1.3889 & 2.65 & 2310 & 30 & ⋯ & 0.6615 &  7 & 7 & 11 & 1 &  5 & 19.49998 & FALSE & FALSE & TRUE\\\\\n\t3 & 1 & 1980 & 1 & 3 & 35 & 12 & 4.5455 & 4.04 & 3072 & 40 & ⋯ & 0.6915 & 12 & 7 &  5 & 0 & 15 & 12.03991 & FALSE & FALSE & TRUE\\\\\n\\end{tabular}\n",
            "text/markdown": "\nA data.frame: 3 × 23\n\n| <!--/--> | lfp &lt;int&gt; | hours &lt;int&gt; | kids5 &lt;int&gt; | kids618 &lt;int&gt; | age &lt;int&gt; | educ &lt;int&gt; | wage &lt;dbl&gt; | repwage &lt;dbl&gt; | hushrs &lt;int&gt; | husage &lt;int&gt; | ⋯ ⋯ | mtr &lt;dbl&gt; | motheduc &lt;int&gt; | fatheduc &lt;int&gt; | unem &lt;dbl&gt; | city &lt;int&gt; | exper &lt;int&gt; | nwifeinc &lt;dbl&gt; | wifecoll &lt;fct&gt; | huscoll &lt;fct&gt; | kids &lt;lgl&gt; |\n|---|---|---|---|---|---|---|---|---|---|---|---|---|---|---|---|---|---|---|---|---|---|\n| 1 | 1 | 1610 | 1 | 0 | 32 | 12 | 3.3540 | 2.65 | 2708 | 34 | ⋯ | 0.7215 | 12 | 7 |  5 | 0 | 14 | 10.91006 | FALSE | FALSE | TRUE |\n| 2 | 1 | 1656 | 0 | 2 | 30 | 12 | 1.3889 | 2.65 | 2310 | 30 | ⋯ | 0.6615 |  7 | 7 | 11 | 1 |  5 | 19.49998 | FALSE | FALSE | TRUE |\n| 3 | 1 | 1980 | 1 | 3 | 35 | 12 | 4.5455 | 4.04 | 3072 | 40 | ⋯ | 0.6915 | 12 | 7 |  5 | 0 | 15 | 12.03991 | FALSE | FALSE | TRUE |\n\n",
            "text/html": [
              "<table class=\"dataframe\">\n",
              "<caption>A data.frame: 3 × 23</caption>\n",
              "<thead>\n",
              "\t<tr><th></th><th scope=col>lfp</th><th scope=col>hours</th><th scope=col>kids5</th><th scope=col>kids618</th><th scope=col>age</th><th scope=col>educ</th><th scope=col>wage</th><th scope=col>repwage</th><th scope=col>hushrs</th><th scope=col>husage</th><th scope=col>⋯</th><th scope=col>mtr</th><th scope=col>motheduc</th><th scope=col>fatheduc</th><th scope=col>unem</th><th scope=col>city</th><th scope=col>exper</th><th scope=col>nwifeinc</th><th scope=col>wifecoll</th><th scope=col>huscoll</th><th scope=col>kids</th></tr>\n",
              "\t<tr><th></th><th scope=col>&lt;int&gt;</th><th scope=col>&lt;int&gt;</th><th scope=col>&lt;int&gt;</th><th scope=col>&lt;int&gt;</th><th scope=col>&lt;int&gt;</th><th scope=col>&lt;int&gt;</th><th scope=col>&lt;dbl&gt;</th><th scope=col>&lt;dbl&gt;</th><th scope=col>&lt;int&gt;</th><th scope=col>&lt;int&gt;</th><th scope=col>⋯</th><th scope=col>&lt;dbl&gt;</th><th scope=col>&lt;int&gt;</th><th scope=col>&lt;int&gt;</th><th scope=col>&lt;dbl&gt;</th><th scope=col>&lt;int&gt;</th><th scope=col>&lt;int&gt;</th><th scope=col>&lt;dbl&gt;</th><th scope=col>&lt;fct&gt;</th><th scope=col>&lt;fct&gt;</th><th scope=col>&lt;lgl&gt;</th></tr>\n",
              "</thead>\n",
              "<tbody>\n",
              "\t<tr><th scope=row>1</th><td>1</td><td>1610</td><td>1</td><td>0</td><td>32</td><td>12</td><td>3.3540</td><td>2.65</td><td>2708</td><td>34</td><td>⋯</td><td>0.7215</td><td>12</td><td>7</td><td> 5</td><td>0</td><td>14</td><td>10.91006</td><td>FALSE</td><td>FALSE</td><td>TRUE</td></tr>\n",
              "\t<tr><th scope=row>2</th><td>1</td><td>1656</td><td>0</td><td>2</td><td>30</td><td>12</td><td>1.3889</td><td>2.65</td><td>2310</td><td>30</td><td>⋯</td><td>0.6615</td><td> 7</td><td>7</td><td>11</td><td>1</td><td> 5</td><td>19.49998</td><td>FALSE</td><td>FALSE</td><td>TRUE</td></tr>\n",
              "\t<tr><th scope=row>3</th><td>1</td><td>1980</td><td>1</td><td>3</td><td>35</td><td>12</td><td>4.5455</td><td>4.04</td><td>3072</td><td>40</td><td>⋯</td><td>0.6915</td><td>12</td><td>7</td><td> 5</td><td>0</td><td>15</td><td>12.03991</td><td>FALSE</td><td>FALSE</td><td>TRUE</td></tr>\n",
              "</tbody>\n",
              "</table>\n"
            ]
          },
          "metadata": {
            "tags": []
          }
        },
        {
          "output_type": "display_data",
          "data": {
            "text/plain": [
              "    lfp hours kids5 kids618 age educ wage repwage hushrs husage ⋯ mtr   \n",
              "751 0   0     0     0       43  12   0    0       2383   43     ⋯ 0.7515\n",
              "752 0   0     0     0       60  12   0    0       1705   55     ⋯ 0.6215\n",
              "753 0   0     0     3       39   9   0    0       3120   48     ⋯ 0.6915\n",
              "    motheduc fatheduc unem city exper nwifeinc wifecoll huscoll kids \n",
              "751 10        3        7.5 0     4     9.952   FALSE    FALSE   FALSE\n",
              "752 12       12       14.0 1    15    24.984   FALSE    FALSE   FALSE\n",
              "753  7        7       11.0 1    12    28.363   FALSE    FALSE    TRUE"
            ],
            "text/latex": "A data.frame: 3 × 23\n\\begin{tabular}{r|lllllllllllllllllllll}\n  & lfp & hours & kids5 & kids618 & age & educ & wage & repwage & hushrs & husage & ⋯ & mtr & motheduc & fatheduc & unem & city & exper & nwifeinc & wifecoll & huscoll & kids\\\\\n  & <int> & <int> & <int> & <int> & <int> & <int> & <dbl> & <dbl> & <int> & <int> & ⋯ & <dbl> & <int> & <int> & <dbl> & <int> & <int> & <dbl> & <fct> & <fct> & <lgl>\\\\\n\\hline\n\t751 & 0 & 0 & 0 & 0 & 43 & 12 & 0 & 0 & 2383 & 43 & ⋯ & 0.7515 & 10 &  3 &  7.5 & 0 &  4 &  9.952 & FALSE & FALSE & FALSE\\\\\n\t752 & 0 & 0 & 0 & 0 & 60 & 12 & 0 & 0 & 1705 & 55 & ⋯ & 0.6215 & 12 & 12 & 14.0 & 1 & 15 & 24.984 & FALSE & FALSE & FALSE\\\\\n\t753 & 0 & 0 & 0 & 3 & 39 &  9 & 0 & 0 & 3120 & 48 & ⋯ & 0.6915 &  7 &  7 & 11.0 & 1 & 12 & 28.363 & FALSE & FALSE &  TRUE\\\\\n\\end{tabular}\n",
            "text/markdown": "\nA data.frame: 3 × 23\n\n| <!--/--> | lfp &lt;int&gt; | hours &lt;int&gt; | kids5 &lt;int&gt; | kids618 &lt;int&gt; | age &lt;int&gt; | educ &lt;int&gt; | wage &lt;dbl&gt; | repwage &lt;dbl&gt; | hushrs &lt;int&gt; | husage &lt;int&gt; | ⋯ ⋯ | mtr &lt;dbl&gt; | motheduc &lt;int&gt; | fatheduc &lt;int&gt; | unem &lt;dbl&gt; | city &lt;int&gt; | exper &lt;int&gt; | nwifeinc &lt;dbl&gt; | wifecoll &lt;fct&gt; | huscoll &lt;fct&gt; | kids &lt;lgl&gt; |\n|---|---|---|---|---|---|---|---|---|---|---|---|---|---|---|---|---|---|---|---|---|---|\n| 751 | 0 | 0 | 0 | 0 | 43 | 12 | 0 | 0 | 2383 | 43 | ⋯ | 0.7515 | 10 |  3 |  7.5 | 0 |  4 |  9.952 | FALSE | FALSE | FALSE |\n| 752 | 0 | 0 | 0 | 0 | 60 | 12 | 0 | 0 | 1705 | 55 | ⋯ | 0.6215 | 12 | 12 | 14.0 | 1 | 15 | 24.984 | FALSE | FALSE | FALSE |\n| 753 | 0 | 0 | 0 | 3 | 39 |  9 | 0 | 0 | 3120 | 48 | ⋯ | 0.6915 |  7 |  7 | 11.0 | 1 | 12 | 28.363 | FALSE | FALSE |  TRUE |\n\n",
            "text/html": [
              "<table class=\"dataframe\">\n",
              "<caption>A data.frame: 3 × 23</caption>\n",
              "<thead>\n",
              "\t<tr><th></th><th scope=col>lfp</th><th scope=col>hours</th><th scope=col>kids5</th><th scope=col>kids618</th><th scope=col>age</th><th scope=col>educ</th><th scope=col>wage</th><th scope=col>repwage</th><th scope=col>hushrs</th><th scope=col>husage</th><th scope=col>⋯</th><th scope=col>mtr</th><th scope=col>motheduc</th><th scope=col>fatheduc</th><th scope=col>unem</th><th scope=col>city</th><th scope=col>exper</th><th scope=col>nwifeinc</th><th scope=col>wifecoll</th><th scope=col>huscoll</th><th scope=col>kids</th></tr>\n",
              "\t<tr><th></th><th scope=col>&lt;int&gt;</th><th scope=col>&lt;int&gt;</th><th scope=col>&lt;int&gt;</th><th scope=col>&lt;int&gt;</th><th scope=col>&lt;int&gt;</th><th scope=col>&lt;int&gt;</th><th scope=col>&lt;dbl&gt;</th><th scope=col>&lt;dbl&gt;</th><th scope=col>&lt;int&gt;</th><th scope=col>&lt;int&gt;</th><th scope=col>⋯</th><th scope=col>&lt;dbl&gt;</th><th scope=col>&lt;int&gt;</th><th scope=col>&lt;int&gt;</th><th scope=col>&lt;dbl&gt;</th><th scope=col>&lt;int&gt;</th><th scope=col>&lt;int&gt;</th><th scope=col>&lt;dbl&gt;</th><th scope=col>&lt;fct&gt;</th><th scope=col>&lt;fct&gt;</th><th scope=col>&lt;lgl&gt;</th></tr>\n",
              "</thead>\n",
              "<tbody>\n",
              "\t<tr><th scope=row>751</th><td>0</td><td>0</td><td>0</td><td>0</td><td>43</td><td>12</td><td>0</td><td>0</td><td>2383</td><td>43</td><td>⋯</td><td>0.7515</td><td>10</td><td> 3</td><td> 7.5</td><td>0</td><td> 4</td><td> 9.952</td><td>FALSE</td><td>FALSE</td><td>FALSE</td></tr>\n",
              "\t<tr><th scope=row>752</th><td>0</td><td>0</td><td>0</td><td>0</td><td>60</td><td>12</td><td>0</td><td>0</td><td>1705</td><td>55</td><td>⋯</td><td>0.6215</td><td>12</td><td>12</td><td>14.0</td><td>1</td><td>15</td><td>24.984</td><td>FALSE</td><td>FALSE</td><td>FALSE</td></tr>\n",
              "\t<tr><th scope=row>753</th><td>0</td><td>0</td><td>0</td><td>3</td><td>39</td><td> 9</td><td>0</td><td>0</td><td>3120</td><td>48</td><td>⋯</td><td>0.6915</td><td> 7</td><td> 7</td><td>11.0</td><td>1</td><td>12</td><td>28.363</td><td>FALSE</td><td>FALSE</td><td> TRUE</td></tr>\n",
              "</tbody>\n",
              "</table>\n"
            ]
          },
          "metadata": {
            "tags": []
          }
        }
      ]
    },
    {
      "cell_type": "markdown",
      "metadata": {
        "id": "6BDEpAsTjc_n"
      },
      "source": [
        "Let's start with a simple linear model where we focus only on women who participate in the labour market. "
      ]
    },
    {
      "cell_type": "code",
      "metadata": {
        "colab": {
          "base_uri": "https://localhost:8080/",
          "height": 397
        },
        "id": "150Kp_OcjmOM",
        "outputId": "b90fbbb2-1922-4fff-c535-c4ab451cf55a"
      },
      "source": [
        "model1 <- lm(formula = wage ~ exper + I(exper^2) + educ + city,\n",
        "             data = Mroz87,\n",
        "             subset = lfp == 1)\n",
        "summary(model1)"
      ],
      "execution_count": 6,
      "outputs": [
        {
          "output_type": "display_data",
          "data": {
            "text/plain": [
              "\n",
              "Call:\n",
              "lm(formula = wage ~ exper + I(exper^2) + educ + city, data = Mroz87, \n",
              "    subset = lfp == 1)\n",
              "\n",
              "Residuals:\n",
              "    Min      1Q  Median      3Q     Max \n",
              "-5.6021 -1.6012 -0.4787  0.8950 21.2762 \n",
              "\n",
              "Coefficients:\n",
              "              Estimate Std. Error t value Pr(>|t|)    \n",
              "(Intercept) -2.5609920  0.9288390  -2.757  0.00608 ** \n",
              "exper        0.0324982  0.0615864   0.528  0.59800    \n",
              "I(exper^2)  -0.0002602  0.0018378  -0.142  0.88747    \n",
              "educ         0.4809623  0.0668679   7.193 2.91e-12 ***\n",
              "city         0.4492741  0.3177735   1.414  0.15815    \n",
              "---\n",
              "Signif. codes:  0 ‘***’ 0.001 ‘**’ 0.01 ‘*’ 0.05 ‘.’ 0.1 ‘ ’ 1\n",
              "\n",
              "Residual standard error: 3.111 on 423 degrees of freedom\n",
              "Multiple R-squared:  0.1248,\tAdjusted R-squared:  0.1165 \n",
              "F-statistic: 15.08 on 4 and 423 DF,  p-value: 1.569e-11\n"
            ]
          },
          "metadata": {
            "tags": []
          }
        }
      ]
    },
    {
      "cell_type": "markdown",
      "metadata": {
        "id": "mFlxrQaGkUd2"
      },
      "source": [
        "Now, let's create Heckman's model using `heckit` function"
      ]
    },
    {
      "cell_type": "code",
      "metadata": {
        "colab": {
          "base_uri": "https://localhost:8080/",
          "height": 535
        },
        "id": "TsRJU5IdkYgU",
        "outputId": "bcda4cc3-9aff-4e55-bcf1-2cdd613e9aa6"
      },
      "source": [
        "model2 <- heckit(selection = lfp ~ age + I(age^2) + faminc + kids + educ,\n",
        "                 outcome = wage ~ exper + I(exper^2) + educ + city, \n",
        "                 data = Mroz87,\n",
        "                 method = \"ml\")\n",
        "summary(model2)"
      ],
      "execution_count": 7,
      "outputs": [
        {
          "output_type": "display_data",
          "data": {
            "text/plain": [
              "--------------------------------------------\n",
              "Tobit 2 model (sample selection model)\n",
              "Maximum Likelihood estimation\n",
              "Newton-Raphson maximisation, 5 iterations\n",
              "Return code 8: successive function values within relative tolerance limit (reltol)\n",
              "Log-Likelihood: -1581.258 \n",
              "753 observations (325 censored and 428 observed)\n",
              "13 free parameters (df = 740)\n",
              "Probit selection equation:\n",
              "              Estimate Std. Error t value Pr(>|t|)    \n",
              "(Intercept) -4.120e+00  1.401e+00  -2.942 0.003368 ** \n",
              "age          1.840e-01  6.587e-02   2.794 0.005345 ** \n",
              "I(age^2)    -2.409e-03  7.723e-04  -3.119 0.001886 ** \n",
              "faminc       5.680e-06  4.416e-06   1.286 0.198782    \n",
              "kidsTRUE    -4.506e-01  1.302e-01  -3.461 0.000568 ***\n",
              "educ         9.528e-02  2.315e-02   4.115  4.3e-05 ***\n",
              "Outcome equation:\n",
              "              Estimate Std. Error t value Pr(>|t|)    \n",
              "(Intercept) -1.9630242  1.1982209  -1.638    0.102    \n",
              "exper        0.0278683  0.0615514   0.453    0.651    \n",
              "I(exper^2)  -0.0001039  0.0018388  -0.056    0.955    \n",
              "educ         0.4570051  0.0732299   6.241 7.33e-10 ***\n",
              "city         0.4465290  0.3159209   1.413    0.158    \n",
              "   Error terms:\n",
              "      Estimate Std. Error t value Pr(>|t|)    \n",
              "sigma   3.1084     0.1138  27.307   <2e-16 ***\n",
              "rho    -0.1320     0.1651  -0.799    0.424    \n",
              "---\n",
              "Signif. codes:  0 ‘***’ 0.001 ‘**’ 0.01 ‘*’ 0.05 ‘.’ 0.1 ‘ ’ 1\n",
              "--------------------------------------------"
            ]
          },
          "metadata": {
            "tags": []
          }
        }
      ]
    },
    {
      "cell_type": "markdown",
      "metadata": {
        "id": "3nv-S5pgmHwa"
      },
      "source": [
        "Standard model\n",
        "\n",
        "```\n",
        "              Estimate Std. Error t value Pr(>|t|)    \n",
        "(Intercept) -2.5609920  0.9288390  -2.757  0.00608 ** \n",
        "exper        0.0324982  0.0615864   0.528  0.59800    \n",
        "I(exper^2)  -0.0002602  0.0018378  -0.142  0.88747    \n",
        "educ         0.4809623  0.0668679   7.193 2.91e-12 ***\n",
        "city         0.4492741  0.3177735   1.414  0.15815    \n",
        "```\n",
        "\n",
        "Heckman's model\n",
        "```\n",
        "              Estimate Std. Error t value Pr(>|t|)    \n",
        "(Intercept) -1.9630242  1.1982209  -1.638    0.102    \n",
        "exper        0.0278683  0.0615514   0.453    0.651    \n",
        "I(exper^2)  -0.0001039  0.0018388  -0.056    0.955    \n",
        "educ         0.4570051  0.0732299   6.241 7.33e-10 ***\n",
        "city         0.4465290  0.3159209   1.413    0.158   \n",
        "```"
      ]
    },
    {
      "cell_type": "code",
      "metadata": {
        "id": "xxJsO4AXmPUP"
      },
      "source": [
        ""
      ],
      "execution_count": null,
      "outputs": []
    }
  ]
}