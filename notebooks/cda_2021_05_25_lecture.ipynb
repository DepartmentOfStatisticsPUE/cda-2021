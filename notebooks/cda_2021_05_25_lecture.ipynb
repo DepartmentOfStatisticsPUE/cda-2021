{
  "nbformat": 4,
  "nbformat_minor": 0,
  "metadata": {
    "colab": {
      "name": "cda_2021_05_25_lecture.ipynb",
      "provenance": [],
      "collapsed_sections": [],
      "authorship_tag": "ABX9TyM29D4sB352HytXElYjb6GH",
      "include_colab_link": true
    },
    "kernelspec": {
      "name": "ir",
      "display_name": "R"
    },
    "language_info": {
      "name": "R"
    }
  },
  "cells": [
    {
      "cell_type": "markdown",
      "metadata": {
        "id": "view-in-github",
        "colab_type": "text"
      },
      "source": [
        "<a href=\"https://colab.research.google.com/github/DepartmentOfStatisticsPUE/cda-2021/blob/main/notebooks/cda_2021_05_25_lecture.ipynb\" target=\"_parent\"><img src=\"https://colab.research.google.com/assets/colab-badge.svg\" alt=\"Open In Colab\"/></a>"
      ]
    },
    {
      "cell_type": "code",
      "metadata": {
        "colab": {
          "base_uri": "https://localhost:8080/"
        },
        "id": "zrnNncoscc3r",
        "outputId": "4a124517-7233-4554-b2d8-ecb200e5d7fa"
      },
      "source": [
        "install.packages(\"geepack\")\n",
        "install.packages(\"MuMIn\")"
      ],
      "execution_count": 1,
      "outputs": [
        {
          "output_type": "stream",
          "text": [
            "Installing package into ‘/usr/local/lib/R/site-library’\n",
            "(as ‘lib’ is unspecified)\n",
            "\n",
            "Installing package into ‘/usr/local/lib/R/site-library’\n",
            "(as ‘lib’ is unspecified)\n",
            "\n"
          ],
          "name": "stderr"
        }
      ]
    },
    {
      "cell_type": "code",
      "metadata": {
        "id": "BurWTTindAYf"
      },
      "source": [
        "library(geepack) ## GEE models\n",
        "library(MuMIn) ## for selecting GEE models\n",
        "library(readxl) ## reading excel files \n",
        "library(tidyverse) ## processing\n",
        "library(lubridate) ## processing date columns"
      ],
      "execution_count": null,
      "outputs": []
    },
    {
      "cell_type": "markdown",
      "metadata": {
        "id": "Id04uUk4dUsv"
      },
      "source": [
        "Read excel data"
      ]
    },
    {
      "cell_type": "code",
      "metadata": {
        "colab": {
          "base_uri": "https://localhost:8080/",
          "height": 275
        },
        "id": "jSmsgNfndV_a",
        "outputId": "fe9b4af0-9395-4141-f454-3edaf6c78978"
      },
      "source": [
        "beers <- read_excel(\"piwa.xlsx\")\n",
        "head(beers)"
      ],
      "execution_count": 4,
      "outputs": [
        {
          "output_type": "display_data",
          "data": {
            "text/plain": [
              "  id     data     wielkosc_gosp klm     wyksztalcenie           rok  miesiac\n",
              "1 000208 20101105 3 Persons     Village Profession Or Secondary 2010 11     \n",
              "2 000208 20101106 3 Persons     Village Profession Or Secondary 2010 11     \n",
              "3 000208 20101122 3 Persons     Village Profession Or Secondary 2010 11     \n",
              "4 000208 20101206 3 Persons     Village Profession Or Secondary 2010 12     \n",
              "5 000208 20101212 3 Persons     Village Profession Or Secondary 2010 12     \n",
              "6 000208 20101220 3 Persons     Village Profession Or Secondary 2010 12     \n",
              "  wojewodztwo  sklepy      sztuki\n",
              "1 Podkarpackie Dyskont     1     \n",
              "2 Podkarpackie Sieci Detal 2     \n",
              "3 Podkarpackie Sieci Detal 1     \n",
              "4 Podkarpackie Dyskont     1     \n",
              "5 Podkarpackie Sieci Detal 2     \n",
              "6 Podkarpackie Dyskont     8     "
            ],
            "text/latex": "A tibble: 6 × 10\n\\begin{tabular}{llllllllll}\n id & data & wielkosc\\_gosp & klm & wyksztalcenie & rok & miesiac & wojewodztwo & sklepy & sztuki\\\\\n <chr> & <dbl> & <chr> & <chr> & <chr> & <dbl> & <dbl> & <chr> & <chr> & <dbl>\\\\\n\\hline\n\t 000208 & 20101105 & 3 Persons & Village & Profession Or Secondary & 2010 & 11 & Podkarpackie & Dyskont     & 1\\\\\n\t 000208 & 20101106 & 3 Persons & Village & Profession Or Secondary & 2010 & 11 & Podkarpackie & Sieci Detal & 2\\\\\n\t 000208 & 20101122 & 3 Persons & Village & Profession Or Secondary & 2010 & 11 & Podkarpackie & Sieci Detal & 1\\\\\n\t 000208 & 20101206 & 3 Persons & Village & Profession Or Secondary & 2010 & 12 & Podkarpackie & Dyskont     & 1\\\\\n\t 000208 & 20101212 & 3 Persons & Village & Profession Or Secondary & 2010 & 12 & Podkarpackie & Sieci Detal & 2\\\\\n\t 000208 & 20101220 & 3 Persons & Village & Profession Or Secondary & 2010 & 12 & Podkarpackie & Dyskont     & 8\\\\\n\\end{tabular}\n",
            "text/markdown": "\nA tibble: 6 × 10\n\n| id &lt;chr&gt; | data &lt;dbl&gt; | wielkosc_gosp &lt;chr&gt; | klm &lt;chr&gt; | wyksztalcenie &lt;chr&gt; | rok &lt;dbl&gt; | miesiac &lt;dbl&gt; | wojewodztwo &lt;chr&gt; | sklepy &lt;chr&gt; | sztuki &lt;dbl&gt; |\n|---|---|---|---|---|---|---|---|---|---|\n| 000208 | 20101105 | 3 Persons | Village | Profession Or Secondary | 2010 | 11 | Podkarpackie | Dyskont     | 1 |\n| 000208 | 20101106 | 3 Persons | Village | Profession Or Secondary | 2010 | 11 | Podkarpackie | Sieci Detal | 2 |\n| 000208 | 20101122 | 3 Persons | Village | Profession Or Secondary | 2010 | 11 | Podkarpackie | Sieci Detal | 1 |\n| 000208 | 20101206 | 3 Persons | Village | Profession Or Secondary | 2010 | 12 | Podkarpackie | Dyskont     | 1 |\n| 000208 | 20101212 | 3 Persons | Village | Profession Or Secondary | 2010 | 12 | Podkarpackie | Sieci Detal | 2 |\n| 000208 | 20101220 | 3 Persons | Village | Profession Or Secondary | 2010 | 12 | Podkarpackie | Dyskont     | 8 |\n\n",
            "text/html": [
              "<table class=\"dataframe\">\n",
              "<caption>A tibble: 6 × 10</caption>\n",
              "<thead>\n",
              "\t<tr><th scope=col>id</th><th scope=col>data</th><th scope=col>wielkosc_gosp</th><th scope=col>klm</th><th scope=col>wyksztalcenie</th><th scope=col>rok</th><th scope=col>miesiac</th><th scope=col>wojewodztwo</th><th scope=col>sklepy</th><th scope=col>sztuki</th></tr>\n",
              "\t<tr><th scope=col>&lt;chr&gt;</th><th scope=col>&lt;dbl&gt;</th><th scope=col>&lt;chr&gt;</th><th scope=col>&lt;chr&gt;</th><th scope=col>&lt;chr&gt;</th><th scope=col>&lt;dbl&gt;</th><th scope=col>&lt;dbl&gt;</th><th scope=col>&lt;chr&gt;</th><th scope=col>&lt;chr&gt;</th><th scope=col>&lt;dbl&gt;</th></tr>\n",
              "</thead>\n",
              "<tbody>\n",
              "\t<tr><td>000208</td><td>20101105</td><td>3 Persons</td><td>Village</td><td>Profession Or Secondary</td><td>2010</td><td>11</td><td>Podkarpackie</td><td>Dyskont    </td><td>1</td></tr>\n",
              "\t<tr><td>000208</td><td>20101106</td><td>3 Persons</td><td>Village</td><td>Profession Or Secondary</td><td>2010</td><td>11</td><td>Podkarpackie</td><td>Sieci Detal</td><td>2</td></tr>\n",
              "\t<tr><td>000208</td><td>20101122</td><td>3 Persons</td><td>Village</td><td>Profession Or Secondary</td><td>2010</td><td>11</td><td>Podkarpackie</td><td>Sieci Detal</td><td>1</td></tr>\n",
              "\t<tr><td>000208</td><td>20101206</td><td>3 Persons</td><td>Village</td><td>Profession Or Secondary</td><td>2010</td><td>12</td><td>Podkarpackie</td><td>Dyskont    </td><td>1</td></tr>\n",
              "\t<tr><td>000208</td><td>20101212</td><td>3 Persons</td><td>Village</td><td>Profession Or Secondary</td><td>2010</td><td>12</td><td>Podkarpackie</td><td>Sieci Detal</td><td>2</td></tr>\n",
              "\t<tr><td>000208</td><td>20101220</td><td>3 Persons</td><td>Village</td><td>Profession Or Secondary</td><td>2010</td><td>12</td><td>Podkarpackie</td><td>Dyskont    </td><td>8</td></tr>\n",
              "</tbody>\n",
              "</table>\n"
            ]
          },
          "metadata": {
            "tags": []
          }
        }
      ]
    },
    {
      "cell_type": "markdown",
      "metadata": {
        "id": "XKb4eeFjd5KX"
      },
      "source": [
        "Processing of raw data"
      ]
    },
    {
      "cell_type": "code",
      "metadata": {
        "colab": {
          "base_uri": "https://localhost:8080/",
          "height": 1000
        },
        "id": "ma8Yoc1weubU",
        "outputId": "a598dcb0-6aad-4240-9065-3e8188ed6b07"
      },
      "source": [
        "beers %>% \n",
        "  add_count(id, name = \"times\") %>%\n",
        "  count(times)"
      ],
      "execution_count": 7,
      "outputs": [
        {
          "output_type": "display_data",
          "data": {
            "text/plain": [
              "    times n   \n",
              "1    1     567\n",
              "2    2     758\n",
              "3    3     921\n",
              "4    4    1112\n",
              "5    5    1120\n",
              "6    6    1026\n",
              "7    7    1176\n",
              "8    8    1128\n",
              "9    9    1233\n",
              "10  10    1220\n",
              "11  11    1210\n",
              "12  12    1212\n",
              "13  13    1183\n",
              "14  14    1372\n",
              "15  15    1215\n",
              "16  16    1424\n",
              "17  17    1190\n",
              "18  18    1152\n",
              "19  19    1159\n",
              "20  20     960\n",
              "21  21    1155\n",
              "22  22    1012\n",
              "23  23    1334\n",
              "24  24     888\n",
              "25  25     975\n",
              "26  26    1040\n",
              "27  27    1053\n",
              "28  28    1008\n",
              "29  29     957\n",
              "30  30     870\n",
              "⋮   ⋮     ⋮   \n",
              "127 158   316 \n",
              "128 159   159 \n",
              "129 160   160 \n",
              "130 163   326 \n",
              "131 169   338 \n",
              "132 178   178 \n",
              "133 179   179 \n",
              "134 180   180 \n",
              "135 181   181 \n",
              "136 184   184 \n",
              "137 185   185 \n",
              "138 187   187 \n",
              "139 198   198 \n",
              "140 206   618 \n",
              "141 208   208 \n",
              "142 212   212 \n",
              "143 214   214 \n",
              "144 217   217 \n",
              "145 218   218 \n",
              "146 221   221 \n",
              "147 226   452 \n",
              "148 229   229 \n",
              "149 232   232 \n",
              "150 241   482 \n",
              "151 252   252 \n",
              "152 256   256 \n",
              "153 257   257 \n",
              "154 259   259 \n",
              "155 301   301 \n",
              "156 309   309 "
            ],
            "text/latex": "A tibble: 156 × 2\n\\begin{tabular}{ll}\n times & n\\\\\n <int> & <int>\\\\\n\\hline\n\t  1 &  567\\\\\n\t  2 &  758\\\\\n\t  3 &  921\\\\\n\t  4 & 1112\\\\\n\t  5 & 1120\\\\\n\t  6 & 1026\\\\\n\t  7 & 1176\\\\\n\t  8 & 1128\\\\\n\t  9 & 1233\\\\\n\t 10 & 1220\\\\\n\t 11 & 1210\\\\\n\t 12 & 1212\\\\\n\t 13 & 1183\\\\\n\t 14 & 1372\\\\\n\t 15 & 1215\\\\\n\t 16 & 1424\\\\\n\t 17 & 1190\\\\\n\t 18 & 1152\\\\\n\t 19 & 1159\\\\\n\t 20 &  960\\\\\n\t 21 & 1155\\\\\n\t 22 & 1012\\\\\n\t 23 & 1334\\\\\n\t 24 &  888\\\\\n\t 25 &  975\\\\\n\t 26 & 1040\\\\\n\t 27 & 1053\\\\\n\t 28 & 1008\\\\\n\t 29 &  957\\\\\n\t 30 &  870\\\\\n\t ⋮ & ⋮\\\\\n\t 158 & 316\\\\\n\t 159 & 159\\\\\n\t 160 & 160\\\\\n\t 163 & 326\\\\\n\t 169 & 338\\\\\n\t 178 & 178\\\\\n\t 179 & 179\\\\\n\t 180 & 180\\\\\n\t 181 & 181\\\\\n\t 184 & 184\\\\\n\t 185 & 185\\\\\n\t 187 & 187\\\\\n\t 198 & 198\\\\\n\t 206 & 618\\\\\n\t 208 & 208\\\\\n\t 212 & 212\\\\\n\t 214 & 214\\\\\n\t 217 & 217\\\\\n\t 218 & 218\\\\\n\t 221 & 221\\\\\n\t 226 & 452\\\\\n\t 229 & 229\\\\\n\t 232 & 232\\\\\n\t 241 & 482\\\\\n\t 252 & 252\\\\\n\t 256 & 256\\\\\n\t 257 & 257\\\\\n\t 259 & 259\\\\\n\t 301 & 301\\\\\n\t 309 & 309\\\\\n\\end{tabular}\n",
            "text/markdown": "\nA tibble: 156 × 2\n\n| times &lt;int&gt; | n &lt;int&gt; |\n|---|---|\n|  1 |  567 |\n|  2 |  758 |\n|  3 |  921 |\n|  4 | 1112 |\n|  5 | 1120 |\n|  6 | 1026 |\n|  7 | 1176 |\n|  8 | 1128 |\n|  9 | 1233 |\n| 10 | 1220 |\n| 11 | 1210 |\n| 12 | 1212 |\n| 13 | 1183 |\n| 14 | 1372 |\n| 15 | 1215 |\n| 16 | 1424 |\n| 17 | 1190 |\n| 18 | 1152 |\n| 19 | 1159 |\n| 20 |  960 |\n| 21 | 1155 |\n| 22 | 1012 |\n| 23 | 1334 |\n| 24 |  888 |\n| 25 |  975 |\n| 26 | 1040 |\n| 27 | 1053 |\n| 28 | 1008 |\n| 29 |  957 |\n| 30 |  870 |\n| ⋮ | ⋮ |\n| 158 | 316 |\n| 159 | 159 |\n| 160 | 160 |\n| 163 | 326 |\n| 169 | 338 |\n| 178 | 178 |\n| 179 | 179 |\n| 180 | 180 |\n| 181 | 181 |\n| 184 | 184 |\n| 185 | 185 |\n| 187 | 187 |\n| 198 | 198 |\n| 206 | 618 |\n| 208 | 208 |\n| 212 | 212 |\n| 214 | 214 |\n| 217 | 217 |\n| 218 | 218 |\n| 221 | 221 |\n| 226 | 452 |\n| 229 | 229 |\n| 232 | 232 |\n| 241 | 482 |\n| 252 | 252 |\n| 256 | 256 |\n| 257 | 257 |\n| 259 | 259 |\n| 301 | 301 |\n| 309 | 309 |\n\n",
            "text/html": [
              "<table class=\"dataframe\">\n",
              "<caption>A tibble: 156 × 2</caption>\n",
              "<thead>\n",
              "\t<tr><th scope=col>times</th><th scope=col>n</th></tr>\n",
              "\t<tr><th scope=col>&lt;int&gt;</th><th scope=col>&lt;int&gt;</th></tr>\n",
              "</thead>\n",
              "<tbody>\n",
              "\t<tr><td> 1</td><td> 567</td></tr>\n",
              "\t<tr><td> 2</td><td> 758</td></tr>\n",
              "\t<tr><td> 3</td><td> 921</td></tr>\n",
              "\t<tr><td> 4</td><td>1112</td></tr>\n",
              "\t<tr><td> 5</td><td>1120</td></tr>\n",
              "\t<tr><td> 6</td><td>1026</td></tr>\n",
              "\t<tr><td> 7</td><td>1176</td></tr>\n",
              "\t<tr><td> 8</td><td>1128</td></tr>\n",
              "\t<tr><td> 9</td><td>1233</td></tr>\n",
              "\t<tr><td>10</td><td>1220</td></tr>\n",
              "\t<tr><td>11</td><td>1210</td></tr>\n",
              "\t<tr><td>12</td><td>1212</td></tr>\n",
              "\t<tr><td>13</td><td>1183</td></tr>\n",
              "\t<tr><td>14</td><td>1372</td></tr>\n",
              "\t<tr><td>15</td><td>1215</td></tr>\n",
              "\t<tr><td>16</td><td>1424</td></tr>\n",
              "\t<tr><td>17</td><td>1190</td></tr>\n",
              "\t<tr><td>18</td><td>1152</td></tr>\n",
              "\t<tr><td>19</td><td>1159</td></tr>\n",
              "\t<tr><td>20</td><td> 960</td></tr>\n",
              "\t<tr><td>21</td><td>1155</td></tr>\n",
              "\t<tr><td>22</td><td>1012</td></tr>\n",
              "\t<tr><td>23</td><td>1334</td></tr>\n",
              "\t<tr><td>24</td><td> 888</td></tr>\n",
              "\t<tr><td>25</td><td> 975</td></tr>\n",
              "\t<tr><td>26</td><td>1040</td></tr>\n",
              "\t<tr><td>27</td><td>1053</td></tr>\n",
              "\t<tr><td>28</td><td>1008</td></tr>\n",
              "\t<tr><td>29</td><td> 957</td></tr>\n",
              "\t<tr><td>30</td><td> 870</td></tr>\n",
              "\t<tr><td>⋮</td><td>⋮</td></tr>\n",
              "\t<tr><td>158</td><td>316</td></tr>\n",
              "\t<tr><td>159</td><td>159</td></tr>\n",
              "\t<tr><td>160</td><td>160</td></tr>\n",
              "\t<tr><td>163</td><td>326</td></tr>\n",
              "\t<tr><td>169</td><td>338</td></tr>\n",
              "\t<tr><td>178</td><td>178</td></tr>\n",
              "\t<tr><td>179</td><td>179</td></tr>\n",
              "\t<tr><td>180</td><td>180</td></tr>\n",
              "\t<tr><td>181</td><td>181</td></tr>\n",
              "\t<tr><td>184</td><td>184</td></tr>\n",
              "\t<tr><td>185</td><td>185</td></tr>\n",
              "\t<tr><td>187</td><td>187</td></tr>\n",
              "\t<tr><td>198</td><td>198</td></tr>\n",
              "\t<tr><td>206</td><td>618</td></tr>\n",
              "\t<tr><td>208</td><td>208</td></tr>\n",
              "\t<tr><td>212</td><td>212</td></tr>\n",
              "\t<tr><td>214</td><td>214</td></tr>\n",
              "\t<tr><td>217</td><td>217</td></tr>\n",
              "\t<tr><td>218</td><td>218</td></tr>\n",
              "\t<tr><td>221</td><td>221</td></tr>\n",
              "\t<tr><td>226</td><td>452</td></tr>\n",
              "\t<tr><td>229</td><td>229</td></tr>\n",
              "\t<tr><td>232</td><td>232</td></tr>\n",
              "\t<tr><td>241</td><td>482</td></tr>\n",
              "\t<tr><td>252</td><td>252</td></tr>\n",
              "\t<tr><td>256</td><td>256</td></tr>\n",
              "\t<tr><td>257</td><td>257</td></tr>\n",
              "\t<tr><td>259</td><td>259</td></tr>\n",
              "\t<tr><td>301</td><td>301</td></tr>\n",
              "\t<tr><td>309</td><td>309</td></tr>\n",
              "</tbody>\n",
              "</table>\n"
            ]
          },
          "metadata": {
            "tags": []
          }
        }
      ]
    },
    {
      "cell_type": "code",
      "metadata": {
        "colab": {
          "base_uri": "https://localhost:8080/",
          "height": 310
        },
        "id": "vMMJGS8Wd7-4",
        "outputId": "46691215-3988-4cd3-919e-33f1ee6847bb"
      },
      "source": [
        "beers_model <- beers %>%\n",
        "  mutate(weekd = wday(ymd(data),week_start = 1)) %>%\n",
        "  arrange(id, data) %>%\n",
        "  add_count(id, name = \"times\")  %>%\n",
        "  filter(times > 2, times <= 10)\n",
        "\n",
        "dim(beers)\n",
        "dim(beers_model)\n",
        "head(beers_model)"
      ],
      "execution_count": 8,
      "outputs": [
        {
          "output_type": "display_data",
          "data": {
            "text/plain": [
              "[1] 80472    10"
            ],
            "text/latex": "\\begin{enumerate*}\n\\item 80472\n\\item 10\n\\end{enumerate*}\n",
            "text/markdown": "1. 80472\n2. 10\n\n\n",
            "text/html": [
              "<style>\n",
              ".list-inline {list-style: none; margin:0; padding: 0}\n",
              ".list-inline>li {display: inline-block}\n",
              ".list-inline>li:not(:last-child)::after {content: \"\\00b7\"; padding: 0 .5ex}\n",
              "</style>\n",
              "<ol class=list-inline><li>80472</li><li>10</li></ol>\n"
            ]
          },
          "metadata": {
            "tags": []
          }
        },
        {
          "output_type": "display_data",
          "data": {
            "text/plain": [
              "[1] 8936   12"
            ],
            "text/latex": "\\begin{enumerate*}\n\\item 8936\n\\item 12\n\\end{enumerate*}\n",
            "text/markdown": "1. 8936\n2. 12\n\n\n",
            "text/html": [
              "<style>\n",
              ".list-inline {list-style: none; margin:0; padding: 0}\n",
              ".list-inline>li {display: inline-block}\n",
              ".list-inline>li:not(:last-child)::after {content: \"\\00b7\"; padding: 0 .5ex}\n",
              "</style>\n",
              "<ol class=list-inline><li>8936</li><li>12</li></ol>\n"
            ]
          },
          "metadata": {
            "tags": []
          }
        },
        {
          "output_type": "display_data",
          "data": {
            "text/plain": [
              "  id     data     wielkosc_gosp klm                     \n",
              "1 000386 20101221 2 Persons     City -19.999 Inhabitants\n",
              "2 000386 20110502 2 Persons     City -19.999 Inhabitants\n",
              "3 000386 20110604 2 Persons     City -19.999 Inhabitants\n",
              "4 000386 20110812 2 Persons     City -19.999 Inhabitants\n",
              "5 000386 20110818 2 Persons     City -19.999 Inhabitants\n",
              "6 000537 20100902 3 Persons     City -19.999 Inhabitants\n",
              "  wyksztalcenie           rok  miesiac wojewodztwo  sklepy       sztuki weekd\n",
              "1 University              2010 12      Lubuskie     Dyskont      2      2    \n",
              "2 University              2011  5      Lubuskie     Hypermarkets 1      1    \n",
              "3 University              2011  6      Lubuskie     Supermarkets 4      6    \n",
              "4 University              2011  8      Lubuskie     Supermarkets 1      5    \n",
              "5 University              2011  8      Lubuskie     Supermarkets 1      4    \n",
              "6 Profession Or Secondary 2010  9      Dolnośląskie Hypermarkets 8      4    \n",
              "  times\n",
              "1 5    \n",
              "2 5    \n",
              "3 5    \n",
              "4 5    \n",
              "5 5    \n",
              "6 4    "
            ],
            "text/latex": "A tibble: 6 × 12\n\\begin{tabular}{llllllllllll}\n id & data & wielkosc\\_gosp & klm & wyksztalcenie & rok & miesiac & wojewodztwo & sklepy & sztuki & weekd & times\\\\\n <chr> & <dbl> & <chr> & <chr> & <chr> & <dbl> & <dbl> & <chr> & <chr> & <dbl> & <dbl> & <int>\\\\\n\\hline\n\t 000386 & 20101221 & 2 Persons & City -19.999 Inhabitants & University              & 2010 & 12 & Lubuskie     & Dyskont      & 2 & 2 & 5\\\\\n\t 000386 & 20110502 & 2 Persons & City -19.999 Inhabitants & University              & 2011 &  5 & Lubuskie     & Hypermarkets & 1 & 1 & 5\\\\\n\t 000386 & 20110604 & 2 Persons & City -19.999 Inhabitants & University              & 2011 &  6 & Lubuskie     & Supermarkets & 4 & 6 & 5\\\\\n\t 000386 & 20110812 & 2 Persons & City -19.999 Inhabitants & University              & 2011 &  8 & Lubuskie     & Supermarkets & 1 & 5 & 5\\\\\n\t 000386 & 20110818 & 2 Persons & City -19.999 Inhabitants & University              & 2011 &  8 & Lubuskie     & Supermarkets & 1 & 4 & 5\\\\\n\t 000537 & 20100902 & 3 Persons & City -19.999 Inhabitants & Profession Or Secondary & 2010 &  9 & Dolnośląskie & Hypermarkets & 8 & 4 & 4\\\\\n\\end{tabular}\n",
            "text/markdown": "\nA tibble: 6 × 12\n\n| id &lt;chr&gt; | data &lt;dbl&gt; | wielkosc_gosp &lt;chr&gt; | klm &lt;chr&gt; | wyksztalcenie &lt;chr&gt; | rok &lt;dbl&gt; | miesiac &lt;dbl&gt; | wojewodztwo &lt;chr&gt; | sklepy &lt;chr&gt; | sztuki &lt;dbl&gt; | weekd &lt;dbl&gt; | times &lt;int&gt; |\n|---|---|---|---|---|---|---|---|---|---|---|---|\n| 000386 | 20101221 | 2 Persons | City -19.999 Inhabitants | University              | 2010 | 12 | Lubuskie     | Dyskont      | 2 | 2 | 5 |\n| 000386 | 20110502 | 2 Persons | City -19.999 Inhabitants | University              | 2011 |  5 | Lubuskie     | Hypermarkets | 1 | 1 | 5 |\n| 000386 | 20110604 | 2 Persons | City -19.999 Inhabitants | University              | 2011 |  6 | Lubuskie     | Supermarkets | 4 | 6 | 5 |\n| 000386 | 20110812 | 2 Persons | City -19.999 Inhabitants | University              | 2011 |  8 | Lubuskie     | Supermarkets | 1 | 5 | 5 |\n| 000386 | 20110818 | 2 Persons | City -19.999 Inhabitants | University              | 2011 |  8 | Lubuskie     | Supermarkets | 1 | 4 | 5 |\n| 000537 | 20100902 | 3 Persons | City -19.999 Inhabitants | Profession Or Secondary | 2010 |  9 | Dolnośląskie | Hypermarkets | 8 | 4 | 4 |\n\n",
            "text/html": [
              "<table class=\"dataframe\">\n",
              "<caption>A tibble: 6 × 12</caption>\n",
              "<thead>\n",
              "\t<tr><th scope=col>id</th><th scope=col>data</th><th scope=col>wielkosc_gosp</th><th scope=col>klm</th><th scope=col>wyksztalcenie</th><th scope=col>rok</th><th scope=col>miesiac</th><th scope=col>wojewodztwo</th><th scope=col>sklepy</th><th scope=col>sztuki</th><th scope=col>weekd</th><th scope=col>times</th></tr>\n",
              "\t<tr><th scope=col>&lt;chr&gt;</th><th scope=col>&lt;dbl&gt;</th><th scope=col>&lt;chr&gt;</th><th scope=col>&lt;chr&gt;</th><th scope=col>&lt;chr&gt;</th><th scope=col>&lt;dbl&gt;</th><th scope=col>&lt;dbl&gt;</th><th scope=col>&lt;chr&gt;</th><th scope=col>&lt;chr&gt;</th><th scope=col>&lt;dbl&gt;</th><th scope=col>&lt;dbl&gt;</th><th scope=col>&lt;int&gt;</th></tr>\n",
              "</thead>\n",
              "<tbody>\n",
              "\t<tr><td>000386</td><td>20101221</td><td>2 Persons</td><td>City -19.999 Inhabitants</td><td>University             </td><td>2010</td><td>12</td><td>Lubuskie    </td><td>Dyskont     </td><td>2</td><td>2</td><td>5</td></tr>\n",
              "\t<tr><td>000386</td><td>20110502</td><td>2 Persons</td><td>City -19.999 Inhabitants</td><td>University             </td><td>2011</td><td> 5</td><td>Lubuskie    </td><td>Hypermarkets</td><td>1</td><td>1</td><td>5</td></tr>\n",
              "\t<tr><td>000386</td><td>20110604</td><td>2 Persons</td><td>City -19.999 Inhabitants</td><td>University             </td><td>2011</td><td> 6</td><td>Lubuskie    </td><td>Supermarkets</td><td>4</td><td>6</td><td>5</td></tr>\n",
              "\t<tr><td>000386</td><td>20110812</td><td>2 Persons</td><td>City -19.999 Inhabitants</td><td>University             </td><td>2011</td><td> 8</td><td>Lubuskie    </td><td>Supermarkets</td><td>1</td><td>5</td><td>5</td></tr>\n",
              "\t<tr><td>000386</td><td>20110818</td><td>2 Persons</td><td>City -19.999 Inhabitants</td><td>University             </td><td>2011</td><td> 8</td><td>Lubuskie    </td><td>Supermarkets</td><td>1</td><td>4</td><td>5</td></tr>\n",
              "\t<tr><td>000537</td><td>20100902</td><td>3 Persons</td><td>City -19.999 Inhabitants</td><td>Profession Or Secondary</td><td>2010</td><td> 9</td><td>Dolnośląskie</td><td>Hypermarkets</td><td>8</td><td>4</td><td>4</td></tr>\n",
              "</tbody>\n",
              "</table>\n"
            ]
          },
          "metadata": {
            "tags": []
          }
        }
      ]
    },
    {
      "cell_type": "markdown",
      "metadata": {
        "id": "jIfc4JovfFMD"
      },
      "source": [
        "First, fit first GEE model that assumes independence. This model is the same as quasi-Poisson model."
      ]
    },
    {
      "cell_type": "code",
      "metadata": {
        "colab": {
          "base_uri": "https://localhost:8080/",
          "height": 1000
        },
        "id": "K-Vxn0dGfPgj",
        "outputId": "87e8aa19-778b-4316-9c42-cd47016958f9"
      },
      "source": [
        "m1 <- geeglm(formula = sztuki ~ wielkosc_gosp + factor(weekd)+ klm + factor(miesiac) + sklepy + wyksztalcenie  + wojewodztwo, \n",
        "             data = beers_model,\n",
        "             family  = poisson(), \n",
        "             corstr = \"independence\", ## R matrix from the materials (working correlation matrix)\n",
        "             id = id, ## we need to sort data according to (id and) time!!!!\n",
        "             scale.fix = FALSE ## means that we fit quasi-poisson model\n",
        "             )\n",
        "summary(m1)"
      ],
      "execution_count": 9,
      "outputs": [
        {
          "output_type": "display_data",
          "data": {
            "text/plain": [
              "\n",
              "Call:\n",
              "geeglm(formula = sztuki ~ wielkosc_gosp + factor(weekd) + klm + \n",
              "    factor(miesiac) + sklepy + wyksztalcenie + wojewodztwo, family = poisson(), \n",
              "    data = beers_model, id = id, corstr = \"independence\", scale.fix = FALSE)\n",
              "\n",
              " Coefficients:\n",
              "                                         Estimate    Std.err   Wald Pr(>|W|)\n",
              "(Intercept)                             0.8359100  0.1649457 25.682 4.02e-07\n",
              "wielkosc_gosp2 Persons                  0.2090599  0.0770536  7.361 0.006664\n",
              "wielkosc_gosp3 Persons                  0.2219004  0.0704480  9.922 0.001634\n",
              "wielkosc_gosp4 Persons                  0.2324044  0.0752256  9.545 0.002005\n",
              "wielkosc_gosp5 Persons                  0.2637603  0.0861508  9.373 0.002201\n",
              "wielkosc_gosp6 Persons                  0.3895593  0.1127865 11.930 0.000552\n",
              "wielkosc_gosp7 Persons                  0.3896959  0.1453342  7.190 0.007332\n",
              "wielkosc_gosp8 Persons                  0.2984589  0.2003329  2.220 0.136273\n",
              "wielkosc_gosp9 Persons                  0.6822726  0.2132824 10.233 0.001379\n",
              "factor(weekd)2                          0.0086666  0.0469076  0.034 0.853418\n",
              "factor(weekd)3                         -0.0137488  0.0418125  0.108 0.742291\n",
              "factor(weekd)4                          0.0009447  0.0433715  0.000 0.982623\n",
              "factor(weekd)5                          0.0779873  0.0416845  3.500 0.061360\n",
              "factor(weekd)6                          0.0292908  0.0389801  0.565 0.452394\n",
              "factor(weekd)7                         -0.0344166  0.0515156  0.446 0.504082\n",
              "klm050.000 - 99.999 Inhabitants        -0.0161448  0.0729192  0.049 0.824776\n",
              "klm100.000 - 199.999 Inhabitants       -0.1077977  0.0750212  2.065 0.150747\n",
              "klm200.000 - 499.999 Inhabitants       -0.0287101  0.0739227  0.151 0.697734\n",
              "klm500.000 And More Inhabitants         0.0406406  0.0791112  0.264 0.607451\n",
              "klmCity -19.999 Inhabitants             0.0725247  0.0714508  1.030 0.310092\n",
              "klmVillage                              0.1430944  0.0730700  3.835 0.050192\n",
              "factor(miesiac)2                        0.0163530  0.0579711  0.080 0.777876\n",
              "factor(miesiac)3                        0.0587572  0.0567223  1.073 0.300260\n",
              "factor(miesiac)4                        0.2359609  0.0594033 15.778 7.12e-05\n",
              "factor(miesiac)5                        0.2177285  0.0546995 15.844 6.88e-05\n",
              "factor(miesiac)6                        0.2026888  0.0626438 10.469 0.001214\n",
              "factor(miesiac)7                        0.1993478  0.0546054 13.328 0.000262\n",
              "factor(miesiac)8                        0.2617736  0.0638743 16.796 4.16e-05\n",
              "factor(miesiac)9                        0.0678121  0.0633458  1.146 0.284391\n",
              "factor(miesiac)10                       0.0838557  0.0533983  2.466 0.116327\n",
              "factor(miesiac)11                       0.1147160  0.0600253  3.652 0.055988\n",
              "factor(miesiac)12                       0.1694465  0.0552788  9.396 0.002174\n",
              "sklepyHurt                              0.2826859  0.0830828 11.577 0.000668\n",
              "sklepyHypermarkets                      0.1503512  0.0386385 15.142 9.97e-05\n",
              "sklepyInny Sklep                       -0.0201566  0.1877126  0.012 0.914488\n",
              "sklepyInternet                          0.6077499  0.1187849 26.177 3.11e-07\n",
              "sklepyKiosk Drogeria Ksiegarnia        -0.3146304  0.2352562  1.789 0.181094\n",
              "sklepySieci Detal                      -0.2364398  0.0425077 30.939 2.66e-08\n",
              "sklepySklep Monopolowy                  0.4942781  0.3839091  1.658 0.197925\n",
              "sklepySklepy Firmowe                   -0.4046969  0.1032554 15.362 8.88e-05\n",
              "sklepySklepy Spozywcze                 -0.2184033  0.0532807 16.803 4.15e-05\n",
              "sklepyStacje Benzynowe                 -0.2272582  0.1745250  1.696 0.192864\n",
              "sklepySupermarkets                     -0.0817340  0.0497153  2.703 0.100168\n",
              "wyksztalcenieProfession Or Secondary    0.0322569  0.0917981  0.123 0.725296\n",
              "wyksztalcenieSecondary School Finished  0.0730629  0.0891289  0.672 0.412362\n",
              "wyksztalcenieUniversity                 0.1051950  0.0941185  1.249 0.263701\n",
              "wojewodztwoKujawsko-Pomorskie           0.0327425  0.1346485  0.059 0.807874\n",
              "wojewodztwoŁódzkie                     -0.0726952  0.1338852  0.295 0.587153\n",
              "wojewodztwoLubelskie                   -0.1815681  0.1334458  1.851 0.173636\n",
              "wojewodztwoLubuskie                    -0.0638643  0.1666361  0.147 0.701530\n",
              "wojewodztwoMałopolskie                 -0.0576454  0.1299421  0.197 0.657315\n",
              "wojewodztwoMazowieckie                 -0.0522204  0.1193671  0.191 0.661765\n",
              "wojewodztwoOpolskie                    -0.0671431  0.1484125  0.205 0.650975\n",
              "wojewodztwoPodkarpackie                -0.1822813  0.1496888  1.483 0.223325\n",
              "wojewodztwoPodlaskie                   -0.2359658  0.1369612  2.968 0.084913\n",
              "wojewodztwoPomorskie                   -0.0526692  0.1357097  0.151 0.697941\n",
              "wojewodztwoŚląskie                      0.0486999  0.1239135  0.154 0.694308\n",
              "wojewodztwoŚwiętokrzyskie               0.0342407  0.1518821  0.051 0.821635\n",
              "wojewodztwoWarmińsko-Mazurskie          0.1073621  0.1536633  0.488 0.484749\n",
              "wojewodztwoWielkopolskie               -0.0551599  0.1283838  0.185 0.667451\n",
              "wojewodztwoZachodniopomorskie          -0.1004163  0.1599553  0.394 0.530150\n",
              "                                          \n",
              "(Intercept)                            ***\n",
              "wielkosc_gosp2 Persons                 ** \n",
              "wielkosc_gosp3 Persons                 ** \n",
              "wielkosc_gosp4 Persons                 ** \n",
              "wielkosc_gosp5 Persons                 ** \n",
              "wielkosc_gosp6 Persons                 ***\n",
              "wielkosc_gosp7 Persons                 ** \n",
              "wielkosc_gosp8 Persons                    \n",
              "wielkosc_gosp9 Persons                 ** \n",
              "factor(weekd)2                            \n",
              "factor(weekd)3                            \n",
              "factor(weekd)4                            \n",
              "factor(weekd)5                         .  \n",
              "factor(weekd)6                            \n",
              "factor(weekd)7                            \n",
              "klm050.000 - 99.999 Inhabitants           \n",
              "klm100.000 - 199.999 Inhabitants          \n",
              "klm200.000 - 499.999 Inhabitants          \n",
              "klm500.000 And More Inhabitants           \n",
              "klmCity -19.999 Inhabitants               \n",
              "klmVillage                             .  \n",
              "factor(miesiac)2                          \n",
              "factor(miesiac)3                          \n",
              "factor(miesiac)4                       ***\n",
              "factor(miesiac)5                       ***\n",
              "factor(miesiac)6                       ** \n",
              "factor(miesiac)7                       ***\n",
              "factor(miesiac)8                       ***\n",
              "factor(miesiac)9                          \n",
              "factor(miesiac)10                         \n",
              "factor(miesiac)11                      .  \n",
              "factor(miesiac)12                      ** \n",
              "sklepyHurt                             ***\n",
              "sklepyHypermarkets                     ***\n",
              "sklepyInny Sklep                          \n",
              "sklepyInternet                         ***\n",
              "sklepyKiosk Drogeria Ksiegarnia           \n",
              "sklepySieci Detal                      ***\n",
              "sklepySklep Monopolowy                    \n",
              "sklepySklepy Firmowe                   ***\n",
              "sklepySklepy Spozywcze                 ***\n",
              "sklepyStacje Benzynowe                    \n",
              "sklepySupermarkets                        \n",
              "wyksztalcenieProfession Or Secondary      \n",
              "wyksztalcenieSecondary School Finished    \n",
              "wyksztalcenieUniversity                   \n",
              "wojewodztwoKujawsko-Pomorskie             \n",
              "wojewodztwoŁódzkie                        \n",
              "wojewodztwoLubelskie                      \n",
              "wojewodztwoLubuskie                       \n",
              "wojewodztwoMałopolskie                    \n",
              "wojewodztwoMazowieckie                    \n",
              "wojewodztwoOpolskie                       \n",
              "wojewodztwoPodkarpackie                   \n",
              "wojewodztwoPodlaskie                   .  \n",
              "wojewodztwoPomorskie                      \n",
              "wojewodztwoŚląskie                        \n",
              "wojewodztwoŚwiętokrzyskie                 \n",
              "wojewodztwoWarmińsko-Mazurskie            \n",
              "wojewodztwoWielkopolskie                  \n",
              "wojewodztwoZachodniopomorskie             \n",
              "---\n",
              "Signif. codes:  0 ‘***’ 0.001 ‘**’ 0.01 ‘*’ 0.05 ‘.’ 0.1 ‘ ’ 1\n",
              "\n",
              "Correlation structure = independence \n",
              "Estimated Scale Parameters:\n",
              "\n",
              "            Estimate Std.err\n",
              "(Intercept)    3.731  0.3394\n",
              "Number of clusters:   1548  Maximum cluster size: 10 "
            ]
          },
          "metadata": {
            "tags": []
          }
        }
      ]
    },
    {
      "cell_type": "markdown",
      "metadata": {
        "id": "2s4AWW4og3jJ"
      },
      "source": [
        "This output refers to $\\phi$ frm our materials.\n",
        "\n",
        "```\n",
        "  Estimate Std.err\n",
        "(Intercept)    3.731  0.3394\n",
        "Number of clusters:   1548  Maximum cluster size: 10 \n",
        "```"
      ]
    },
    {
      "cell_type": "markdown",
      "metadata": {
        "id": "LLGlRIGrhG2L"
      },
      "source": [
        "We now assume that correlation may be modelled by using AR(1) process."
      ]
    },
    {
      "cell_type": "code",
      "metadata": {
        "colab": {
          "base_uri": "https://localhost:8080/",
          "height": 1000
        },
        "id": "kHcq1k22hMy7",
        "outputId": "6c8582e3-98e2-433f-a089-4c3579e7484a"
      },
      "source": [
        "m2 <- geeglm(formula = sztuki ~ wielkosc_gosp + factor(weekd) + klm + \n",
        "               factor(miesiac) + sklepy + wyksztalcenie + wojewodztwo, \n",
        "             data = beers_model,\n",
        "             family  = poisson(),\n",
        "             corstr = \"ar1\", ## autocorrelation level 1\n",
        "             id = id,\n",
        "             scale.fix = FALSE)\n",
        "\n",
        "summary(m2)          \n"
      ],
      "execution_count": 10,
      "outputs": [
        {
          "output_type": "display_data",
          "data": {
            "text/plain": [
              "\n",
              "Call:\n",
              "geeglm(formula = sztuki ~ wielkosc_gosp + factor(weekd) + klm + \n",
              "    factor(miesiac) + sklepy + wyksztalcenie + wojewodztwo, family = poisson(), \n",
              "    data = beers_model, id = id, corstr = \"ar1\", scale.fix = FALSE)\n",
              "\n",
              " Coefficients:\n",
              "                                       Estimate  Std.err  Wald Pr(>|W|)    \n",
              "(Intercept)                             0.93061  0.17657 27.78  1.4e-07 ***\n",
              "wielkosc_gosp2 Persons                  0.19772  0.08079  5.99  0.01439 *  \n",
              "wielkosc_gosp3 Persons                  0.21581  0.07353  8.61  0.00334 ** \n",
              "wielkosc_gosp4 Persons                  0.21377  0.07681  7.74  0.00539 ** \n",
              "wielkosc_gosp5 Persons                  0.24717  0.08941  7.64  0.00570 ** \n",
              "wielkosc_gosp6 Persons                  0.37756  0.12998  8.44  0.00368 ** \n",
              "wielkosc_gosp7 Persons                  0.35786  0.18006  3.95  0.04688 *  \n",
              "wielkosc_gosp8 Persons                  0.28189  0.21756  1.68  0.19510    \n",
              "wielkosc_gosp9 Persons                  0.80770  0.29522  7.49  0.00622 ** \n",
              "factor(weekd)2                         -0.04855  0.04538  1.14  0.28475    \n",
              "factor(weekd)3                         -0.02553  0.04386  0.34  0.56056    \n",
              "factor(weekd)4                         -0.06664  0.04359  2.34  0.12630    \n",
              "factor(weekd)5                          0.05911  0.04279  1.91  0.16718    \n",
              "factor(weekd)6                          0.02187  0.03825  0.33  0.56749    \n",
              "factor(weekd)7                         -0.02781  0.05080  0.30  0.58409    \n",
              "klm050.000 - 99.999 Inhabitants        -0.01417  0.07552  0.04  0.85116    \n",
              "klm100.000 - 199.999 Inhabitants       -0.09815  0.07655  1.64  0.19980    \n",
              "klm200.000 - 499.999 Inhabitants       -0.02860  0.07420  0.15  0.69989    \n",
              "klm500.000 And More Inhabitants         0.03873  0.08054  0.23  0.63055    \n",
              "klmCity -19.999 Inhabitants             0.06708  0.07217  0.86  0.35260    \n",
              "klmVillage                              0.17115  0.07931  4.66  0.03093 *  \n",
              "factor(miesiac)2                        0.03128  0.05458  0.33  0.56661    \n",
              "factor(miesiac)3                        0.03643  0.06870  0.28  0.59588    \n",
              "factor(miesiac)4                        0.17290  0.05954  8.43  0.00368 ** \n",
              "factor(miesiac)5                        0.12534  0.06093  4.23  0.03969 *  \n",
              "factor(miesiac)6                        0.14927  0.06039  6.11  0.01345 *  \n",
              "factor(miesiac)7                        0.17553  0.05946  8.72  0.00315 ** \n",
              "factor(miesiac)8                        0.22215  0.06534 11.56  0.00067 ***\n",
              "factor(miesiac)9                        0.09435  0.05822  2.63  0.10511    \n",
              "factor(miesiac)10                       0.06079  0.05629  1.17  0.28019    \n",
              "factor(miesiac)11                       0.03716  0.06788  0.30  0.58410    \n",
              "factor(miesiac)12                       0.14759  0.05335  7.65  0.00567 ** \n",
              "sklepyHurt                              0.20124  0.06431  9.79  0.00175 ** \n",
              "sklepyHypermarkets                      0.10609  0.04059  6.83  0.00895 ** \n",
              "sklepyInny Sklep                        0.01000  0.10606  0.01  0.92492    \n",
              "sklepyInternet                         -1.05134  1.04238  1.02  0.31317    \n",
              "sklepyKiosk Drogeria Ksiegarnia        -0.35608  0.20186  3.11  0.07773 .  \n",
              "sklepySieci Detal                      -0.21310  0.04615 21.33  3.9e-06 ***\n",
              "sklepySklep Monopolowy                  0.45782  0.33901  1.82  0.17687    \n",
              "sklepySklepy Firmowe                   -0.44700  0.18671  5.73  0.01666 *  \n",
              "sklepySklepy Spozywcze                 -0.20440  0.04223 23.43  1.3e-06 ***\n",
              "sklepyStacje Benzynowe                 -0.14846  0.16325  0.83  0.36313    \n",
              "sklepySupermarkets                     -0.07676  0.05092  2.27  0.13172    \n",
              "wyksztalcenieProfession Or Secondary    0.03696  0.09409  0.15  0.69446    \n",
              "wyksztalcenieSecondary School Finished  0.09788  0.09225  1.13  0.28865    \n",
              "wyksztalcenieUniversity                 0.13701  0.09952  1.90  0.16858    \n",
              "wojewodztwoKujawsko-Pomorskie           0.00743  0.15293  0.00  0.96125    \n",
              "wojewodztwoŁódzkie                     -0.12118  0.15233  0.63  0.42632    \n",
              "wojewodztwoLubelskie                   -0.20803  0.15389  1.83  0.17645    \n",
              "wojewodztwoLubuskie                    -0.05750  0.18851  0.09  0.76034    \n",
              "wojewodztwoMałopolskie                 -0.12558  0.14476  0.75  0.38565    \n",
              "wojewodztwoMazowieckie                 -0.08937  0.13830  0.42  0.51814    \n",
              "wojewodztwoOpolskie                    -0.12622  0.16672  0.57  0.44902    \n",
              "wojewodztwoPodkarpackie                -0.28081  0.16089  3.05  0.08093 .  \n",
              "wojewodztwoPodlaskie                   -0.27364  0.15890  2.97  0.08506 .  \n",
              "wojewodztwoPomorskie                   -0.07718  0.15521  0.25  0.61898    \n",
              "wojewodztwoŚląskie                     -0.01320  0.14114  0.01  0.92548    \n",
              "wojewodztwoŚwiętokrzyskie              -0.05678  0.16893  0.11  0.73679    \n",
              "wojewodztwoWarmińsko-Mazurskie          0.03593  0.17153  0.04  0.83410    \n",
              "wojewodztwoWielkopolskie               -0.09424  0.14592  0.42  0.51841    \n",
              "wojewodztwoZachodniopomorskie          -0.16052  0.16840  0.91  0.34048    \n",
              "---\n",
              "Signif. codes:  0 ‘***’ 0.001 ‘**’ 0.01 ‘*’ 0.05 ‘.’ 0.1 ‘ ’ 1\n",
              "\n",
              "Correlation structure = ar1 \n",
              "Estimated Scale Parameters:\n",
              "\n",
              "            Estimate Std.err\n",
              "(Intercept)     3.77   0.341\n",
              "  Link = identity \n",
              "\n",
              "Estimated Correlation Parameters:\n",
              "      Estimate Std.err\n",
              "alpha    0.554  0.0383\n",
              "Number of clusters:   1548  Maximum cluster size: 10 "
            ]
          },
          "metadata": {
            "tags": []
          }
        }
      ]
    },
    {
      "cell_type": "markdown",
      "metadata": {
        "id": "YNFAyjUkh36_"
      },
      "source": [
        "This output refers to the estimated $\\phi$ and $\\alpha$ from the materials.\n",
        "\n",
        "\n",
        "```\n",
        "Correlation structure = ar1 \n",
        "Estimated Scale Parameters:\n",
        "\n",
        "            Estimate Std.err\n",
        "(Intercept)     3.77   0.341\n",
        "  Link = identity \n",
        "\n",
        "Estimated Correlation Parameters:\n",
        "      Estimate Std.err\n",
        "alpha    0.554  0.0383\n",
        "Number of clusters:   1548  Maximum cluster size: 10 \n",
        "```\n"
      ]
    },
    {
      "cell_type": "code",
      "metadata": {
        "colab": {
          "base_uri": "https://localhost:8080/",
          "height": 175
        },
        "id": "9uSCAAjkid5I",
        "outputId": "96574534-16ab-42f7-a553-00281cf09b40"
      },
      "source": [
        "model.sel(m2, m1, rank = \"QIC\")"
      ],
      "execution_count": 12,
      "outputs": [
        {
          "output_type": "display_data",
          "data": {
            "text/plain": [
              "   (Intercept) factor(miesiac) factor(weekd) klm sklepy wielkosc_gosp\n",
              "m1 0.836       +               +             +   +      +            \n",
              "m2 0.931       +               +             +   +      +            \n",
              "   wojewodztwo wyksztalcenie family       corstr       df qLik QIC    delta\n",
              "m1 +           +             poisson(log) independence NA 9786 -19316  0.0 \n",
              "m2 +           +             poisson(log) ar1          NA 9723 -19292 23.6 \n",
              "   weight  \n",
              "m1 1.00e+00\n",
              "m2 7.49e-06"
            ],
            "text/latex": "A model.selection: 2 × 15\n\\begin{tabular}{r|lllllllllllllll}\n  & (Intercept) & factor(miesiac) & factor(weekd) & klm & sklepy & wielkosc\\_gosp & wojewodztwo & wyksztalcenie & family & corstr & df & qLik & QIC & delta & weight\\\\\n  & <dbl> & <fct> & <fct> & <fct> & <fct> & <fct> & <fct> & <fct> & <chr> & <chr> & <int> & <dbl> & <dbl> & <dbl> & <mdl.wght>\\\\\n\\hline\n\tm1 & 0.836 & + & + & + & + & + & + & + & poisson(log) & independence & NA & 9786 & -19316 &  0.0 & 1.00e+00\\\\\n\tm2 & 0.931 & + & + & + & + & + & + & + & poisson(log) & ar1          & NA & 9723 & -19292 & 23.6 & 7.49e-06\\\\\n\\end{tabular}\n",
            "text/markdown": "\nA model.selection: 2 × 15\n\n| <!--/--> | (Intercept) &lt;dbl&gt; | factor(miesiac) &lt;fct&gt; | factor(weekd) &lt;fct&gt; | klm &lt;fct&gt; | sklepy &lt;fct&gt; | wielkosc_gosp &lt;fct&gt; | wojewodztwo &lt;fct&gt; | wyksztalcenie &lt;fct&gt; | family &lt;chr&gt; | corstr &lt;chr&gt; | df &lt;int&gt; | qLik &lt;dbl&gt; | QIC &lt;dbl&gt; | delta &lt;dbl&gt; | weight &lt;mdl.wght&gt; |\n|---|---|---|---|---|---|---|---|---|---|---|---|---|---|---|---|\n| m1 | 0.836 | + | + | + | + | + | + | + | poisson(log) | independence | NA | 9786 | -19316 |  0.0 | 1.00e+00 |\n| m2 | 0.931 | + | + | + | + | + | + | + | poisson(log) | ar1          | NA | 9723 | -19292 | 23.6 | 7.49e-06 |\n\n",
            "text/html": [
              "<table class=\"dataframe\">\n",
              "<caption>A model.selection: 2 × 15</caption>\n",
              "<thead>\n",
              "\t<tr><th></th><th scope=col>(Intercept)</th><th scope=col>factor(miesiac)</th><th scope=col>factor(weekd)</th><th scope=col>klm</th><th scope=col>sklepy</th><th scope=col>wielkosc_gosp</th><th scope=col>wojewodztwo</th><th scope=col>wyksztalcenie</th><th scope=col>family</th><th scope=col>corstr</th><th scope=col>df</th><th scope=col>qLik</th><th scope=col>QIC</th><th scope=col>delta</th><th scope=col>weight</th></tr>\n",
              "\t<tr><th></th><th scope=col>&lt;dbl&gt;</th><th scope=col>&lt;fct&gt;</th><th scope=col>&lt;fct&gt;</th><th scope=col>&lt;fct&gt;</th><th scope=col>&lt;fct&gt;</th><th scope=col>&lt;fct&gt;</th><th scope=col>&lt;fct&gt;</th><th scope=col>&lt;fct&gt;</th><th scope=col>&lt;chr&gt;</th><th scope=col>&lt;chr&gt;</th><th scope=col>&lt;int&gt;</th><th scope=col>&lt;dbl&gt;</th><th scope=col>&lt;dbl&gt;</th><th scope=col>&lt;dbl&gt;</th><th scope=col>&lt;mdl.wght&gt;</th></tr>\n",
              "</thead>\n",
              "<tbody>\n",
              "\t<tr><th scope=row>m1</th><td>0.836</td><td>+</td><td>+</td><td>+</td><td>+</td><td>+</td><td>+</td><td>+</td><td>poisson(log)</td><td>independence</td><td>NA</td><td>9786</td><td>-19316</td><td> 0.0</td><td>1.00e+00</td></tr>\n",
              "\t<tr><th scope=row>m2</th><td>0.931</td><td>+</td><td>+</td><td>+</td><td>+</td><td>+</td><td>+</td><td>+</td><td>poisson(log)</td><td>ar1         </td><td>NA</td><td>9723</td><td>-19292</td><td>23.6</td><td>7.49e-06</td></tr>\n",
              "</tbody>\n",
              "</table>\n"
            ]
          },
          "metadata": {
            "tags": []
          }
        }
      ]
    },
    {
      "cell_type": "markdown",
      "metadata": {
        "id": "2KIcyUFRjDNz"
      },
      "source": [
        "Compare coefficients and standard errors"
      ]
    },
    {
      "cell_type": "code",
      "metadata": {
        "colab": {
          "base_uri": "https://localhost:8080/",
          "height": 1000
        },
        "id": "9KAXjUSMjHTo",
        "outputId": "df7f6371-fd20-4ce6-f0b6-e4ba82172189"
      },
      "source": [
        "coef_table <- data.frame(model1 = coef(m1), model2 = coef(m2))\n",
        "coef_table"
      ],
      "execution_count": 14,
      "outputs": [
        {
          "output_type": "display_data",
          "data": {
            "text/plain": [
              "                                       model1    model2  \n",
              "(Intercept)                             0.835910  0.9306 \n",
              "wielkosc_gosp2 Persons                  0.209060  0.1977 \n",
              "wielkosc_gosp3 Persons                  0.221900  0.2158 \n",
              "wielkosc_gosp4 Persons                  0.232404  0.2138 \n",
              "wielkosc_gosp5 Persons                  0.263760  0.2472 \n",
              "wielkosc_gosp6 Persons                  0.389559  0.3776 \n",
              "wielkosc_gosp7 Persons                  0.389696  0.3579 \n",
              "wielkosc_gosp8 Persons                  0.298459  0.2819 \n",
              "wielkosc_gosp9 Persons                  0.682273  0.8077 \n",
              "factor(weekd)2                          0.008667 -0.0485 \n",
              "factor(weekd)3                         -0.013749 -0.0255 \n",
              "factor(weekd)4                          0.000945 -0.0666 \n",
              "factor(weekd)5                          0.077987  0.0591 \n",
              "factor(weekd)6                          0.029291  0.0219 \n",
              "factor(weekd)7                         -0.034417 -0.0278 \n",
              "klm050.000 - 99.999 Inhabitants        -0.016145 -0.0142 \n",
              "klm100.000 - 199.999 Inhabitants       -0.107798 -0.0981 \n",
              "klm200.000 - 499.999 Inhabitants       -0.028710 -0.0286 \n",
              "klm500.000 And More Inhabitants         0.040641  0.0387 \n",
              "klmCity -19.999 Inhabitants             0.072525  0.0671 \n",
              "klmVillage                              0.143094  0.1712 \n",
              "factor(miesiac)2                        0.016353  0.0313 \n",
              "factor(miesiac)3                        0.058757  0.0364 \n",
              "factor(miesiac)4                        0.235961  0.1729 \n",
              "factor(miesiac)5                        0.217728  0.1253 \n",
              "factor(miesiac)6                        0.202689  0.1493 \n",
              "factor(miesiac)7                        0.199348  0.1755 \n",
              "factor(miesiac)8                        0.261774  0.2222 \n",
              "factor(miesiac)9                        0.067812  0.0943 \n",
              "factor(miesiac)10                       0.083856  0.0608 \n",
              "⋮                                      ⋮         ⋮       \n",
              "factor(miesiac)12                       0.1694    0.14759\n",
              "sklepyHurt                              0.2827    0.20124\n",
              "sklepyHypermarkets                      0.1504    0.10609\n",
              "sklepyInny Sklep                       -0.0202    0.01000\n",
              "sklepyInternet                          0.6077   -1.05134\n",
              "sklepyKiosk Drogeria Ksiegarnia        -0.3146   -0.35608\n",
              "sklepySieci Detal                      -0.2364   -0.21310\n",
              "sklepySklep Monopolowy                  0.4943    0.45782\n",
              "sklepySklepy Firmowe                   -0.4047   -0.44700\n",
              "sklepySklepy Spozywcze                 -0.2184   -0.20440\n",
              "sklepyStacje Benzynowe                 -0.2273   -0.14846\n",
              "sklepySupermarkets                     -0.0817   -0.07676\n",
              "wyksztalcenieProfession Or Secondary    0.0323    0.03696\n",
              "wyksztalcenieSecondary School Finished  0.0731    0.09788\n",
              "wyksztalcenieUniversity                 0.1052    0.13701\n",
              "wojewodztwoKujawsko-Pomorskie           0.0327    0.00743\n",
              "wojewodztwoŁódzkie                     -0.0727   -0.12118\n",
              "wojewodztwoLubelskie                   -0.1816   -0.20803\n",
              "wojewodztwoLubuskie                    -0.0639   -0.05750\n",
              "wojewodztwoMałopolskie                 -0.0576   -0.12558\n",
              "wojewodztwoMazowieckie                 -0.0522   -0.08937\n",
              "wojewodztwoOpolskie                    -0.0671   -0.12622\n",
              "wojewodztwoPodkarpackie                -0.1823   -0.28081\n",
              "wojewodztwoPodlaskie                   -0.2360   -0.27364\n",
              "wojewodztwoPomorskie                   -0.0527   -0.07718\n",
              "wojewodztwoŚląskie                      0.0487   -0.01320\n",
              "wojewodztwoŚwiętokrzyskie               0.0342   -0.05678\n",
              "wojewodztwoWarmińsko-Mazurskie          0.1074    0.03593\n",
              "wojewodztwoWielkopolskie               -0.0552   -0.09424\n",
              "wojewodztwoZachodniopomorskie          -0.1004   -0.16052"
            ],
            "text/latex": "A data.frame: 61 × 2\n\\begin{tabular}{r|ll}\n  & model1 & model2\\\\\n  & <dbl> & <dbl>\\\\\n\\hline\n\t(Intercept) &  0.835910 &  0.9306\\\\\n\twielkosc\\_gosp2 Persons &  0.209060 &  0.1977\\\\\n\twielkosc\\_gosp3 Persons &  0.221900 &  0.2158\\\\\n\twielkosc\\_gosp4 Persons &  0.232404 &  0.2138\\\\\n\twielkosc\\_gosp5 Persons &  0.263760 &  0.2472\\\\\n\twielkosc\\_gosp6 Persons &  0.389559 &  0.3776\\\\\n\twielkosc\\_gosp7 Persons &  0.389696 &  0.3579\\\\\n\twielkosc\\_gosp8 Persons &  0.298459 &  0.2819\\\\\n\twielkosc\\_gosp9 Persons &  0.682273 &  0.8077\\\\\n\tfactor(weekd)2 &  0.008667 & -0.0485\\\\\n\tfactor(weekd)3 & -0.013749 & -0.0255\\\\\n\tfactor(weekd)4 &  0.000945 & -0.0666\\\\\n\tfactor(weekd)5 &  0.077987 &  0.0591\\\\\n\tfactor(weekd)6 &  0.029291 &  0.0219\\\\\n\tfactor(weekd)7 & -0.034417 & -0.0278\\\\\n\tklm050.000 - 99.999 Inhabitants & -0.016145 & -0.0142\\\\\n\tklm100.000 - 199.999 Inhabitants & -0.107798 & -0.0981\\\\\n\tklm200.000 - 499.999 Inhabitants & -0.028710 & -0.0286\\\\\n\tklm500.000 And More Inhabitants &  0.040641 &  0.0387\\\\\n\tklmCity -19.999 Inhabitants &  0.072525 &  0.0671\\\\\n\tklmVillage &  0.143094 &  0.1712\\\\\n\tfactor(miesiac)2 &  0.016353 &  0.0313\\\\\n\tfactor(miesiac)3 &  0.058757 &  0.0364\\\\\n\tfactor(miesiac)4 &  0.235961 &  0.1729\\\\\n\tfactor(miesiac)5 &  0.217728 &  0.1253\\\\\n\tfactor(miesiac)6 &  0.202689 &  0.1493\\\\\n\tfactor(miesiac)7 &  0.199348 &  0.1755\\\\\n\tfactor(miesiac)8 &  0.261774 &  0.2222\\\\\n\tfactor(miesiac)9 &  0.067812 &  0.0943\\\\\n\tfactor(miesiac)10 &  0.083856 &  0.0608\\\\\n\t⋮ & ⋮ & ⋮\\\\\n\tfactor(miesiac)12 &  0.1694 &  0.14759\\\\\n\tsklepyHurt &  0.2827 &  0.20124\\\\\n\tsklepyHypermarkets &  0.1504 &  0.10609\\\\\n\tsklepyInny Sklep & -0.0202 &  0.01000\\\\\n\tsklepyInternet &  0.6077 & -1.05134\\\\\n\tsklepyKiosk Drogeria Ksiegarnia & -0.3146 & -0.35608\\\\\n\tsklepySieci Detal & -0.2364 & -0.21310\\\\\n\tsklepySklep Monopolowy &  0.4943 &  0.45782\\\\\n\tsklepySklepy Firmowe & -0.4047 & -0.44700\\\\\n\tsklepySklepy Spozywcze & -0.2184 & -0.20440\\\\\n\tsklepyStacje Benzynowe & -0.2273 & -0.14846\\\\\n\tsklepySupermarkets & -0.0817 & -0.07676\\\\\n\twyksztalcenieProfession Or Secondary &  0.0323 &  0.03696\\\\\n\twyksztalcenieSecondary School Finished &  0.0731 &  0.09788\\\\\n\twyksztalcenieUniversity &  0.1052 &  0.13701\\\\\n\twojewodztwoKujawsko-Pomorskie &  0.0327 &  0.00743\\\\\n\twojewodztwoŁódzkie & -0.0727 & -0.12118\\\\\n\twojewodztwoLubelskie & -0.1816 & -0.20803\\\\\n\twojewodztwoLubuskie & -0.0639 & -0.05750\\\\\n\twojewodztwoMałopolskie & -0.0576 & -0.12558\\\\\n\twojewodztwoMazowieckie & -0.0522 & -0.08937\\\\\n\twojewodztwoOpolskie & -0.0671 & -0.12622\\\\\n\twojewodztwoPodkarpackie & -0.1823 & -0.28081\\\\\n\twojewodztwoPodlaskie & -0.2360 & -0.27364\\\\\n\twojewodztwoPomorskie & -0.0527 & -0.07718\\\\\n\twojewodztwoŚląskie &  0.0487 & -0.01320\\\\\n\twojewodztwoŚwiętokrzyskie &  0.0342 & -0.05678\\\\\n\twojewodztwoWarmińsko-Mazurskie &  0.1074 &  0.03593\\\\\n\twojewodztwoWielkopolskie & -0.0552 & -0.09424\\\\\n\twojewodztwoZachodniopomorskie & -0.1004 & -0.16052\\\\\n\\end{tabular}\n",
            "text/markdown": "\nA data.frame: 61 × 2\n\n| <!--/--> | model1 &lt;dbl&gt; | model2 &lt;dbl&gt; |\n|---|---|---|\n| (Intercept) |  0.835910 |  0.9306 |\n| wielkosc_gosp2 Persons |  0.209060 |  0.1977 |\n| wielkosc_gosp3 Persons |  0.221900 |  0.2158 |\n| wielkosc_gosp4 Persons |  0.232404 |  0.2138 |\n| wielkosc_gosp5 Persons |  0.263760 |  0.2472 |\n| wielkosc_gosp6 Persons |  0.389559 |  0.3776 |\n| wielkosc_gosp7 Persons |  0.389696 |  0.3579 |\n| wielkosc_gosp8 Persons |  0.298459 |  0.2819 |\n| wielkosc_gosp9 Persons |  0.682273 |  0.8077 |\n| factor(weekd)2 |  0.008667 | -0.0485 |\n| factor(weekd)3 | -0.013749 | -0.0255 |\n| factor(weekd)4 |  0.000945 | -0.0666 |\n| factor(weekd)5 |  0.077987 |  0.0591 |\n| factor(weekd)6 |  0.029291 |  0.0219 |\n| factor(weekd)7 | -0.034417 | -0.0278 |\n| klm050.000 - 99.999 Inhabitants | -0.016145 | -0.0142 |\n| klm100.000 - 199.999 Inhabitants | -0.107798 | -0.0981 |\n| klm200.000 - 499.999 Inhabitants | -0.028710 | -0.0286 |\n| klm500.000 And More Inhabitants |  0.040641 |  0.0387 |\n| klmCity -19.999 Inhabitants |  0.072525 |  0.0671 |\n| klmVillage |  0.143094 |  0.1712 |\n| factor(miesiac)2 |  0.016353 |  0.0313 |\n| factor(miesiac)3 |  0.058757 |  0.0364 |\n| factor(miesiac)4 |  0.235961 |  0.1729 |\n| factor(miesiac)5 |  0.217728 |  0.1253 |\n| factor(miesiac)6 |  0.202689 |  0.1493 |\n| factor(miesiac)7 |  0.199348 |  0.1755 |\n| factor(miesiac)8 |  0.261774 |  0.2222 |\n| factor(miesiac)9 |  0.067812 |  0.0943 |\n| factor(miesiac)10 |  0.083856 |  0.0608 |\n| ⋮ | ⋮ | ⋮ |\n| factor(miesiac)12 |  0.1694 |  0.14759 |\n| sklepyHurt |  0.2827 |  0.20124 |\n| sklepyHypermarkets |  0.1504 |  0.10609 |\n| sklepyInny Sklep | -0.0202 |  0.01000 |\n| sklepyInternet |  0.6077 | -1.05134 |\n| sklepyKiosk Drogeria Ksiegarnia | -0.3146 | -0.35608 |\n| sklepySieci Detal | -0.2364 | -0.21310 |\n| sklepySklep Monopolowy |  0.4943 |  0.45782 |\n| sklepySklepy Firmowe | -0.4047 | -0.44700 |\n| sklepySklepy Spozywcze | -0.2184 | -0.20440 |\n| sklepyStacje Benzynowe | -0.2273 | -0.14846 |\n| sklepySupermarkets | -0.0817 | -0.07676 |\n| wyksztalcenieProfession Or Secondary |  0.0323 |  0.03696 |\n| wyksztalcenieSecondary School Finished |  0.0731 |  0.09788 |\n| wyksztalcenieUniversity |  0.1052 |  0.13701 |\n| wojewodztwoKujawsko-Pomorskie |  0.0327 |  0.00743 |\n| wojewodztwoŁódzkie | -0.0727 | -0.12118 |\n| wojewodztwoLubelskie | -0.1816 | -0.20803 |\n| wojewodztwoLubuskie | -0.0639 | -0.05750 |\n| wojewodztwoMałopolskie | -0.0576 | -0.12558 |\n| wojewodztwoMazowieckie | -0.0522 | -0.08937 |\n| wojewodztwoOpolskie | -0.0671 | -0.12622 |\n| wojewodztwoPodkarpackie | -0.1823 | -0.28081 |\n| wojewodztwoPodlaskie | -0.2360 | -0.27364 |\n| wojewodztwoPomorskie | -0.0527 | -0.07718 |\n| wojewodztwoŚląskie |  0.0487 | -0.01320 |\n| wojewodztwoŚwiętokrzyskie |  0.0342 | -0.05678 |\n| wojewodztwoWarmińsko-Mazurskie |  0.1074 |  0.03593 |\n| wojewodztwoWielkopolskie | -0.0552 | -0.09424 |\n| wojewodztwoZachodniopomorskie | -0.1004 | -0.16052 |\n\n",
            "text/html": [
              "<table class=\"dataframe\">\n",
              "<caption>A data.frame: 61 × 2</caption>\n",
              "<thead>\n",
              "\t<tr><th></th><th scope=col>model1</th><th scope=col>model2</th></tr>\n",
              "\t<tr><th></th><th scope=col>&lt;dbl&gt;</th><th scope=col>&lt;dbl&gt;</th></tr>\n",
              "</thead>\n",
              "<tbody>\n",
              "\t<tr><th scope=row>(Intercept)</th><td> 0.835910</td><td> 0.9306</td></tr>\n",
              "\t<tr><th scope=row>wielkosc_gosp2 Persons</th><td> 0.209060</td><td> 0.1977</td></tr>\n",
              "\t<tr><th scope=row>wielkosc_gosp3 Persons</th><td> 0.221900</td><td> 0.2158</td></tr>\n",
              "\t<tr><th scope=row>wielkosc_gosp4 Persons</th><td> 0.232404</td><td> 0.2138</td></tr>\n",
              "\t<tr><th scope=row>wielkosc_gosp5 Persons</th><td> 0.263760</td><td> 0.2472</td></tr>\n",
              "\t<tr><th scope=row>wielkosc_gosp6 Persons</th><td> 0.389559</td><td> 0.3776</td></tr>\n",
              "\t<tr><th scope=row>wielkosc_gosp7 Persons</th><td> 0.389696</td><td> 0.3579</td></tr>\n",
              "\t<tr><th scope=row>wielkosc_gosp8 Persons</th><td> 0.298459</td><td> 0.2819</td></tr>\n",
              "\t<tr><th scope=row>wielkosc_gosp9 Persons</th><td> 0.682273</td><td> 0.8077</td></tr>\n",
              "\t<tr><th scope=row>factor(weekd)2</th><td> 0.008667</td><td>-0.0485</td></tr>\n",
              "\t<tr><th scope=row>factor(weekd)3</th><td>-0.013749</td><td>-0.0255</td></tr>\n",
              "\t<tr><th scope=row>factor(weekd)4</th><td> 0.000945</td><td>-0.0666</td></tr>\n",
              "\t<tr><th scope=row>factor(weekd)5</th><td> 0.077987</td><td> 0.0591</td></tr>\n",
              "\t<tr><th scope=row>factor(weekd)6</th><td> 0.029291</td><td> 0.0219</td></tr>\n",
              "\t<tr><th scope=row>factor(weekd)7</th><td>-0.034417</td><td>-0.0278</td></tr>\n",
              "\t<tr><th scope=row>klm050.000 - 99.999 Inhabitants</th><td>-0.016145</td><td>-0.0142</td></tr>\n",
              "\t<tr><th scope=row>klm100.000 - 199.999 Inhabitants</th><td>-0.107798</td><td>-0.0981</td></tr>\n",
              "\t<tr><th scope=row>klm200.000 - 499.999 Inhabitants</th><td>-0.028710</td><td>-0.0286</td></tr>\n",
              "\t<tr><th scope=row>klm500.000 And More Inhabitants</th><td> 0.040641</td><td> 0.0387</td></tr>\n",
              "\t<tr><th scope=row>klmCity -19.999 Inhabitants</th><td> 0.072525</td><td> 0.0671</td></tr>\n",
              "\t<tr><th scope=row>klmVillage</th><td> 0.143094</td><td> 0.1712</td></tr>\n",
              "\t<tr><th scope=row>factor(miesiac)2</th><td> 0.016353</td><td> 0.0313</td></tr>\n",
              "\t<tr><th scope=row>factor(miesiac)3</th><td> 0.058757</td><td> 0.0364</td></tr>\n",
              "\t<tr><th scope=row>factor(miesiac)4</th><td> 0.235961</td><td> 0.1729</td></tr>\n",
              "\t<tr><th scope=row>factor(miesiac)5</th><td> 0.217728</td><td> 0.1253</td></tr>\n",
              "\t<tr><th scope=row>factor(miesiac)6</th><td> 0.202689</td><td> 0.1493</td></tr>\n",
              "\t<tr><th scope=row>factor(miesiac)7</th><td> 0.199348</td><td> 0.1755</td></tr>\n",
              "\t<tr><th scope=row>factor(miesiac)8</th><td> 0.261774</td><td> 0.2222</td></tr>\n",
              "\t<tr><th scope=row>factor(miesiac)9</th><td> 0.067812</td><td> 0.0943</td></tr>\n",
              "\t<tr><th scope=row>factor(miesiac)10</th><td> 0.083856</td><td> 0.0608</td></tr>\n",
              "\t<tr><th scope=row>⋮</th><td>⋮</td><td>⋮</td></tr>\n",
              "\t<tr><th scope=row>factor(miesiac)12</th><td> 0.1694</td><td> 0.14759</td></tr>\n",
              "\t<tr><th scope=row>sklepyHurt</th><td> 0.2827</td><td> 0.20124</td></tr>\n",
              "\t<tr><th scope=row>sklepyHypermarkets</th><td> 0.1504</td><td> 0.10609</td></tr>\n",
              "\t<tr><th scope=row>sklepyInny Sklep</th><td>-0.0202</td><td> 0.01000</td></tr>\n",
              "\t<tr><th scope=row>sklepyInternet</th><td> 0.6077</td><td>-1.05134</td></tr>\n",
              "\t<tr><th scope=row>sklepyKiosk Drogeria Ksiegarnia</th><td>-0.3146</td><td>-0.35608</td></tr>\n",
              "\t<tr><th scope=row>sklepySieci Detal</th><td>-0.2364</td><td>-0.21310</td></tr>\n",
              "\t<tr><th scope=row>sklepySklep Monopolowy</th><td> 0.4943</td><td> 0.45782</td></tr>\n",
              "\t<tr><th scope=row>sklepySklepy Firmowe</th><td>-0.4047</td><td>-0.44700</td></tr>\n",
              "\t<tr><th scope=row>sklepySklepy Spozywcze</th><td>-0.2184</td><td>-0.20440</td></tr>\n",
              "\t<tr><th scope=row>sklepyStacje Benzynowe</th><td>-0.2273</td><td>-0.14846</td></tr>\n",
              "\t<tr><th scope=row>sklepySupermarkets</th><td>-0.0817</td><td>-0.07676</td></tr>\n",
              "\t<tr><th scope=row>wyksztalcenieProfession Or Secondary</th><td> 0.0323</td><td> 0.03696</td></tr>\n",
              "\t<tr><th scope=row>wyksztalcenieSecondary School Finished</th><td> 0.0731</td><td> 0.09788</td></tr>\n",
              "\t<tr><th scope=row>wyksztalcenieUniversity</th><td> 0.1052</td><td> 0.13701</td></tr>\n",
              "\t<tr><th scope=row>wojewodztwoKujawsko-Pomorskie</th><td> 0.0327</td><td> 0.00743</td></tr>\n",
              "\t<tr><th scope=row>wojewodztwoŁódzkie</th><td>-0.0727</td><td>-0.12118</td></tr>\n",
              "\t<tr><th scope=row>wojewodztwoLubelskie</th><td>-0.1816</td><td>-0.20803</td></tr>\n",
              "\t<tr><th scope=row>wojewodztwoLubuskie</th><td>-0.0639</td><td>-0.05750</td></tr>\n",
              "\t<tr><th scope=row>wojewodztwoMałopolskie</th><td>-0.0576</td><td>-0.12558</td></tr>\n",
              "\t<tr><th scope=row>wojewodztwoMazowieckie</th><td>-0.0522</td><td>-0.08937</td></tr>\n",
              "\t<tr><th scope=row>wojewodztwoOpolskie</th><td>-0.0671</td><td>-0.12622</td></tr>\n",
              "\t<tr><th scope=row>wojewodztwoPodkarpackie</th><td>-0.1823</td><td>-0.28081</td></tr>\n",
              "\t<tr><th scope=row>wojewodztwoPodlaskie</th><td>-0.2360</td><td>-0.27364</td></tr>\n",
              "\t<tr><th scope=row>wojewodztwoPomorskie</th><td>-0.0527</td><td>-0.07718</td></tr>\n",
              "\t<tr><th scope=row>wojewodztwoŚląskie</th><td> 0.0487</td><td>-0.01320</td></tr>\n",
              "\t<tr><th scope=row>wojewodztwoŚwiętokrzyskie</th><td> 0.0342</td><td>-0.05678</td></tr>\n",
              "\t<tr><th scope=row>wojewodztwoWarmińsko-Mazurskie</th><td> 0.1074</td><td> 0.03593</td></tr>\n",
              "\t<tr><th scope=row>wojewodztwoWielkopolskie</th><td>-0.0552</td><td>-0.09424</td></tr>\n",
              "\t<tr><th scope=row>wojewodztwoZachodniopomorskie</th><td>-0.1004</td><td>-0.16052</td></tr>\n",
              "</tbody>\n",
              "</table>\n"
            ]
          },
          "metadata": {
            "tags": []
          }
        }
      ]
    }
  ]
}