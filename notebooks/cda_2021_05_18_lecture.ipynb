{
  "nbformat": 4,
  "nbformat_minor": 0,
  "metadata": {
    "colab": {
      "name": "cda_2021_05_18_lecture.ipynb",
      "provenance": [],
      "collapsed_sections": [],
      "authorship_tag": "ABX9TyNF/JOVBop6mr6W6jgubH0W",
      "include_colab_link": true
    },
    "kernelspec": {
      "name": "ir",
      "display_name": "R"
    },
    "language_info": {
      "name": "R"
    }
  },
  "cells": [
    {
      "cell_type": "markdown",
      "metadata": {
        "id": "view-in-github",
        "colab_type": "text"
      },
      "source": [
        "<a href=\"https://colab.research.google.com/github/DepartmentOfStatisticsPUE/cda-2021/blob/main/notebooks/cda_2021_05_18_lecture.ipynb\" target=\"_parent\"><img src=\"https://colab.research.google.com/assets/colab-badge.svg\" alt=\"Open In Colab\"/></a>"
      ]
    },
    {
      "cell_type": "markdown",
      "metadata": {
        "id": "LZfIayDdS3zE"
      },
      "source": [
        "Install two packages for the lecture"
      ]
    },
    {
      "cell_type": "code",
      "metadata": {
        "id": "UXuttkmFS76Z"
      },
      "source": [
        "install.packages(\"AER\") "
      ],
      "execution_count": null,
      "outputs": []
    },
    {
      "cell_type": "code",
      "metadata": {
        "colab": {
          "base_uri": "https://localhost:8080/"
        },
        "id": "knpka_FJTXyG",
        "outputId": "61c53faf-4bdf-4dc3-fc7b-807e35c06696"
      },
      "source": [
        "install.packages(\"vcd\")"
      ],
      "execution_count": 3,
      "outputs": [
        {
          "output_type": "stream",
          "text": [
            "Installing package into ‘/usr/local/lib/R/site-library’\n",
            "(as ‘lib’ is unspecified)\n",
            "\n"
          ],
          "name": "stderr"
        }
      ]
    },
    {
      "cell_type": "code",
      "metadata": {
        "colab": {
          "base_uri": "https://localhost:8080/"
        },
        "id": "mG-OkiDYSrRQ",
        "outputId": "e585da9b-5140-48bd-cc67-cb9cf978c1e3"
      },
      "source": [
        "library(haven)\n",
        "library(MASS) ## for glm.nb -- negative binomial\n",
        "library(vcd)\n",
        "#library(AER)"
      ],
      "execution_count": 4,
      "outputs": [
        {
          "output_type": "stream",
          "text": [
            "Loading required package: grid\n",
            "\n"
          ],
          "name": "stderr"
        }
      ]
    },
    {
      "cell_type": "code",
      "metadata": {
        "colab": {
          "base_uri": "https://localhost:8080/",
          "height": 275
        },
        "id": "ipsSTACfUu2U",
        "outputId": "04bd491f-4290-4bbc-d924-91c828589b4c"
      },
      "source": [
        "df <- read_sas(\"baza2005.sas7bdat\")\n",
        "head(df)"
      ],
      "execution_count": 6,
      "outputs": [
        {
          "output_type": "display_data",
          "data": {
            "text/plain": [
              "  ROK  NRG       MN   KLM WOJ LOS DOCH    LOS_LT14 LOS_GE14 TG DOCH_OS  \n",
              "1 2005 100010111 1486 1   02  3   2974.95 0        3        0   991.6500\n",
              "2 2005 100010121 1444 1   02  2   1700.55 0        2        0   850.2750\n",
              "3 2005 100010211 1444 1   02  2    821.56 0        2        0   410.7800\n",
              "4 2005 100010221 2603 1   02  1   1369.94 0        1        1  1369.9400\n",
              "5 2005 100010222 1453 1   02  4   9801.88 2        2        0  2450.4700\n",
              "6 2005 100010311 1453 1   02  4   2837.81 0        4        0   709.4525\n",
              "  DOCH_EQ  \n",
              "1 1487.4750\n",
              "2 1133.7000\n",
              "3  547.7067\n",
              "4 1369.9400\n",
              "5 4667.5619\n",
              "6 1135.1240"
            ],
            "text/latex": "A tibble: 6 × 12\n\\begin{tabular}{llllllllllll}\n ROK & NRG & MN & KLM & WOJ & LOS & DOCH & LOS\\_LT14 & LOS\\_GE14 & TG & DOCH\\_OS & DOCH\\_EQ\\\\\n <chr> & <chr> & <dbl> & <dbl> & <chr> & <dbl> & <dbl> & <dbl> & <dbl> & <dbl> & <dbl> & <dbl>\\\\\n\\hline\n\t 2005 & 100010111 & 1486 & 1 & 02 & 3 & 2974.95 & 0 & 3 & 0 &  991.6500 & 1487.4750\\\\\n\t 2005 & 100010121 & 1444 & 1 & 02 & 2 & 1700.55 & 0 & 2 & 0 &  850.2750 & 1133.7000\\\\\n\t 2005 & 100010211 & 1444 & 1 & 02 & 2 &  821.56 & 0 & 2 & 0 &  410.7800 &  547.7067\\\\\n\t 2005 & 100010221 & 2603 & 1 & 02 & 1 & 1369.94 & 0 & 1 & 1 & 1369.9400 & 1369.9400\\\\\n\t 2005 & 100010222 & 1453 & 1 & 02 & 4 & 9801.88 & 2 & 2 & 0 & 2450.4700 & 4667.5619\\\\\n\t 2005 & 100010311 & 1453 & 1 & 02 & 4 & 2837.81 & 0 & 4 & 0 &  709.4525 & 1135.1240\\\\\n\\end{tabular}\n",
            "text/markdown": "\nA tibble: 6 × 12\n\n| ROK &lt;chr&gt; | NRG &lt;chr&gt; | MN &lt;dbl&gt; | KLM &lt;dbl&gt; | WOJ &lt;chr&gt; | LOS &lt;dbl&gt; | DOCH &lt;dbl&gt; | LOS_LT14 &lt;dbl&gt; | LOS_GE14 &lt;dbl&gt; | TG &lt;dbl&gt; | DOCH_OS &lt;dbl&gt; | DOCH_EQ &lt;dbl&gt; |\n|---|---|---|---|---|---|---|---|---|---|---|---|\n| 2005 | 100010111 | 1486 | 1 | 02 | 3 | 2974.95 | 0 | 3 | 0 |  991.6500 | 1487.4750 |\n| 2005 | 100010121 | 1444 | 1 | 02 | 2 | 1700.55 | 0 | 2 | 0 |  850.2750 | 1133.7000 |\n| 2005 | 100010211 | 1444 | 1 | 02 | 2 |  821.56 | 0 | 2 | 0 |  410.7800 |  547.7067 |\n| 2005 | 100010221 | 2603 | 1 | 02 | 1 | 1369.94 | 0 | 1 | 1 | 1369.9400 | 1369.9400 |\n| 2005 | 100010222 | 1453 | 1 | 02 | 4 | 9801.88 | 2 | 2 | 0 | 2450.4700 | 4667.5619 |\n| 2005 | 100010311 | 1453 | 1 | 02 | 4 | 2837.81 | 0 | 4 | 0 |  709.4525 | 1135.1240 |\n\n",
            "text/html": [
              "<table class=\"dataframe\">\n",
              "<caption>A tibble: 6 × 12</caption>\n",
              "<thead>\n",
              "\t<tr><th scope=col>ROK</th><th scope=col>NRG</th><th scope=col>MN</th><th scope=col>KLM</th><th scope=col>WOJ</th><th scope=col>LOS</th><th scope=col>DOCH</th><th scope=col>LOS_LT14</th><th scope=col>LOS_GE14</th><th scope=col>TG</th><th scope=col>DOCH_OS</th><th scope=col>DOCH_EQ</th></tr>\n",
              "\t<tr><th scope=col>&lt;chr&gt;</th><th scope=col>&lt;chr&gt;</th><th scope=col>&lt;dbl&gt;</th><th scope=col>&lt;dbl&gt;</th><th scope=col>&lt;chr&gt;</th><th scope=col>&lt;dbl&gt;</th><th scope=col>&lt;dbl&gt;</th><th scope=col>&lt;dbl&gt;</th><th scope=col>&lt;dbl&gt;</th><th scope=col>&lt;dbl&gt;</th><th scope=col>&lt;dbl&gt;</th><th scope=col>&lt;dbl&gt;</th></tr>\n",
              "</thead>\n",
              "<tbody>\n",
              "\t<tr><td>2005</td><td>100010111</td><td>1486</td><td>1</td><td>02</td><td>3</td><td>2974.95</td><td>0</td><td>3</td><td>0</td><td> 991.6500</td><td>1487.4750</td></tr>\n",
              "\t<tr><td>2005</td><td>100010121</td><td>1444</td><td>1</td><td>02</td><td>2</td><td>1700.55</td><td>0</td><td>2</td><td>0</td><td> 850.2750</td><td>1133.7000</td></tr>\n",
              "\t<tr><td>2005</td><td>100010211</td><td>1444</td><td>1</td><td>02</td><td>2</td><td> 821.56</td><td>0</td><td>2</td><td>0</td><td> 410.7800</td><td> 547.7067</td></tr>\n",
              "\t<tr><td>2005</td><td>100010221</td><td>2603</td><td>1</td><td>02</td><td>1</td><td>1369.94</td><td>0</td><td>1</td><td>1</td><td>1369.9400</td><td>1369.9400</td></tr>\n",
              "\t<tr><td>2005</td><td>100010222</td><td>1453</td><td>1</td><td>02</td><td>4</td><td>9801.88</td><td>2</td><td>2</td><td>0</td><td>2450.4700</td><td>4667.5619</td></tr>\n",
              "\t<tr><td>2005</td><td>100010311</td><td>1453</td><td>1</td><td>02</td><td>4</td><td>2837.81</td><td>0</td><td>4</td><td>0</td><td> 709.4525</td><td>1135.1240</td></tr>\n",
              "</tbody>\n",
              "</table>\n"
            ]
          },
          "metadata": {
            "tags": []
          }
        }
      ]
    },
    {
      "cell_type": "markdown",
      "metadata": {
        "id": "Rj0o08S8WoSZ"
      },
      "source": [
        "Visualize the data -- variable LOS_LT14"
      ]
    },
    {
      "cell_type": "code",
      "metadata": {
        "colab": {
          "base_uri": "https://localhost:8080/",
          "height": 437
        },
        "id": "aV7sjULHWtFh",
        "outputId": "2ae5ce4e-0c0b-4890-e399-64a6a28a21c4"
      },
      "source": [
        "barplot(table(df$LOS_LT14))"
      ],
      "execution_count": 7,
      "outputs": [
        {
          "output_type": "display_data",
          "data": {
            "image/png": "[encoded data removed]",
            "text/plain": [
              "plot without title"
            ]
          },
          "metadata": {
            "tags": [],
            "image/png": {
              "width": 420,
              "height": 420
            }
          }
        }
      ]
    },
    {
      "cell_type": "markdown",
      "metadata": {
        "id": "RLJAyjCEXKLU"
      },
      "source": [
        "Main assumption regarding Poisson distribution is that E(X) = Var(X). So, we may verify that prior modelling procedure."
      ]
    },
    {
      "cell_type": "code",
      "metadata": {
        "colab": {
          "base_uri": "https://localhost:8080/",
          "height": 52
        },
        "id": "MuEXKc1PXSCH",
        "outputId": "762bd9b4-a357-4e72-e974-c49110c8d46e"
      },
      "source": [
        "mean(df$LOS_LT14) ## expected value (mean)\n",
        "var(df$LOS_LT14) ## variance "
      ],
      "execution_count": 8,
      "outputs": [
        {
          "output_type": "display_data",
          "data": {
            "text/plain": [
              "[1] 0.5384882"
            ],
            "text/latex": "0.538488240909485",
            "text/markdown": "0.538488240909485",
            "text/html": [
              "0.538488240909485"
            ]
          },
          "metadata": {
            "tags": []
          }
        },
        {
          "output_type": "display_data",
          "data": {
            "text/plain": [
              "[1] 0.8173178"
            ],
            "text/latex": "0.817317790889549",
            "text/markdown": "0.817317790889549",
            "text/html": [
              "0.817317790889549"
            ]
          },
          "metadata": {
            "tags": []
          }
        }
      ]
    },
    {
      "cell_type": "markdown",
      "metadata": {
        "id": "8WRUWpFhXoPk"
      },
      "source": [
        "+ If Var(X) > E(X) - we observe OVERDISPERSION -- standard errors in the GLM will be underestimated (will be too low)\n",
        "+ If Var(X) < E(X) - we observe UNDERDISPERSION -- standard errors in the GLM will be overestimated (will be too high).\n",
        "\n",
        "What is the reason for overdispersion? Not meeting assumptions, and why? \n",
        "\n",
        "+ we may observe the same units several times,\n",
        "+ we may not have whole information (so, have omitted variable problem),\n",
        "+ our data is clustered i.e. records in our data are correlated.\n",
        "\n",
        "So, what are the ways to tackle this problem:\n",
        "\n",
        "1. start with GLM with Poisson distribution\n",
        "2. calculate GLM with Quasi-Poisson (Negative-Binomial type 1) distribution\n",
        "3. calculate GLM with Negative-Binomial (type 2) distribution\n",
        "4. compare to choose the best model (based on some criteria)"
      ]
    },
    {
      "cell_type": "code",
      "metadata": {
        "colab": {
          "base_uri": "https://localhost:8080/",
          "height": 760
        },
        "id": "k1r7eK6GZVGq",
        "outputId": "fc564584-304f-42fe-a32e-e3a29ad7aa7d"
      },
      "source": [
        "model1 <- glm(formula = LOS_LT14 ~ factor(KLM) + I(DOCH/1000) + factor(WOJ), data = df, family = poisson())\n",
        "summary(model1)"
      ],
      "execution_count": 11,
      "outputs": [
        {
          "output_type": "display_data",
          "data": {
            "text/plain": [
              "\n",
              "Call:\n",
              "glm(formula = LOS_LT14 ~ factor(KLM) + I(DOCH/1000) + factor(WOJ), \n",
              "    family = poisson(), data = df)\n",
              "\n",
              "Deviance Residuals: \n",
              "    Min       1Q   Median       3Q      Max  \n",
              "-6.9873  -1.0487  -0.8971   0.5406   5.6268  \n",
              "\n",
              "Coefficients:\n",
              "               Estimate Std. Error z value Pr(>|z|)    \n",
              "(Intercept)   -1.289887   0.037038 -34.826  < 2e-16 ***\n",
              "factor(KLM)2   0.167051   0.041082   4.066 4.78e-05 ***\n",
              "factor(KLM)3   0.381079   0.042507   8.965  < 2e-16 ***\n",
              "factor(KLM)4   0.367482   0.033046  11.120  < 2e-16 ***\n",
              "factor(KLM)5   0.504183   0.035478  14.211  < 2e-16 ***\n",
              "factor(KLM)6   0.789650   0.029568  26.706  < 2e-16 ***\n",
              "I(DOCH/1000)   0.046142   0.001732  26.642  < 2e-16 ***\n",
              "factor(WOJ)04  0.132122   0.041894   3.154  0.00161 ** \n",
              "factor(WOJ)06  0.015629   0.040571   0.385  0.70007    \n",
              "factor(WOJ)08 -0.097482   0.055221  -1.765  0.07751 .  \n",
              "factor(WOJ)10  0.003567   0.039565   0.090  0.92816    \n",
              "factor(WOJ)12  0.115940   0.036849   3.146  0.00165 ** \n",
              "factor(WOJ)14  0.033038   0.034323   0.963  0.33577    \n",
              "factor(WOJ)16 -0.171202   0.053815  -3.181  0.00147 ** \n",
              "factor(WOJ)18  0.192438   0.039486   4.874 1.10e-06 ***\n",
              "factor(WOJ)20 -0.057694   0.051070  -1.130  0.25861    \n",
              "factor(WOJ)22  0.161011   0.041168   3.911 9.19e-05 ***\n",
              "factor(WOJ)24 -0.028602   0.036085  -0.793  0.42799    \n",
              "factor(WOJ)26  0.091952   0.047103   1.952  0.05092 .  \n",
              "factor(WOJ)28  0.026556   0.046091   0.576  0.56450    \n",
              "factor(WOJ)30  0.140042   0.036203   3.868  0.00011 ***\n",
              "factor(WOJ)32  0.022876   0.045217   0.506  0.61291    \n",
              "---\n",
              "Signif. codes:  0 ‘***’ 0.001 ‘**’ 0.01 ‘*’ 0.05 ‘.’ 0.1 ‘ ’ 1\n",
              "\n",
              "(Dispersion parameter for poisson family taken to be 1)\n",
              "\n",
              "    Null deviance: 45093  on 34568  degrees of freedom\n",
              "Residual deviance: 43213  on 34547  degrees of freedom\n",
              "AIC: 70206\n",
              "\n",
              "Number of Fisher Scoring iterations: 6\n"
            ]
          },
          "metadata": {
            "tags": []
          }
        }
      ]
    },
    {
      "cell_type": "markdown",
      "metadata": {
        "id": "P2_da5KVa7ob"
      },
      "source": [
        "Because, we now that variace is higher than mean, standard errors presented above are underestimated / too optimistic / too low."
      ]
    },
    {
      "cell_type": "code",
      "metadata": {
        "colab": {
          "base_uri": "https://localhost:8080/",
          "height": 760
        },
        "id": "3SKXXBvqbNC2",
        "outputId": "d37e7d14-8a36-4b45-ef88-705ea835bc76"
      },
      "source": [
        "model2 <- glm(formula = LOS_LT14 ~ factor(KLM) + I(DOCH/1000) + factor(WOJ), data = df, family = quasipoisson())\n",
        "summary(model2)"
      ],
      "execution_count": 12,
      "outputs": [
        {
          "output_type": "display_data",
          "data": {
            "text/plain": [
              "\n",
              "Call:\n",
              "glm(formula = LOS_LT14 ~ factor(KLM) + I(DOCH/1000) + factor(WOJ), \n",
              "    family = quasipoisson(), data = df)\n",
              "\n",
              "Deviance Residuals: \n",
              "    Min       1Q   Median       3Q      Max  \n",
              "-6.9873  -1.0487  -0.8971   0.5406   5.6268  \n",
              "\n",
              "Coefficients:\n",
              "               Estimate Std. Error t value Pr(>|t|)    \n",
              "(Intercept)   -1.289887   0.044469 -29.006  < 2e-16 ***\n",
              "factor(KLM)2   0.167051   0.049325   3.387 0.000708 ***\n",
              "factor(KLM)3   0.381079   0.051036   7.467 8.41e-14 ***\n",
              "factor(KLM)4   0.367482   0.039677   9.262  < 2e-16 ***\n",
              "factor(KLM)5   0.504183   0.042596  11.836  < 2e-16 ***\n",
              "factor(KLM)6   0.789650   0.035501  22.243  < 2e-16 ***\n",
              "I(DOCH/1000)   0.046142   0.002079  22.189  < 2e-16 ***\n",
              "factor(WOJ)04  0.132122   0.050300   2.627 0.008626 ** \n",
              "factor(WOJ)06  0.015629   0.048711   0.321 0.748325    \n",
              "factor(WOJ)08 -0.097482   0.066301  -1.470 0.141493    \n",
              "factor(WOJ)10  0.003567   0.047503   0.075 0.940142    \n",
              "factor(WOJ)12  0.115940   0.044242   2.621 0.008782 ** \n",
              "factor(WOJ)14  0.033038   0.041210   0.802 0.422736    \n",
              "factor(WOJ)16 -0.171202   0.064613  -2.650 0.008062 ** \n",
              "factor(WOJ)18  0.192438   0.047409   4.059 4.94e-05 ***\n",
              "factor(WOJ)20 -0.057694   0.061318  -0.941 0.346764    \n",
              "factor(WOJ)22  0.161011   0.049428   3.257 0.001125 ** \n",
              "factor(WOJ)24 -0.028602   0.043325  -0.660 0.509149    \n",
              "factor(WOJ)26  0.091952   0.056554   1.626 0.103975    \n",
              "factor(WOJ)28  0.026556   0.055339   0.480 0.631314    \n",
              "factor(WOJ)30  0.140042   0.043467   3.222 0.001275 ** \n",
              "factor(WOJ)32  0.022876   0.054289   0.421 0.673480    \n",
              "---\n",
              "Signif. codes:  0 ‘***’ 0.001 ‘**’ 0.01 ‘*’ 0.05 ‘.’ 0.1 ‘ ’ 1\n",
              "\n",
              "(Dispersion parameter for quasipoisson family taken to be 1.44155)\n",
              "\n",
              "    Null deviance: 45093  on 34568  degrees of freedom\n",
              "Residual deviance: 43213  on 34547  degrees of freedom\n",
              "AIC: NA\n",
              "\n",
              "Number of Fisher Scoring iterations: 6\n"
            ]
          },
          "metadata": {
            "tags": []
          }
        }
      ]
    },
    {
      "cell_type": "markdown",
      "metadata": {
        "id": "6BQpsID6cGUE"
      },
      "source": [
        "$$\n",
        "\\begin{cases}\n",
        "Var(y) = \\mu + \\alpha \\cdot \\mu & \\text{quasi-poisson (NB1)} \\\\\n",
        " Var(y) = \\mu + \\alpha \\cdot \\mu^2 & \\text{negative-binomial}\n",
        "\\end{cases}\n",
        "$$"
      ]
    },
    {
      "cell_type": "markdown",
      "metadata": {
        "id": "Qzp4wRMHc-Aq"
      },
      "source": [
        "Finally, let's fit negative-binomial type 2 distribution"
      ]
    },
    {
      "cell_type": "code",
      "metadata": {
        "colab": {
          "base_uri": "https://localhost:8080/",
          "height": 864
        },
        "id": "2KAQye-rdCIx",
        "outputId": "852a77ee-0934-4978-84d0-416208f5fa4b"
      },
      "source": [
        "model3 <- glm.nb(formula = LOS_LT14 ~ factor(KLM) + I(DOCH/1000) + factor(WOJ), data = df)\n",
        "summary(model3)"
      ],
      "execution_count": 13,
      "outputs": [
        {
          "output_type": "display_data",
          "data": {
            "text/plain": [
              "\n",
              "Call:\n",
              "glm.nb(formula = LOS_LT14 ~ factor(KLM) + I(DOCH/1000) + factor(WOJ), \n",
              "    data = df, init.theta = 1.036592139, link = log)\n",
              "\n",
              "Deviance Residuals: \n",
              "    Min       1Q   Median       3Q      Max  \n",
              "-3.6311  -0.9415  -0.8087   0.3978   3.8667  \n",
              "\n",
              "Coefficients:\n",
              "               Estimate Std. Error z value Pr(>|z|)    \n",
              "(Intercept)   -1.456437   0.045458 -32.039  < 2e-16 ***\n",
              "factor(KLM)2   0.193134   0.048639   3.971 7.16e-05 ***\n",
              "factor(KLM)3   0.409644   0.050752   8.072 6.94e-16 ***\n",
              "factor(KLM)4   0.403058   0.039147  10.296  < 2e-16 ***\n",
              "factor(KLM)5   0.549699   0.042533  12.924  < 2e-16 ***\n",
              "factor(KLM)6   0.835301   0.035279  23.677  < 2e-16 ***\n",
              "I(DOCH/1000)   0.103547   0.004053  25.550  < 2e-16 ***\n",
              "factor(WOJ)04  0.133128   0.052346   2.543 0.010983 *  \n",
              "factor(WOJ)06  0.008977   0.050501   0.178 0.858909    \n",
              "factor(WOJ)08 -0.106266   0.067645  -1.571 0.116199    \n",
              "factor(WOJ)10 -0.001886   0.048593  -0.039 0.969038    \n",
              "factor(WOJ)12  0.110936   0.045903   2.417 0.015660 *  \n",
              "factor(WOJ)14  0.002060   0.042319   0.049 0.961183    \n",
              "factor(WOJ)16 -0.193095   0.065699  -2.939 0.003292 ** \n",
              "factor(WOJ)18  0.183445   0.050159   3.657 0.000255 ***\n",
              "factor(WOJ)20 -0.076627   0.063094  -1.214 0.224561    \n",
              "factor(WOJ)22  0.138316   0.051727   2.674 0.007496 ** \n",
              "factor(WOJ)24 -0.022574   0.044160  -0.511 0.609210    \n",
              "factor(WOJ)26  0.090159   0.059292   1.521 0.128364    \n",
              "factor(WOJ)28  0.059449   0.057199   1.039 0.298647    \n",
              "factor(WOJ)30  0.121049   0.045196   2.678 0.007400 ** \n",
              "factor(WOJ)32  0.015371   0.055867   0.275 0.783210    \n",
              "---\n",
              "Signif. codes:  0 ‘***’ 0.001 ‘**’ 0.01 ‘*’ 0.05 ‘.’ 0.1 ‘ ’ 1\n",
              "\n",
              "(Dispersion parameter for Negative Binomial(1.0366) family taken to be 1)\n",
              "\n",
              "    Null deviance: 30540  on 34568  degrees of freedom\n",
              "Residual deviance: 29151  on 34547  degrees of freedom\n",
              "AIC: 67540\n",
              "\n",
              "Number of Fisher Scoring iterations: 1\n",
              "\n",
              "\n",
              "              Theta:  1.0366 \n",
              "          Std. Err.:  0.0305 \n",
              "\n",
              " 2 x log-likelihood:  -67493.7580 "
            ]
          },
          "metadata": {
            "tags": []
          }
        }
      ]
    },
    {
      "cell_type": "markdown",
      "metadata": {
        "id": "OCga8JINd9Mj"
      },
      "source": [
        "In order to select appropriate model we may use information criteria such as AIC or BIC."
      ]
    },
    {
      "cell_type": "code",
      "metadata": {
        "colab": {
          "base_uri": "https://localhost:8080/",
          "height": 155
        },
        "id": "XCJNXjrzeMww",
        "outputId": "aeb61886-f10f-4170-ec57-caa7439392e3"
      },
      "source": [
        "BIC(model1, model3) ## we shoud select model with the lowest value of BIC"
      ],
      "execution_count": 14,
      "outputs": [
        {
          "output_type": "display_data",
          "data": {
            "text/plain": [
              "       df BIC     \n",
              "model1 22 70391.80\n",
              "model3 23 67734.12"
            ],
            "text/latex": "A data.frame: 2 × 2\n\\begin{tabular}{r|ll}\n  & df & BIC\\\\\n  & <dbl> & <dbl>\\\\\n\\hline\n\tmodel1 & 22 & 70391.80\\\\\n\tmodel3 & 23 & 67734.12\\\\\n\\end{tabular}\n",
            "text/markdown": "\nA data.frame: 2 × 2\n\n| <!--/--> | df &lt;dbl&gt; | BIC &lt;dbl&gt; |\n|---|---|---|\n| model1 | 22 | 70391.80 |\n| model3 | 23 | 67734.12 |\n\n",
            "text/html": [
              "<table class=\"dataframe\">\n",
              "<caption>A data.frame: 2 × 2</caption>\n",
              "<thead>\n",
              "\t<tr><th></th><th scope=col>df</th><th scope=col>BIC</th></tr>\n",
              "\t<tr><th></th><th scope=col>&lt;dbl&gt;</th><th scope=col>&lt;dbl&gt;</th></tr>\n",
              "</thead>\n",
              "<tbody>\n",
              "\t<tr><th scope=row>model1</th><td>22</td><td>70391.80</td></tr>\n",
              "\t<tr><th scope=row>model3</th><td>23</td><td>67734.12</td></tr>\n",
              "</tbody>\n",
              "</table>\n"
            ]
          },
          "metadata": {
            "tags": []
          }
        }
      ]
    },
    {
      "cell_type": "markdown",
      "metadata": {
        "id": "Twg5Tlrieypm"
      },
      "source": [
        "So, based on BIC we may say that NB type 2 regression fits the data better than Poission distribution.\n",
        "\n",
        "\n",
        "To sum up, from the methodological point of view, our approach is incorrect because we have to processes:\n",
        "\n",
        "1. decision to have children\n",
        "2. decision to have next child\n",
        "\n",
        "How we may approach this problem from econometric point of view? We may use the following models:\n",
        "\n",
        "- zero-inflated poisson/negative binomial model\n",
        "- hurdle model "
      ]
    }
  ]
}