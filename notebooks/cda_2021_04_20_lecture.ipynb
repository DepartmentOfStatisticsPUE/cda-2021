{
  "nbformat": 4,
  "nbformat_minor": 0,
  "metadata": {
    "colab": {
      "name": "cda_2021_04_20_lecture.ipynb",
      "provenance": [],
      "collapsed_sections": [],
      "authorship_tag": "ABX9TyOgyzzCGebT4gvne6Q2hT1s",
      "include_colab_link": true
    },
    "kernelspec": {
      "name": "ir",
      "display_name": "R"
    },
    "language_info": {
      "name": "R"
    }
  },
  "cells": [
    {
      "cell_type": "markdown",
      "metadata": {
        "id": "view-in-github",
        "colab_type": "text"
      },
      "source": [
        "<a href=\"https://colab.research.google.com/github/DepartmentOfStatisticsPUE/cda-2021/blob/main/notebooks/cda_2021_04_20_lecture.ipynb\" target=\"_parent\"><img src=\"https://colab.research.google.com/assets/colab-badge.svg\" alt=\"Open In Colab\"/></a>"
      ]
    },
    {
      "cell_type": "markdown",
      "metadata": {
        "id": "n6T2lplRF2B0"
      },
      "source": [
        "We will start with coding categorical data in regression."
      ]
    },
    {
      "cell_type": "code",
      "metadata": {
        "colab": {
          "base_uri": "https://localhost:8080/",
          "height": 275
        },
        "id": "M5b6s4kPFoGm",
        "outputId": "1d0c7e62-56e1-4e75-e6c1-0c6d033fd5ad"
      },
      "source": [
        "head(mtcars)"
      ],
      "execution_count": 1,
      "outputs": [
        {
          "output_type": "display_data",
          "data": {
            "text/plain": [
              "                  mpg  cyl disp hp  drat wt    qsec  vs am gear carb\n",
              "Mazda RX4         21.0 6   160  110 3.90 2.620 16.46 0  1  4    4   \n",
              "Mazda RX4 Wag     21.0 6   160  110 3.90 2.875 17.02 0  1  4    4   \n",
              "Datsun 710        22.8 4   108   93 3.85 2.320 18.61 1  1  4    1   \n",
              "Hornet 4 Drive    21.4 6   258  110 3.08 3.215 19.44 1  0  3    1   \n",
              "Hornet Sportabout 18.7 8   360  175 3.15 3.440 17.02 0  0  3    2   \n",
              "Valiant           18.1 6   225  105 2.76 3.460 20.22 1  0  3    1   "
            ],
            "text/latex": "A data.frame: 6 × 11\n\\begin{tabular}{r|lllllllllll}\n  & mpg & cyl & disp & hp & drat & wt & qsec & vs & am & gear & carb\\\\\n  & <dbl> & <dbl> & <dbl> & <dbl> & <dbl> & <dbl> & <dbl> & <dbl> & <dbl> & <dbl> & <dbl>\\\\\n\\hline\n\tMazda RX4 & 21.0 & 6 & 160 & 110 & 3.90 & 2.620 & 16.46 & 0 & 1 & 4 & 4\\\\\n\tMazda RX4 Wag & 21.0 & 6 & 160 & 110 & 3.90 & 2.875 & 17.02 & 0 & 1 & 4 & 4\\\\\n\tDatsun 710 & 22.8 & 4 & 108 &  93 & 3.85 & 2.320 & 18.61 & 1 & 1 & 4 & 1\\\\\n\tHornet 4 Drive & 21.4 & 6 & 258 & 110 & 3.08 & 3.215 & 19.44 & 1 & 0 & 3 & 1\\\\\n\tHornet Sportabout & 18.7 & 8 & 360 & 175 & 3.15 & 3.440 & 17.02 & 0 & 0 & 3 & 2\\\\\n\tValiant & 18.1 & 6 & 225 & 105 & 2.76 & 3.460 & 20.22 & 1 & 0 & 3 & 1\\\\\n\\end{tabular}\n",
            "text/markdown": "\nA data.frame: 6 × 11\n\n| <!--/--> | mpg &lt;dbl&gt; | cyl &lt;dbl&gt; | disp &lt;dbl&gt; | hp &lt;dbl&gt; | drat &lt;dbl&gt; | wt &lt;dbl&gt; | qsec &lt;dbl&gt; | vs &lt;dbl&gt; | am &lt;dbl&gt; | gear &lt;dbl&gt; | carb &lt;dbl&gt; |\n|---|---|---|---|---|---|---|---|---|---|---|---|\n| Mazda RX4 | 21.0 | 6 | 160 | 110 | 3.90 | 2.620 | 16.46 | 0 | 1 | 4 | 4 |\n| Mazda RX4 Wag | 21.0 | 6 | 160 | 110 | 3.90 | 2.875 | 17.02 | 0 | 1 | 4 | 4 |\n| Datsun 710 | 22.8 | 4 | 108 |  93 | 3.85 | 2.320 | 18.61 | 1 | 1 | 4 | 1 |\n| Hornet 4 Drive | 21.4 | 6 | 258 | 110 | 3.08 | 3.215 | 19.44 | 1 | 0 | 3 | 1 |\n| Hornet Sportabout | 18.7 | 8 | 360 | 175 | 3.15 | 3.440 | 17.02 | 0 | 0 | 3 | 2 |\n| Valiant | 18.1 | 6 | 225 | 105 | 2.76 | 3.460 | 20.22 | 1 | 0 | 3 | 1 |\n\n",
            "text/html": [
              "<table class=\"dataframe\">\n",
              "<caption>A data.frame: 6 × 11</caption>\n",
              "<thead>\n",
              "\t<tr><th></th><th scope=col>mpg</th><th scope=col>cyl</th><th scope=col>disp</th><th scope=col>hp</th><th scope=col>drat</th><th scope=col>wt</th><th scope=col>qsec</th><th scope=col>vs</th><th scope=col>am</th><th scope=col>gear</th><th scope=col>carb</th></tr>\n",
              "\t<tr><th></th><th scope=col>&lt;dbl&gt;</th><th scope=col>&lt;dbl&gt;</th><th scope=col>&lt;dbl&gt;</th><th scope=col>&lt;dbl&gt;</th><th scope=col>&lt;dbl&gt;</th><th scope=col>&lt;dbl&gt;</th><th scope=col>&lt;dbl&gt;</th><th scope=col>&lt;dbl&gt;</th><th scope=col>&lt;dbl&gt;</th><th scope=col>&lt;dbl&gt;</th><th scope=col>&lt;dbl&gt;</th></tr>\n",
              "</thead>\n",
              "<tbody>\n",
              "\t<tr><th scope=row>Mazda RX4</th><td>21.0</td><td>6</td><td>160</td><td>110</td><td>3.90</td><td>2.620</td><td>16.46</td><td>0</td><td>1</td><td>4</td><td>4</td></tr>\n",
              "\t<tr><th scope=row>Mazda RX4 Wag</th><td>21.0</td><td>6</td><td>160</td><td>110</td><td>3.90</td><td>2.875</td><td>17.02</td><td>0</td><td>1</td><td>4</td><td>4</td></tr>\n",
              "\t<tr><th scope=row>Datsun 710</th><td>22.8</td><td>4</td><td>108</td><td> 93</td><td>3.85</td><td>2.320</td><td>18.61</td><td>1</td><td>1</td><td>4</td><td>1</td></tr>\n",
              "\t<tr><th scope=row>Hornet 4 Drive</th><td>21.4</td><td>6</td><td>258</td><td>110</td><td>3.08</td><td>3.215</td><td>19.44</td><td>1</td><td>0</td><td>3</td><td>1</td></tr>\n",
              "\t<tr><th scope=row>Hornet Sportabout</th><td>18.7</td><td>8</td><td>360</td><td>175</td><td>3.15</td><td>3.440</td><td>17.02</td><td>0</td><td>0</td><td>3</td><td>2</td></tr>\n",
              "\t<tr><th scope=row>Valiant</th><td>18.1</td><td>6</td><td>225</td><td>105</td><td>2.76</td><td>3.460</td><td>20.22</td><td>1</td><td>0</td><td>3</td><td>1</td></tr>\n",
              "</tbody>\n",
              "</table>\n"
            ]
          },
          "metadata": {
            "tags": []
          }
        }
      ]
    },
    {
      "cell_type": "markdown",
      "metadata": {
        "id": "L5AQHKx-GHI6"
      },
      "source": [
        "Based on this dataset we would like to build the following model:\n",
        "\n",
        "$$\n",
        "mpg \\sim cyl\n",
        "$$"
      ]
    },
    {
      "cell_type": "code",
      "metadata": {
        "colab": {
          "base_uri": "https://localhost:8080/",
          "height": 328
        },
        "id": "p59dEhu7GOiC",
        "outputId": "69c3a872-13d6-4f86-c0d1-11b01809d58c"
      },
      "source": [
        "model1 <- lm(formula = mpg ~ cyl, data = mtcars)\n",
        "summary(model1)"
      ],
      "execution_count": 2,
      "outputs": [
        {
          "output_type": "display_data",
          "data": {
            "text/plain": [
              "\n",
              "Call:\n",
              "lm(formula = mpg ~ cyl, data = mtcars)\n",
              "\n",
              "Residuals:\n",
              "    Min      1Q  Median      3Q     Max \n",
              "-4.9814 -2.1185  0.2217  1.0717  7.5186 \n",
              "\n",
              "Coefficients:\n",
              "            Estimate Std. Error t value Pr(>|t|)    \n",
              "(Intercept)  37.8846     2.0738   18.27  < 2e-16 ***\n",
              "cyl          -2.8758     0.3224   -8.92 6.11e-10 ***\n",
              "---\n",
              "Signif. codes:  0 ‘***’ 0.001 ‘**’ 0.01 ‘*’ 0.05 ‘.’ 0.1 ‘ ’ 1\n",
              "\n",
              "Residual standard error: 3.206 on 30 degrees of freedom\n",
              "Multiple R-squared:  0.7262,\tAdjusted R-squared:  0.7171 \n",
              "F-statistic: 79.56 on 1 and 30 DF,  p-value: 6.113e-10\n"
            ]
          },
          "metadata": {
            "tags": []
          }
        }
      ]
    },
    {
      "cell_type": "markdown",
      "metadata": {
        "id": "KqkfLbL-G0gl"
      },
      "source": [
        "So, if we do not specify that variable `cyl` is categorial it will be treated as continuous variable. Thus, the model will have the following form\n",
        "\n",
        "$$\n",
        "mpg = 37.88 - 2.88 \\times cyl\n",
        "$$"
      ]
    },
    {
      "cell_type": "code",
      "metadata": {
        "colab": {
          "base_uri": "https://localhost:8080/",
          "height": 35
        },
        "id": "TDItagsOHJXp",
        "outputId": "6698ca9a-c27d-4489-d76e-7c9331605a8f"
      },
      "source": [
        "class(mtcars$cyl)"
      ],
      "execution_count": 3,
      "outputs": [
        {
          "output_type": "display_data",
          "data": {
            "text/plain": [
              "[1] \"numeric\""
            ],
            "text/latex": "'numeric'",
            "text/markdown": "'numeric'",
            "text/html": [
              "'numeric'"
            ]
          },
          "metadata": {
            "tags": []
          }
        }
      ]
    },
    {
      "cell_type": "code",
      "metadata": {
        "colab": {
          "base_uri": "https://localhost:8080/"
        },
        "id": "lZeYzvB9HTXk",
        "outputId": "1aa4eae2-551d-4ce1-a854-83dbe29d3b08"
      },
      "source": [
        "print(sapply(mtcars, class))"
      ],
      "execution_count": 5,
      "outputs": [
        {
          "output_type": "stream",
          "text": [
            "      mpg       cyl      disp        hp      drat        wt      qsec        vs \n",
            "\"numeric\" \"numeric\" \"numeric\" \"numeric\" \"numeric\" \"numeric\" \"numeric\" \"numeric\" \n",
            "       am      gear      carb \n",
            "\"numeric\" \"numeric\" \"numeric\" \n"
          ],
          "name": "stdout"
        }
      ]
    },
    {
      "cell_type": "markdown",
      "metadata": {
        "id": "aJn5YJB9HaO1"
      },
      "source": [
        "How we can change type of given variable? We two options:\n",
        "\n",
        "1. change the type in the dataset by using `as.factor` or `factor` function,\n",
        "2. specify this within formula (`mpg ~ as.factor(cyl)`)"
      ]
    },
    {
      "cell_type": "code",
      "metadata": {
        "colab": {
          "base_uri": "https://localhost:8080/",
          "height": 155
        },
        "id": "dJmJSecMH6XK",
        "outputId": "e372d079-7fa3-4fae-a7f8-e8b484fb201c"
      },
      "source": [
        "mtcars$cyl_f <- as.factor(mtcars$cyl)\n",
        "head(mtcars, n = 2)"
      ],
      "execution_count": 8,
      "outputs": [
        {
          "output_type": "display_data",
          "data": {
            "text/plain": [
              "              mpg cyl disp hp  drat wt    qsec  vs am gear carb cyl_f\n",
              "Mazda RX4     21  6   160  110 3.9  2.620 16.46 0  1  4    4    6    \n",
              "Mazda RX4 Wag 21  6   160  110 3.9  2.875 17.02 0  1  4    4    6    "
            ],
            "text/latex": "A data.frame: 2 × 12\n\\begin{tabular}{r|llllllllllll}\n  & mpg & cyl & disp & hp & drat & wt & qsec & vs & am & gear & carb & cyl\\_f\\\\\n  & <dbl> & <dbl> & <dbl> & <dbl> & <dbl> & <dbl> & <dbl> & <dbl> & <dbl> & <dbl> & <dbl> & <fct>\\\\\n\\hline\n\tMazda RX4 & 21 & 6 & 160 & 110 & 3.9 & 2.620 & 16.46 & 0 & 1 & 4 & 4 & 6\\\\\n\tMazda RX4 Wag & 21 & 6 & 160 & 110 & 3.9 & 2.875 & 17.02 & 0 & 1 & 4 & 4 & 6\\\\\n\\end{tabular}\n",
            "text/markdown": "\nA data.frame: 2 × 12\n\n| <!--/--> | mpg &lt;dbl&gt; | cyl &lt;dbl&gt; | disp &lt;dbl&gt; | hp &lt;dbl&gt; | drat &lt;dbl&gt; | wt &lt;dbl&gt; | qsec &lt;dbl&gt; | vs &lt;dbl&gt; | am &lt;dbl&gt; | gear &lt;dbl&gt; | carb &lt;dbl&gt; | cyl_f &lt;fct&gt; |\n|---|---|---|---|---|---|---|---|---|---|---|---|---|\n| Mazda RX4 | 21 | 6 | 160 | 110 | 3.9 | 2.620 | 16.46 | 0 | 1 | 4 | 4 | 6 |\n| Mazda RX4 Wag | 21 | 6 | 160 | 110 | 3.9 | 2.875 | 17.02 | 0 | 1 | 4 | 4 | 6 |\n\n",
            "text/html": [
              "<table class=\"dataframe\">\n",
              "<caption>A data.frame: 2 × 12</caption>\n",
              "<thead>\n",
              "\t<tr><th></th><th scope=col>mpg</th><th scope=col>cyl</th><th scope=col>disp</th><th scope=col>hp</th><th scope=col>drat</th><th scope=col>wt</th><th scope=col>qsec</th><th scope=col>vs</th><th scope=col>am</th><th scope=col>gear</th><th scope=col>carb</th><th scope=col>cyl_f</th></tr>\n",
              "\t<tr><th></th><th scope=col>&lt;dbl&gt;</th><th scope=col>&lt;dbl&gt;</th><th scope=col>&lt;dbl&gt;</th><th scope=col>&lt;dbl&gt;</th><th scope=col>&lt;dbl&gt;</th><th scope=col>&lt;dbl&gt;</th><th scope=col>&lt;dbl&gt;</th><th scope=col>&lt;dbl&gt;</th><th scope=col>&lt;dbl&gt;</th><th scope=col>&lt;dbl&gt;</th><th scope=col>&lt;dbl&gt;</th><th scope=col>&lt;fct&gt;</th></tr>\n",
              "</thead>\n",
              "<tbody>\n",
              "\t<tr><th scope=row>Mazda RX4</th><td>21</td><td>6</td><td>160</td><td>110</td><td>3.9</td><td>2.620</td><td>16.46</td><td>0</td><td>1</td><td>4</td><td>4</td><td>6</td></tr>\n",
              "\t<tr><th scope=row>Mazda RX4 Wag</th><td>21</td><td>6</td><td>160</td><td>110</td><td>3.9</td><td>2.875</td><td>17.02</td><td>0</td><td>1</td><td>4</td><td>4</td><td>6</td></tr>\n",
              "</tbody>\n",
              "</table>\n"
            ]
          },
          "metadata": {
            "tags": []
          }
        }
      ]
    },
    {
      "cell_type": "markdown",
      "metadata": {
        "id": "oUM6L9-vIQhz"
      },
      "source": [
        "Now, let's run the model once again."
      ]
    },
    {
      "cell_type": "code",
      "metadata": {
        "colab": {
          "base_uri": "https://localhost:8080/",
          "height": 345
        },
        "id": "xEPB9mOgITKq",
        "outputId": "e7a89d07-e877-4e58-a46a-97be8e379285"
      },
      "source": [
        "model2 <- lm(formula = mpg ~ cyl_f, data = mtcars)\n",
        "summary(model2)"
      ],
      "execution_count": 9,
      "outputs": [
        {
          "output_type": "display_data",
          "data": {
            "text/plain": [
              "\n",
              "Call:\n",
              "lm(formula = mpg ~ cyl_f, data = mtcars)\n",
              "\n",
              "Residuals:\n",
              "    Min      1Q  Median      3Q     Max \n",
              "-5.2636 -1.8357  0.0286  1.3893  7.2364 \n",
              "\n",
              "Coefficients:\n",
              "            Estimate Std. Error t value Pr(>|t|)    \n",
              "(Intercept)  26.6636     0.9718  27.437  < 2e-16 ***\n",
              "cyl_f6       -6.9208     1.5583  -4.441 0.000119 ***\n",
              "cyl_f8      -11.5636     1.2986  -8.905 8.57e-10 ***\n",
              "---\n",
              "Signif. codes:  0 ‘***’ 0.001 ‘**’ 0.01 ‘*’ 0.05 ‘.’ 0.1 ‘ ’ 1\n",
              "\n",
              "Residual standard error: 3.223 on 29 degrees of freedom\n",
              "Multiple R-squared:  0.7325,\tAdjusted R-squared:  0.714 \n",
              "F-statistic:  39.7 on 2 and 29 DF,  p-value: 4.979e-09\n"
            ]
          },
          "metadata": {
            "tags": []
          }
        }
      ]
    },
    {
      "cell_type": "markdown",
      "metadata": {
        "id": "VK8_pUcJIqLy"
      },
      "source": [
        "The above model may be written the following way\n",
        "\n",
        "$$\n",
        "mpg = 26.66 - 6.92 \\times (cyl == 6) - 11.56 \\times (cyl == 8)\n",
        "$$"
      ]
    },
    {
      "cell_type": "markdown",
      "metadata": {
        "id": "z8-QXZORJu6s"
      },
      "source": [
        "Now, let's change the reference level. How we can do that? We may use `relevel` function on dataset or within formula."
      ]
    },
    {
      "cell_type": "code",
      "metadata": {
        "colab": {
          "base_uri": "https://localhost:8080/",
          "height": 345
        },
        "id": "4Q5vyUKCI3io",
        "outputId": "0d07a0f1-8261-4574-cd5d-4d8d74e30638"
      },
      "source": [
        "model3 <- lm(formula = mpg ~ relevel(cyl_f, ref = \"8\"), data = mtcars)\n",
        "summary(model3)"
      ],
      "execution_count": 11,
      "outputs": [
        {
          "output_type": "display_data",
          "data": {
            "text/plain": [
              "\n",
              "Call:\n",
              "lm(formula = mpg ~ relevel(cyl_f, ref = \"8\"), data = mtcars)\n",
              "\n",
              "Residuals:\n",
              "    Min      1Q  Median      3Q     Max \n",
              "-5.2636 -1.8357  0.0286  1.3893  7.2364 \n",
              "\n",
              "Coefficients:\n",
              "                           Estimate Std. Error t value Pr(>|t|)    \n",
              "(Intercept)                 15.1000     0.8614  17.529  < 2e-16 ***\n",
              "relevel(cyl_f, ref = \"8\")4  11.5636     1.2986   8.905 8.57e-10 ***\n",
              "relevel(cyl_f, ref = \"8\")6   4.6429     1.4920   3.112  0.00415 ** \n",
              "---\n",
              "Signif. codes:  0 ‘***’ 0.001 ‘**’ 0.01 ‘*’ 0.05 ‘.’ 0.1 ‘ ’ 1\n",
              "\n",
              "Residual standard error: 3.223 on 29 degrees of freedom\n",
              "Multiple R-squared:  0.7325,\tAdjusted R-squared:  0.714 \n",
              "F-statistic:  39.7 on 2 and 29 DF,  p-value: 4.979e-09\n"
            ]
          },
          "metadata": {
            "tags": []
          }
        }
      ]
    },
    {
      "cell_type": "markdown",
      "metadata": {
        "id": "GLinZylWKIDe"
      },
      "source": [
        "The above model may be written the following way\n",
        "\n",
        "$$\n",
        "mpg = 15.1 + 11.56 \\times (cyl == 4) + 4.64 \\times (cyl == 6)\n",
        "$$"
      ]
    },
    {
      "cell_type": "markdown",
      "metadata": {
        "id": "9xoc-PokNmb5"
      },
      "source": [
        "# Marginal effects\n",
        "\n",
        "So, let's assume the following model\n",
        "\n",
        "$$\n",
        "Y = \\beta_0 + \\beta_1 X_1 + \\beta_2 X_1 X_2\n",
        "$$\n",
        "\n",
        "Then, the marginal efffect for $X_1$ is\n",
        "\n",
        "$$\n",
        "ME(X_1) = \\frac{\\partial Y}{\\partial X_1} = \\beta_1 + \\beta_2 X_2.\n",
        "$$\n",
        "\n",
        "In order to calculate marginal effect for $X_1$ we may use the following options:\n",
        "\n",
        "1. Marginal effects at means (MEM)\n",
        "\n",
        "$$\n",
        "MEM(X_1) = \\beta_1 + \\beta_2 \\overline{X}_2,\n",
        "$$\n",
        "\n",
        "where $\\overline{X}_2$ is overall average of $X_2$ variable.\n",
        "\n",
        "2. Average marginal effect (AME)\n",
        "\n",
        "$$\n",
        "AME(X_1) = \\frac{\\sum_i \\beta_1 + \\beta_2 X_{2i}}{n},\n",
        "$$\n",
        "\n",
        "where $n$ is the sample size and $i$ is the $i$-th row of our data. So, this is just an average of $ME(X_2)$."
      ]
    },
    {
      "cell_type": "code",
      "metadata": {
        "colab": {
          "base_uri": "https://localhost:8080/"
        },
        "id": "uKGd6QkdN7Ac",
        "outputId": "13410de8-62a4-4226-ef8e-9f1d7f20a353"
      },
      "source": [
        "install.packages(\"margins\")\n",
        "library(margins)"
      ],
      "execution_count": 12,
      "outputs": [
        {
          "output_type": "stream",
          "text": [
            "Installing package into ‘/usr/local/lib/R/site-library’\n",
            "(as ‘lib’ is unspecified)\n",
            "\n",
            "also installing the dependencies ‘prediction’, ‘data.table’\n",
            "\n",
            "\n"
          ],
          "name": "stderr"
        }
      ]
    },
    {
      "cell_type": "code",
      "metadata": {
        "id": "tJqr5QbIPoUD"
      },
      "source": [
        "model1 <- lm(mpg ~ wt, mtcars)\n",
        "model2 <- lm(mpg ~ wt + I(wt^2), mtcars) ## I() allows for transformations within formula"
      ],
      "execution_count": 13,
      "outputs": []
    },
    {
      "cell_type": "markdown",
      "metadata": {
        "id": "_fb6_P8pP_Qs"
      },
      "source": [
        "Let's calculate marginal effect for `wt` using `margins` function."
      ]
    },
    {
      "cell_type": "code",
      "metadata": {
        "colab": {
          "base_uri": "https://localhost:8080/"
        },
        "id": "20KDVukiQSWa",
        "outputId": "35cd73ab-60f0-4be0-ed6a-791c0912d300"
      },
      "source": [
        "print(coef(model1))"
      ],
      "execution_count": 20,
      "outputs": [
        {
          "output_type": "stream",
          "text": [
            "(Intercept)          wt \n",
            "  37.285126   -5.344472 \n"
          ],
          "name": "stdout"
        }
      ]
    },
    {
      "cell_type": "code",
      "metadata": {
        "colab": {
          "base_uri": "https://localhost:8080/",
          "height": 125
        },
        "id": "WsH_-ZPdQFiv",
        "outputId": "065984ef-2fd1-4e97-c310-0b0d82741dc3"
      },
      "source": [
        "summary(margins(model1))"
      ],
      "execution_count": 18,
      "outputs": [
        {
          "output_type": "display_data",
          "data": {
            "text/plain": [
              "  factor AME       SE        z        p            lower    upper    \n",
              "1 wt     -5.344472 0.5591013 -9.55904 1.188543e-21 -6.44029 -4.248653"
            ],
            "text/latex": "A summary.margins: 1 × 7\n\\begin{tabular}{r|lllllll}\n  & factor & AME & SE & z & p & lower & upper\\\\\n  & <chr> & <dbl> & <dbl> & <dbl> & <dbl> & <dbl> & <dbl>\\\\\n\\hline\n\t1 & wt & -5.344472 & 0.5591013 & -9.55904 & 1.188543e-21 & -6.44029 & -4.248653\\\\\n\\end{tabular}\n",
            "text/markdown": "\nA summary.margins: 1 × 7\n\n| <!--/--> | factor &lt;chr&gt; | AME &lt;dbl&gt; | SE &lt;dbl&gt; | z &lt;dbl&gt; | p &lt;dbl&gt; | lower &lt;dbl&gt; | upper &lt;dbl&gt; |\n|---|---|---|---|---|---|---|---|\n| 1 | wt | -5.344472 | 0.5591013 | -9.55904 | 1.188543e-21 | -6.44029 | -4.248653 |\n\n",
            "text/html": [
              "<table class=\"dataframe\">\n",
              "<caption>A summary.margins: 1 × 7</caption>\n",
              "<thead>\n",
              "\t<tr><th></th><th scope=col>factor</th><th scope=col>AME</th><th scope=col>SE</th><th scope=col>z</th><th scope=col>p</th><th scope=col>lower</th><th scope=col>upper</th></tr>\n",
              "\t<tr><th></th><th scope=col>&lt;chr&gt;</th><th scope=col>&lt;dbl&gt;</th><th scope=col>&lt;dbl&gt;</th><th scope=col>&lt;dbl&gt;</th><th scope=col>&lt;dbl&gt;</th><th scope=col>&lt;dbl&gt;</th><th scope=col>&lt;dbl&gt;</th></tr>\n",
              "</thead>\n",
              "<tbody>\n",
              "\t<tr><th scope=row>1</th><td>wt</td><td>-5.344472</td><td>0.5591013</td><td>-9.55904</td><td>1.188543e-21</td><td>-6.44029</td><td>-4.248653</td></tr>\n",
              "</tbody>\n",
              "</table>\n"
            ]
          },
          "metadata": {
            "tags": []
          }
        }
      ]
    },
    {
      "cell_type": "code",
      "metadata": {
        "colab": {
          "base_uri": "https://localhost:8080/"
        },
        "id": "PwFu1uz2Qr-u",
        "outputId": "3a3e08fc-c36a-4527-b603-ee6834876e71"
      },
      "source": [
        "print(coef(model2))"
      ],
      "execution_count": 21,
      "outputs": [
        {
          "output_type": "stream",
          "text": [
            "(Intercept)          wt     I(wt^2) \n",
            "  49.930811  -13.380337    1.171087 \n"
          ],
          "name": "stdout"
        }
      ]
    },
    {
      "cell_type": "code",
      "metadata": {
        "colab": {
          "base_uri": "https://localhost:8080/",
          "height": 125
        },
        "id": "mVZSb1FzQ8zM",
        "outputId": "0f5c2ad4-985d-424a-d0fd-2edf4559cb9a"
      },
      "source": [
        "summary(margins(model2))"
      ],
      "execution_count": 22,
      "outputs": [
        {
          "output_type": "display_data",
          "data": {
            "text/plain": [
              "  factor AME       SE        z         p            lower     upper    \n",
              "1 wt     -5.844978 0.5102247 -11.45569 2.201917e-30 -6.845001 -4.844956"
            ],
            "text/latex": "A summary.margins: 1 × 7\n\\begin{tabular}{r|lllllll}\n  & factor & AME & SE & z & p & lower & upper\\\\\n  & <chr> & <dbl> & <dbl> & <dbl> & <dbl> & <dbl> & <dbl>\\\\\n\\hline\n\t1 & wt & -5.844978 & 0.5102247 & -11.45569 & 2.201917e-30 & -6.845001 & -4.844956\\\\\n\\end{tabular}\n",
            "text/markdown": "\nA summary.margins: 1 × 7\n\n| <!--/--> | factor &lt;chr&gt; | AME &lt;dbl&gt; | SE &lt;dbl&gt; | z &lt;dbl&gt; | p &lt;dbl&gt; | lower &lt;dbl&gt; | upper &lt;dbl&gt; |\n|---|---|---|---|---|---|---|---|\n| 1 | wt | -5.844978 | 0.5102247 | -11.45569 | 2.201917e-30 | -6.845001 | -4.844956 |\n\n",
            "text/html": [
              "<table class=\"dataframe\">\n",
              "<caption>A summary.margins: 1 × 7</caption>\n",
              "<thead>\n",
              "\t<tr><th></th><th scope=col>factor</th><th scope=col>AME</th><th scope=col>SE</th><th scope=col>z</th><th scope=col>p</th><th scope=col>lower</th><th scope=col>upper</th></tr>\n",
              "\t<tr><th></th><th scope=col>&lt;chr&gt;</th><th scope=col>&lt;dbl&gt;</th><th scope=col>&lt;dbl&gt;</th><th scope=col>&lt;dbl&gt;</th><th scope=col>&lt;dbl&gt;</th><th scope=col>&lt;dbl&gt;</th><th scope=col>&lt;dbl&gt;</th></tr>\n",
              "</thead>\n",
              "<tbody>\n",
              "\t<tr><th scope=row>1</th><td>wt</td><td>-5.844978</td><td>0.5102247</td><td>-11.45569</td><td>2.201917e-30</td><td>-6.845001</td><td>-4.844956</td></tr>\n",
              "</tbody>\n",
              "</table>\n"
            ]
          },
          "metadata": {
            "tags": []
          }
        }
      ]
    },
    {
      "cell_type": "code",
      "metadata": {
        "colab": {
          "base_uri": "https://localhost:8080/",
          "height": 397
        },
        "id": "Xja1I_TeRqLF",
        "outputId": "46dc949e-eb9a-42bf-9c02-32af4a72e0f6"
      },
      "source": [
        "model3 <- lm(mpg ~ factor(cyl)*factor(am), mtcars)\n",
        "summary(model3)"
      ],
      "execution_count": 25,
      "outputs": [
        {
          "output_type": "display_data",
          "data": {
            "text/plain": [
              "\n",
              "Call:\n",
              "lm(formula = mpg ~ factor(cyl) * factor(am), data = mtcars)\n",
              "\n",
              "Residuals:\n",
              "    Min      1Q  Median      3Q     Max \n",
              "-6.6750 -1.1000  0.1125  1.6875  5.8250 \n",
              "\n",
              "Coefficients:\n",
              "                         Estimate Std. Error t value Pr(>|t|)    \n",
              "(Intercept)                22.900      1.751  13.081 6.06e-13 ***\n",
              "factor(cyl)6               -3.775      2.316  -1.630 0.115155    \n",
              "factor(cyl)8               -7.850      1.957  -4.011 0.000455 ***\n",
              "factor(am)1                 5.175      2.053   2.521 0.018176 *  \n",
              "factor(cyl)6:factor(am)1   -3.733      3.095  -1.206 0.238553    \n",
              "factor(cyl)8:factor(am)1   -4.825      3.095  -1.559 0.131069    \n",
              "---\n",
              "Signif. codes:  0 ‘***’ 0.001 ‘**’ 0.01 ‘*’ 0.05 ‘.’ 0.1 ‘ ’ 1\n",
              "\n",
              "Residual standard error: 3.032 on 26 degrees of freedom\n",
              "Multiple R-squared:  0.7877,\tAdjusted R-squared:  0.7469 \n",
              "F-statistic: 19.29 on 5 and 26 DF,  p-value: 5.179e-08\n"
            ]
          },
          "metadata": {
            "tags": []
          }
        }
      ]
    },
    {
      "cell_type": "code",
      "metadata": {
        "colab": {
          "base_uri": "https://localhost:8080/",
          "height": 185
        },
        "id": "5IRyl5hiSGFC",
        "outputId": "1de357db-5d5a-4d9a-d9f9-1e18d8dd587a"
      },
      "source": [
        "summary(margins(model3))"
      ],
      "execution_count": 26,
      "outputs": [
        {
          "output_type": "display_data",
          "data": {
            "text/plain": [
              "  factor AME       SE       z         p            lower       upper    \n",
              "1 am1     2.247396 1.334626  1.683915 9.219818e-02  -0.3684227  4.863214\n",
              "2 cyl6   -5.291667 1.608214 -3.290400 1.000449e-03  -8.4437073 -2.139626\n",
              "3 cyl8   -9.810156 1.516252 -6.470004 9.800018e-11 -12.7819554 -6.838357"
            ],
            "text/latex": "A summary.margins: 3 × 7\n\\begin{tabular}{r|lllllll}\n  & factor & AME & SE & z & p & lower & upper\\\\\n  & <chr> & <dbl> & <dbl> & <dbl> & <dbl> & <dbl> & <dbl>\\\\\n\\hline\n\t1 & am1  &  2.247396 & 1.334626 &  1.683915 & 9.219818e-02 &  -0.3684227 &  4.863214\\\\\n\t2 & cyl6 & -5.291667 & 1.608214 & -3.290400 & 1.000449e-03 &  -8.4437073 & -2.139626\\\\\n\t3 & cyl8 & -9.810156 & 1.516252 & -6.470004 & 9.800018e-11 & -12.7819554 & -6.838357\\\\\n\\end{tabular}\n",
            "text/markdown": "\nA summary.margins: 3 × 7\n\n| <!--/--> | factor &lt;chr&gt; | AME &lt;dbl&gt; | SE &lt;dbl&gt; | z &lt;dbl&gt; | p &lt;dbl&gt; | lower &lt;dbl&gt; | upper &lt;dbl&gt; |\n|---|---|---|---|---|---|---|---|\n| 1 | am1  |  2.247396 | 1.334626 |  1.683915 | 9.219818e-02 |  -0.3684227 |  4.863214 |\n| 2 | cyl6 | -5.291667 | 1.608214 | -3.290400 | 1.000449e-03 |  -8.4437073 | -2.139626 |\n| 3 | cyl8 | -9.810156 | 1.516252 | -6.470004 | 9.800018e-11 | -12.7819554 | -6.838357 |\n\n",
            "text/html": [
              "<table class=\"dataframe\">\n",
              "<caption>A summary.margins: 3 × 7</caption>\n",
              "<thead>\n",
              "\t<tr><th></th><th scope=col>factor</th><th scope=col>AME</th><th scope=col>SE</th><th scope=col>z</th><th scope=col>p</th><th scope=col>lower</th><th scope=col>upper</th></tr>\n",
              "\t<tr><th></th><th scope=col>&lt;chr&gt;</th><th scope=col>&lt;dbl&gt;</th><th scope=col>&lt;dbl&gt;</th><th scope=col>&lt;dbl&gt;</th><th scope=col>&lt;dbl&gt;</th><th scope=col>&lt;dbl&gt;</th><th scope=col>&lt;dbl&gt;</th></tr>\n",
              "</thead>\n",
              "<tbody>\n",
              "\t<tr><th scope=row>1</th><td>am1 </td><td> 2.247396</td><td>1.334626</td><td> 1.683915</td><td>9.219818e-02</td><td> -0.3684227</td><td> 4.863214</td></tr>\n",
              "\t<tr><th scope=row>2</th><td>cyl6</td><td>-5.291667</td><td>1.608214</td><td>-3.290400</td><td>1.000449e-03</td><td> -8.4437073</td><td>-2.139626</td></tr>\n",
              "\t<tr><th scope=row>3</th><td>cyl8</td><td>-9.810156</td><td>1.516252</td><td>-6.470004</td><td>9.800018e-11</td><td>-12.7819554</td><td>-6.838357</td></tr>\n",
              "</tbody>\n",
              "</table>\n"
            ]
          },
          "metadata": {
            "tags": []
          }
        }
      ]
    }
  ]
}