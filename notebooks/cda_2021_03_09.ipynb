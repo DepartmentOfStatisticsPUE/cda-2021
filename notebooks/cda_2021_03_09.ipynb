{
  "nbformat": 4,
  "nbformat_minor": 0,
  "metadata": {
    "colab": {
      "name": "cda-2021-03-09.ipynb",
      "provenance": [],
      "authorship_tag": "ABX9TyPmsA/Iv/ePJL0J+oiXnZQ5",
      "include_colab_link": true
    },
    "kernelspec": {
      "name": "ir",
      "display_name": "R"
    }
  },
  "cells": [
    {
      "cell_type": "markdown",
      "metadata": {
        "id": "view-in-github",
        "colab_type": "text"
      },
      "source": [
        "<a href=\"https://colab.research.google.com/github/DepartmentOfStatisticsPUE/cda-2021/blob/main/notebooks/cda_2021_03_09.ipynb\" target=\"_parent\"><img src=\"https://colab.research.google.com/assets/colab-badge.svg\" alt=\"Open In Colab\"/></a>"
      ]
    },
    {
      "cell_type": "markdown",
      "metadata": {
        "id": "YQb_1ID5s2t8"
      },
      "source": [
        "## Distributions -- excercises"
      ]
    },
    {
      "cell_type": "markdown",
      "metadata": {
        "id": "wl0KTslOsQcG"
      },
      "source": [
        "**Excercise 1**. Assume that football player with success rate 0.4 shot 10 times on goal. Let $X$ be a random variable denoting number of successful scores.  Please find:\n",
        "\n",
        "1. Distribution of $X$\n",
        "2. Probability that football player score exactly 4 times ($P(X=4)$)\n",
        "3. Probability that football player score at least 7 times ($P(X>=7) = 1- P(X <= 6)$)"
      ]
    },
    {
      "cell_type": "code",
      "metadata": {
        "id": "3TqkUiWZvHLY"
      },
      "source": [
        ""
      ],
      "execution_count": null,
      "outputs": []
    },
    {
      "cell_type": "markdown",
      "metadata": {
        "id": "PsJ_aacysd_9"
      },
      "source": [
        "**Excercise 2.** Number of car accidents in one day in some city follows Poisson distribution with expected value $\\lambda=2$. Find the probability that at most 4 car accidents happen.\n"
      ]
    },
    {
      "cell_type": "code",
      "metadata": {
        "id": "s4EOwUOSsJJT"
      },
      "source": [
        ""
      ],
      "execution_count": null,
      "outputs": []
    }
  ]
}