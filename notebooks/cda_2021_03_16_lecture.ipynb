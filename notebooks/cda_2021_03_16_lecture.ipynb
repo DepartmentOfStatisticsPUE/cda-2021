{
  "nbformat": 4,
  "nbformat_minor": 0,
  "metadata": {
    "colab": {
      "name": "cda-2021-03-16.ipynb",
      "provenance": [],
      "authorship_tag": "ABX9TyM2MAEEf6llBfQxYZM9Hvay",
      "include_colab_link": true
    },
    "kernelspec": {
      "name": "ir",
      "display_name": "R"
    }
  },
  "cells": [
    {
      "cell_type": "markdown",
      "metadata": {
        "id": "view-in-github",
        "colab_type": "text"
      },
      "source": [
        "<a href=\"https://colab.research.google.com/github/DepartmentOfStatisticsPUE/cda-2021/blob/main/notebooks/cda_2021_03_16_lecture.ipynb\" target=\"_parent\"><img src=\"https://colab.research.google.com/assets/colab-badge.svg\" alt=\"Open In Colab\"/></a>"
      ]
    },
    {
      "cell_type": "markdown",
      "metadata": {
        "id": "wpmVej3lGQ2p"
      },
      "source": [
        "# Logaritms\n",
        "\n",
        "$$\n",
        "\\log(a * b) = \\log(a) + \\log(b)\n",
        "$$\n",
        "\n",
        "$$\n",
        "a_1 * a_2 * a_3 ... * a_n = \\prod_{j=1}^n a_j\n",
        "$$\n",
        "\n",
        "$$\n",
        "\\log \\left( \\prod_{j=1}^n a_j \\right) = \\log \\left( a_1 * a_2 * a_3 ... * a_n \\right) = \\log(a_1) + \\log(a_2) + ... + \\log(a_n) = \\sum_{j=1}^n \\log(a_j)\n",
        "$$"
      ]
    },
    {
      "cell_type": "markdown",
      "metadata": {
        "id": "89BzkQQMFPIE"
      },
      "source": [
        "# Maximum likelihood theory\n",
        "\n",
        "The task is to estimate MLE of Poisson($\\lambda$) distribution\n",
        "\n",
        "$$\n",
        "L(\\lambda; x) = \\prod_{j=1}^N Pois(\\lambda, x_j) = \\prod_{j=1}^N \\exp(-\\lambda) \\frac{\\lambda^{x_j}}{x_j!}\n",
        "$$"
      ]
    },
    {
      "cell_type": "markdown",
      "metadata": {
        "id": "yR2lgCcvFo8w"
      },
      "source": [
        "1. we need to transform $L$ using log function"
      ]
    },
    {
      "cell_type": "markdown",
      "metadata": {
        "id": "tPob6usxFxgK"
      },
      "source": [
        "$$\n",
        "\\log L(\\lambda; x) = \\log \\left(\\prod_{j=1}^N \\exp(-\\lambda) \\frac{\\lambda^{x_j}}{x_j!} \\right) = l\n",
        "$$ \n",
        "\n",
        "$$\n",
        "l = \\sum_{j = 1}^N \\log \\left( \\exp(-\\lambda) \\frac{\\lambda^{x_j}}{x_j!} \\right) = \\sum_{j=1}^N \\left(\\log \\exp(-\\lambda) + \\log \\left(\\frac{\\lambda^{x_j}}{x_j!} \\right) \\right) = \n",
        "\\sum_{j=1}^N \\left( \\log(\\exp(-\\lambda)) + \\log(\\lambda^{x_j}) - \\log(x_j!) \\right)  =\n",
        "\\sum_{j=1}^N \\left(- \\lambda + x_j \\log(\\lambda) - log(x_j!) \\right) = \n",
        "\\sum_{j=1}^N -\\lambda + \\sum_{j=1}^N x_j \\log(\\lambda) - \\sum_{j=1}^N\\log(x_j!) = \n",
        "-N \\lambda + \\log(\\lambda) \\sum_{j=1}^N x_j - \\sum_{j=1}^N \\log(x_j!)\n",
        "$$"
      ]
    },
    {
      "cell_type": "markdown",
      "metadata": {
        "id": "8ssnQ8u5HMiJ"
      },
      "source": [
        "2. derive formula for the gradient (first derivative) of log-likelihod function and solve it by comparing to 0"
      ]
    },
    {
      "cell_type": "markdown",
      "metadata": {
        "id": "QStBppf6JPzz"
      },
      "source": [
        "$$\n",
        "\\frac{\\partial l}{\\partial \\lambda} = -N + \\frac{\\sum_{j=1}^N x_j}{\\lambda}  = 0\n",
        "$$\n",
        "\n",
        "$$\n",
        "\\hat{\\lambda}_{MLE} = \\frac{1}{N} \\sum_{j=1}^N x_j\n",
        "$$\n",
        "\n",
        "In the literature you will find this kind of results as \"closed form\" or \"analitycal form\"."
      ]
    },
    {
      "cell_type": "code",
      "metadata": {
        "colab": {
          "base_uri": "https://localhost:8080/",
          "height": 34
        },
        "id": "Y-nf_y58JO5N",
        "outputId": "e32dbf58-a2e1-4ca8-9174-83071ebdce11"
      },
      "source": [
        "set.seed(123)\n",
        "x <- rpois(n = 100, lambda = 4.6)\n",
        "head(x)"
      ],
      "execution_count": 1,
      "outputs": [
        {
          "output_type": "display_data",
          "data": {
            "text/plain": [
              "[1] 3 6 4 7 8 1"
            ],
            "text/latex": "\\begin{enumerate*}\n\\item 3\n\\item 6\n\\item 4\n\\item 7\n\\item 8\n\\item 1\n\\end{enumerate*}\n",
            "text/markdown": "1. 3\n2. 6\n3. 4\n4. 7\n5. 8\n6. 1\n\n\n",
            "text/html": [
              "<style>\n",
              ".list-inline {list-style: none; margin:0; padding: 0}\n",
              ".list-inline>li {display: inline-block}\n",
              ".list-inline>li:not(:last-child)::after {content: \"\\00b7\"; padding: 0 .5ex}\n",
              "</style>\n",
              "<ol class=list-inline><li>3</li><li>6</li><li>4</li><li>7</li><li>8</li><li>1</li></ol>\n"
            ]
          },
          "metadata": {
            "tags": []
          }
        }
      ]
    },
    {
      "cell_type": "code",
      "metadata": {
        "colab": {
          "base_uri": "https://localhost:8080/",
          "height": 34
        },
        "id": "EJwz1yioOQq1",
        "outputId": "fd17e5e6-af1d-4177-fc21-e83b37243809"
      },
      "source": [
        "mean(x)"
      ],
      "execution_count": 2,
      "outputs": [
        {
          "output_type": "display_data",
          "data": {
            "text/plain": [
              "[1] 4.5"
            ],
            "text/latex": "4.5",
            "text/markdown": "4.5",
            "text/html": [
              "4.5"
            ]
          },
          "metadata": {
            "tags": []
          }
        }
      ]
    },
    {
      "cell_type": "code",
      "metadata": {
        "colab": {
          "base_uri": "https://localhost:8080/",
          "height": 34
        },
        "id": "PwPMB6TROozn",
        "outputId": "b3eef39f-25e2-49d9-e9d9-3560128e03b3"
      },
      "source": [
        "set.seed(123)\n",
        "x <- rpois(n = 100000, lambda = 4.6)\n",
        "mean(x)"
      ],
      "execution_count": 3,
      "outputs": [
        {
          "output_type": "display_data",
          "data": {
            "text/plain": [
              "[1] 4.59442"
            ],
            "text/latex": "4.59442",
            "text/markdown": "4.59442",
            "text/html": [
              "4.59442"
            ]
          },
          "metadata": {
            "tags": []
          }
        }
      ]
    },
    {
      "cell_type": "markdown",
      "metadata": {
        "id": "l-006LenO-N6"
      },
      "source": [
        "The general strategy for maximum likelihood method is as follows:\n",
        "\n",
        "1. we need to specify distribution and its parameters\n",
        "2. we need to have some raw data \n",
        "3. we specify likelihood function denoted by $L()$\n",
        "4. we specify log-likelihood function denoted by $\\log L()$ or $l()$ or $\\ell()$\n",
        "5. we need to solve the following formula to derive MLE estimate for parameters\n",
        "\n",
        "$$\n",
        "\\frac{\\partial l(\\theta; x)}{\\partial \\theta} = 0\n",
        "$$\n",
        "\n",
        "6. solving above will provide us $\\hat{\\theta}_{MLE}$\n"
      ]
    },
    {
      "cell_type": "markdown",
      "metadata": {
        "id": "g1mmLoRSPoxU"
      },
      "source": [
        ""
      ]
    }
  ]
}